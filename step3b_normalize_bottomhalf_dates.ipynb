{
 "cells": [
  {
   "cell_type": "code",
   "execution_count": 2,
   "metadata": {
    "collapsed": true
   },
   "outputs": [],
   "source": [
    "import csv"
   ]
  },
  {
   "cell_type": "code",
   "execution_count": 3,
   "metadata": {
    "collapsed": false
   },
   "outputs": [],
   "source": [
    "with open('./data/converted_crime_data/Crime_pass2_strip_bottomhalf.csv') as f:\n",
    "    data = [row for row in csv.reader(f)]"
   ]
  },
  {
   "cell_type": "code",
   "execution_count": 4,
   "metadata": {
    "collapsed": false
   },
   "outputs": [
    {
     "data": {
      "text/plain": [
       "[(0, 'ADDRESS'),\n",
       " (1, 'Apt'),\n",
       " (2, 'Caee'),\n",
       " (3, 'Primary Offense'),\n",
       " (4, 'Off_Code'),\n",
       " (5, 'Offense'),\n",
       " (6, 'tract'),\n",
       " (7, 'repdate'),\n",
       " (8, 'date_rept'),\n",
       " (9, 'date_occu'),\n",
       " (10, 'hour_occu'),\n",
       " (11, 'dow1'),\n",
       " (12, 'date_fnd'),\n",
       " (13, 'hour_fnd'),\n",
       " (14, ''),\n",
       " (15, ''),\n",
       " (16, ''),\n",
       " (17, ''),\n",
       " (18, '')]"
      ]
     },
     "execution_count": 4,
     "metadata": {},
     "output_type": "execute_result"
    }
   ],
   "source": [
    "list(enumerate(data[0]))"
   ]
  },
  {
   "cell_type": "code",
   "execution_count": 51,
   "metadata": {
    "collapsed": false
   },
   "outputs": [
    {
     "name": "stdout",
     "output_type": "stream",
     "text": [
      "Counter({5: 1735, 2: 1381})\n",
      "defaultdict(<class 'int'>, {16: 1735, 17: 3116, 18: 3116, 14: 1735, 15: 1735})\n"
     ]
    }
   ],
   "source": [
    "from collections import Counter, defaultdict\n",
    "print(Counter(sum(x == '' for x in row[14:]) for row in data))\n",
    "\n",
    "counts = defaultdict(int)\n",
    "for row in data:\n",
    "    for i, x in enumerate(row[14:]):\n",
    "        if x == '':\n",
    "            counts[i+14] += 1\n",
    "print(counts)"
   ]
  },
  {
   "cell_type": "markdown",
   "metadata": {},
   "source": [
    "so over half of the rows don't have address data...this is a property of the intial data set"
   ]
  },
  {
   "cell_type": "code",
   "execution_count": 94,
   "metadata": {
    "collapsed": true
   },
   "outputs": [],
   "source": [
    "from random import sample\n",
    "def get_sampled_row(row_index, data=data, sample_size=30):\n",
    "    return [data[0][row_index]] + [x[row_index] for x in sample(data[1:], sample_size)]"
   ]
  },
  {
   "cell_type": "code",
   "execution_count": 39,
   "metadata": {
    "collapsed": false
   },
   "outputs": [
    {
     "data": {
      "text/plain": [
       "Counter({0: 1103, 1: 2012})"
      ]
     },
     "execution_count": 39,
     "metadata": {},
     "output_type": "execute_result"
    }
   ],
   "source": [
    "get_sampled_row(9, sample_size=50)\n",
    "Counter(int(row[9] != '') for row in data[1:])"
   ]
  },
  {
   "cell_type": "markdown",
   "metadata": {},
   "source": [
    "so about 1/3 are empty...in 2013 there's a shift of date_occ -> hour_occ and hour_occ -> dow1"
   ]
  },
  {
   "cell_type": "code",
   "execution_count": 55,
   "metadata": {
    "collapsed": false
   },
   "outputs": [
    {
     "data": {
      "text/plain": [
       "['', '16', '', '', '70', '848', '73', '', '', '884', '']"
      ]
     },
     "execution_count": 55,
     "metadata": {},
     "output_type": "execute_result"
    }
   ],
   "source": [
    "get_sampled_row(14, sample_size=10)"
   ]
  },
  {
   "cell_type": "markdown",
   "metadata": {},
   "source": [
    "so rows 17 and 18 are garbage data universally\n",
    "row 14 is still FID\n",
    "\n",
    "let's split up into two datasets for the two schemas\n",
    "let's find out if there are runs on column 9 that enable a clean easy split\n",
    "speculate that the year 2013 starts at data[i=2013] from the Counter result"
   ]
  },
  {
   "cell_type": "code",
   "execution_count": 62,
   "metadata": {
    "collapsed": false
   },
   "outputs": [
    {
     "data": {
      "text/plain": [
       "True"
      ]
     },
     "execution_count": 62,
     "metadata": {},
     "output_type": "execute_result"
    }
   ],
   "source": [
    "all(row[9] != ''  for row in data[1:2013]) and all(row[9] == '' for row in data[2013:])"
   ]
  },
  {
   "cell_type": "code",
   "execution_count": 86,
   "metadata": {
    "collapsed": true
   },
   "outputs": [],
   "source": [
    "data_a = [data[0]] + data[1:2013]\n",
    "data_b = [data[0]] + data[2013:]"
   ]
  },
  {
   "cell_type": "markdown",
   "metadata": {},
   "source": [
    "delete rows 17 and 18...easy since len(row) == 19"
   ]
  },
  {
   "cell_type": "code",
   "execution_count": 87,
   "metadata": {
    "collapsed": true
   },
   "outputs": [],
   "source": [
    "data_a = [row[:17] for row in data_a]\n",
    "data_b = [row[:17] for row in data_b]"
   ]
  },
  {
   "cell_type": "markdown",
   "metadata": {},
   "source": [
    "# data_a"
   ]
  },
  {
   "cell_type": "code",
   "execution_count": 88,
   "metadata": {
    "collapsed": false,
    "scrolled": true
   },
   "outputs": [
    {
     "data": {
      "text/plain": [
       "True"
      ]
     },
     "execution_count": 88,
     "metadata": {},
     "output_type": "execute_result"
    }
   ],
   "source": [
    "all(row[7] == '' for row in data_a[1:])"
   ]
  },
  {
   "cell_type": "code",
   "execution_count": 90,
   "metadata": {
    "collapsed": false
   },
   "outputs": [
    {
     "data": {
      "text/plain": [
       "[(0, ('ADDRESS', '1520 LIGURIA AV')),\n",
       " (1, ('Apt', '')),\n",
       " (2, ('Caee', '11000040')),\n",
       " (3, ('Primary Offense', '1')),\n",
       " (4, ('Off_Code', 'BUA')),\n",
       " (5, ('Offense', 'BURGLARY RESIDENTIAL')),\n",
       " (6, ('tract', '07U')),\n",
       " (7, ('repdate', '')),\n",
       " (8, ('date_rept', '01/ 3/2011')),\n",
       " (9, ('date_occu', '11/01/03')),\n",
       " (10, ('hour_occu', '[$-409]12/23/10 19:00 a12/p12')),\n",
       " (11, ('dow1', '[$-409]19:00 a12/p12')),\n",
       " (12, ('date_fnd', '[$-409]12/28/10 22:00 a12/p12')),\n",
       " (13, ('hour_fnd', '[$-409]22:00 a12/p12')),\n",
       " (14, ('', '385')),\n",
       " (15, ('', '891902.84400000004')),\n",
       " (16, ('', '502168.55800000002'))]"
      ]
     },
     "execution_count": 90,
     "metadata": {},
     "output_type": "execute_result"
    }
   ],
   "source": [
    "list(enumerate(zip(data_a[0], data_a[1])))"
   ]
  },
  {
   "cell_type": "markdown",
   "metadata": {},
   "source": [
    "throw out repdate (i=7) and hour_occu (i=10) and use dow1 as hour_occu"
   ]
  },
  {
   "cell_type": "code",
   "execution_count": 91,
   "metadata": {
    "collapsed": true
   },
   "outputs": [],
   "source": [
    "data_a = [\n",
    "    row[:7] + row[8:10] + row[11:]\n",
    "    for row in data_a[1:]\n",
    "]"
   ]
  },
  {
   "cell_type": "code",
   "execution_count": 84,
   "metadata": {
    "collapsed": true
   },
   "outputs": [],
   "source": [
    "data_a_key = [\n",
    "    'address', 'apt',\n",
    "    'case', 'primary_offense', 'offense_code', 'offense', 'tract',\n",
    "    'date_rept',\n",
    "    'date_occu', 'hour_occu', \n",
    "    'date_fnd', 'hour_fnd',\n",
    "    'fid', 'x', 'y',\n",
    "]"
   ]
  },
  {
   "cell_type": "code",
   "execution_count": 93,
   "metadata": {
    "collapsed": false
   },
   "outputs": [
    {
     "data": {
      "text/plain": [
       "[(0, ('address', '1520 LIGURIA AV')),\n",
       " (1, ('apt', '')),\n",
       " (2, ('case', '11000040')),\n",
       " (3, ('primary_offense', '1')),\n",
       " (4, ('offense_code', 'BUA')),\n",
       " (5, ('offense', 'BURGLARY RESIDENTIAL')),\n",
       " (6, ('tract', '07U')),\n",
       " (7, ('date_rept', '01/ 3/2011')),\n",
       " (8, ('date_occu', '11/01/03')),\n",
       " (9, ('hour_occu', '[$-409]19:00 a12/p12')),\n",
       " (10, ('date_fnd', '[$-409]12/28/10 22:00 a12/p12')),\n",
       " (11, ('hour_fnd', '[$-409]22:00 a12/p12')),\n",
       " (12, ('fid', '385')),\n",
       " (13, ('x', '891902.84400000004')),\n",
       " (14, ('y', '502168.55800000002'))]"
      ]
     },
     "execution_count": 93,
     "metadata": {},
     "output_type": "execute_result"
    }
   ],
   "source": [
    "list(enumerate(zip(data_a_key, data_a[0])))"
   ]
  },
  {
   "cell_type": "code",
   "execution_count": 139,
   "metadata": {
    "collapsed": false,
    "scrolled": false
   },
   "outputs": [
    {
     "data": {
      "text/plain": [
       "['[$-409]12/28/10 22:00 a12/p12',\n",
       " '03/22/2011',\n",
       " '02/21/2011',\n",
       " '01/29/2011',\n",
       " '02/25/2011',\n",
       " '08/27/2012',\n",
       " '10/10/2011',\n",
       " '01/19/2011',\n",
       " '03/23/2011',\n",
       " '03/30/2011',\n",
       " '10/ 7/2011',\n",
       " '09/29/2011',\n",
       " '09/ 7/2011',\n",
       " '10/29/2012',\n",
       " '08/29/2011',\n",
       " '12/11/2011',\n",
       " '08/27/2012',\n",
       " '10/31/2012',\n",
       " '04/10/2011',\n",
       " '02/ 8/2011',\n",
       " '12/ 4/2011',\n",
       " '01/19/2011',\n",
       " '11/30/2012',\n",
       " '08/30/2011',\n",
       " '02/20/2011',\n",
       " '09/13/2011',\n",
       " '10/ 5/2011',\n",
       " '12/10/2011',\n",
       " '07/17/2012',\n",
       " '03/23/2011',\n",
       " '02/16/2011']"
      ]
     },
     "execution_count": 139,
     "metadata": {},
     "output_type": "execute_result"
    }
   ],
   "source": [
    "get_sampled_row(10, data=data_a, sample_size=30)"
   ]
  },
  {
   "cell_type": "markdown",
   "metadata": {},
   "source": [
    "row 7\n",
    "    s.replace(' ', '0')\n",
    "    %m/%d/%Y\n",
    "row 8\n",
    "    %y/%m/%d\n",
    "row 9, 11\n",
    "    s[6:11].replace(':', '')\n",
    "row 10\n",
    "    s.replace('[$-409]', '').replace('/10 ', '/2010 ').replace('/10 ', '/2011 ')[:10].replace(' ', '0')"
   ]
  },
  {
   "cell_type": "code",
   "execution_count": 146,
   "metadata": {
    "collapsed": true
   },
   "outputs": [],
   "source": [
    "from datetime import datetime\n",
    "clean7 = lambda s: datetime.strptime(s.replace(' ', '0'), '%m/%d/%Y')\n",
    "clean8 = lambda s: datetime.strptime(s, '%y/%m/%d')\n",
    "clean911 = lambda s: s[7:12].replace(':', '')\n",
    "clean10 = lambda s: datetime.strptime(\n",
    "    s.replace('[$-409]', '').replace('/10 ', '/2010 ').replace('/10 ', '/2011 ')[:10].replace(' ', '0'),\n",
    "    '%m/%d/%Y')"
   ]
  },
  {
   "cell_type": "code",
   "execution_count": 147,
   "metadata": {
    "collapsed": true
   },
   "outputs": [],
   "source": [
    "def clean_a_row(row):\n",
    "    return row[:7] + [\n",
    "        clean7(row[7]),\n",
    "        clean8(row[8]),\n",
    "        clean911(row[9]),\n",
    "        clean10(row[10]),\n",
    "        clean911(row[11]),\n",
    "    ] + row[12:]"
   ]
  },
  {
   "cell_type": "code",
   "execution_count": 150,
   "metadata": {
    "collapsed": false,
    "scrolled": false
   },
   "outputs": [
    {
     "data": {
      "text/plain": [
       "[(0, ('5800 SAN AMARO DR', '5800 SAN AMARO DR')),\n",
       " (1, ('', '')),\n",
       " (2, ('11004756', '11004756')),\n",
       " (3, ('2', '2')),\n",
       " (4, ('ZOA', 'ZOA')),\n",
       " (5, ('TRESPASS WARNING', 'TRESPASS WARNING')),\n",
       " (6, ('07U', '07U')),\n",
       " (7, ('06/20/2011', datetime.datetime(2011, 6, 20, 0, 0))),\n",
       " (8, ('11/06/20', datetime.datetime(2011, 6, 20, 0, 0))),\n",
       " (9, ('[$-409]14:00 a06/p06', '1400')),\n",
       " (10, ('06/20/2011', datetime.datetime(2011, 6, 20, 0, 0))),\n",
       " (11, ('[$-409]10:00 a06/p06', '1000')),\n",
       " (12, ('586', '586')),\n",
       " (13, ('891990.73199999996', '891990.73199999996')),\n",
       " (14, ('503116.70500000002', '503116.70500000002'))]"
      ]
     },
     "execution_count": 150,
     "metadata": {},
     "output_type": "execute_result"
    }
   ],
   "source": [
    "list(enumerate(zip(data_a[666], clean_a_row(data_a[666]))))"
   ]
  },
  {
   "cell_type": "code",
   "execution_count": 151,
   "metadata": {
    "collapsed": true
   },
   "outputs": [],
   "source": [
    "data_a_clean = [clean_a_row(row) for row in data_a]"
   ]
  },
  {
   "cell_type": "markdown",
   "metadata": {},
   "source": [
    "# data_b"
   ]
  },
  {
   "cell_type": "code",
   "execution_count": 153,
   "metadata": {
    "collapsed": false,
    "scrolled": true
   },
   "outputs": [
    {
     "data": {
      "text/plain": [
       "[(0, ('ADDRESS', '5030 BRUNSON DR')),\n",
       " (1, ('Apt', '')),\n",
       " (2, ('Caee', '13000129')),\n",
       " (3, ('Primary Offense', '1')),\n",
       " (4, ('Off_Code', 'ZOA')),\n",
       " (5, ('Offense', 'TRESPASS WARNING')),\n",
       " (6, ('tract', '07U')),\n",
       " (7, ('repdate', '')),\n",
       " (8, ('date_rept', '01/08/13')),\n",
       " (9, ('date_occu', '')),\n",
       " (10, ('hour_occu', '01/08/13')),\n",
       " (11, ('dow1', '0840')),\n",
       " (12, ('date_fnd', '01/08/13')),\n",
       " (13, ('hour_fnd', '0844')),\n",
       " (14, ('', '')),\n",
       " (15, ('', '')),\n",
       " (16, ('', ''))]"
      ]
     },
     "execution_count": 153,
     "metadata": {},
     "output_type": "execute_result"
    }
   ],
   "source": [
    "list(enumerate(zip(data_b[0], data_b[1])))"
   ]
  },
  {
   "cell_type": "code",
   "execution_count": 157,
   "metadata": {
    "collapsed": false,
    "scrolled": true
   },
   "outputs": [
    {
     "data": {
      "text/plain": [
       "True"
      ]
     },
     "execution_count": 157,
     "metadata": {},
     "output_type": "execute_result"
    }
   ],
   "source": [
    "all(row[7] == '' for row in data_b[1:]) and all(row[9] == '' for row in data_b[1:])"
   ]
  },
  {
   "cell_type": "markdown",
   "metadata": {},
   "source": [
    "throw out i=7, 9 "
   ]
  },
  {
   "cell_type": "code",
   "execution_count": 158,
   "metadata": {
    "collapsed": true
   },
   "outputs": [],
   "source": [
    "data_b = [\n",
    "    row[:7] + row[8:9] + row[10:]\n",
    "    for row in data_b[1:]\n",
    "]"
   ]
  },
  {
   "cell_type": "code",
   "execution_count": 160,
   "metadata": {
    "collapsed": true
   },
   "outputs": [],
   "source": [
    "data_b_key = [\n",
    "    'address', 'apt',\n",
    "    'case', 'primary_offense', 'offense_code', 'offense', 'tract',\n",
    "    'date_rept',\n",
    "    'date_occu', 'hour_occu', \n",
    "    'date_fnd', 'hour_fnd',\n",
    "    'fid', 'x', 'y',\n",
    "]"
   ]
  },
  {
   "cell_type": "code",
   "execution_count": 161,
   "metadata": {
    "collapsed": false,
    "scrolled": true
   },
   "outputs": [
    {
     "data": {
      "text/plain": [
       "[(0, ('address', '5030 BRUNSON DR')),\n",
       " (1, ('apt', '')),\n",
       " (2, ('case', '13000129')),\n",
       " (3, ('primary_offense', '1')),\n",
       " (4, ('offense_code', 'ZOA')),\n",
       " (5, ('offense', 'TRESPASS WARNING')),\n",
       " (6, ('tract', '07U')),\n",
       " (7, ('date_rept', '01/08/13')),\n",
       " (8, ('date_occu', '01/08/13')),\n",
       " (9, ('hour_occu', '0840')),\n",
       " (10, ('date_fnd', '01/08/13')),\n",
       " (11, ('hour_fnd', '0844')),\n",
       " (12, ('fid', '')),\n",
       " (13, ('x', '')),\n",
       " (14, ('y', ''))]"
      ]
     },
     "execution_count": 161,
     "metadata": {},
     "output_type": "execute_result"
    }
   ],
   "source": [
    "list(enumerate(zip(data_b_key, data_b[0])))"
   ]
  },
  {
   "cell_type": "code",
   "execution_count": 176,
   "metadata": {
    "collapsed": false,
    "scrolled": false
   },
   "outputs": [
    {
     "data": {
      "text/plain": [
       "['0844',\n",
       " '0100',\n",
       " '0158',\n",
       " '1621',\n",
       " '2359',\n",
       " '1351',\n",
       " '1825',\n",
       " '2102',\n",
       " '0733',\n",
       " '1639',\n",
       " '1130',\n",
       " '0900',\n",
       " '2030',\n",
       " '2249',\n",
       " '0900',\n",
       " '0850',\n",
       " '1712',\n",
       " '0445',\n",
       " '1240',\n",
       " '1030',\n",
       " '1630',\n",
       " '1630',\n",
       " '1745',\n",
       " '1010',\n",
       " '0800',\n",
       " '0713',\n",
       " '0814',\n",
       " '0745',\n",
       " '1000',\n",
       " '2355',\n",
       " '1220']"
      ]
     },
     "execution_count": 176,
     "metadata": {},
     "output_type": "execute_result"
    }
   ],
   "source": [
    "get_sampled_row(11, data=data_b)"
   ]
  },
  {
   "cell_type": "markdown",
   "metadata": {},
   "source": [
    "row7,8,10\n",
    "    %m/%d/%y"
   ]
  },
  {
   "cell_type": "code",
   "execution_count": 183,
   "metadata": {
    "collapsed": true
   },
   "outputs": [],
   "source": [
    "clean7810 = lambda s: datetime.strptime(s, '%m/%d/%y')"
   ]
  },
  {
   "cell_type": "code",
   "execution_count": 179,
   "metadata": {
    "collapsed": true
   },
   "outputs": [],
   "source": [
    "def clean_b_row(row):\n",
    "    return row[:7] + [\n",
    "        clean7810(row[7]),\n",
    "        clean7810(row[8]),\n",
    "        row[9],\n",
    "        clean7810(row[10]),\n",
    "    ] + row[11:]"
   ]
  },
  {
   "cell_type": "code",
   "execution_count": 184,
   "metadata": {
    "collapsed": false
   },
   "outputs": [],
   "source": [
    "data_b_clean = [clean_b_row(row) for row in data_b]"
   ]
  },
  {
   "cell_type": "code",
   "execution_count": 186,
   "metadata": {
    "collapsed": false,
    "scrolled": false
   },
   "outputs": [
    {
     "data": {
      "text/plain": [
       "[(0, ('6200 SAN AMARO DR', '6200 SAN AMARO DR')),\n",
       " (1, ('', '')),\n",
       " (2, ('13000599', '13000599')),\n",
       " (3, ('1', '1')),\n",
       " (4, ('ZOB', 'ZOB')),\n",
       " (5, ('WARRANT ARREST', 'WARRANT ARREST')),\n",
       " (6, ('07U', '07U')),\n",
       " (7, ('01/25/13', datetime.datetime(2013, 1, 25, 0, 0))),\n",
       " (8, ('01/24/13', datetime.datetime(2013, 1, 24, 0, 0))),\n",
       " (9, ('2230', '2230')),\n",
       " (10, ('01/24/13', datetime.datetime(2013, 1, 24, 0, 0))),\n",
       " (11, ('2235', '2235')),\n",
       " (12, ('', '')),\n",
       " (13, ('', '')),\n",
       " (14, ('', ''))]"
      ]
     },
     "execution_count": 186,
     "metadata": {},
     "output_type": "execute_result"
    }
   ],
   "source": [
    "list(enumerate(zip(data_b[66], data_b_clean[66])))"
   ]
  },
  {
   "cell_type": "markdown",
   "metadata": {},
   "source": [
    "# union data"
   ]
  },
  {
   "cell_type": "code",
   "execution_count": 187,
   "metadata": {
    "collapsed": true
   },
   "outputs": [],
   "source": [
    "data_union = [data_a_key] + data_a_clean + data_b_clean"
   ]
  },
  {
   "cell_type": "code",
   "execution_count": 188,
   "metadata": {
    "collapsed": false
   },
   "outputs": [
    {
     "data": {
      "text/plain": [
       "[['address',\n",
       "  'apt',\n",
       "  'case',\n",
       "  'primary_offense',\n",
       "  'offense_code',\n",
       "  'offense',\n",
       "  'tract',\n",
       "  'date_rept',\n",
       "  'date_occu',\n",
       "  'hour_occu',\n",
       "  'date_fnd',\n",
       "  'hour_fnd',\n",
       "  'fid',\n",
       "  'x',\n",
       "  'y'],\n",
       " ['1520 LIGURIA AV',\n",
       "  '',\n",
       "  '11000040',\n",
       "  '1',\n",
       "  'BUA',\n",
       "  'BURGLARY RESIDENTIAL',\n",
       "  '07U',\n",
       "  datetime.datetime(2011, 1, 3, 0, 0),\n",
       "  datetime.datetime(2011, 1, 3, 0, 0),\n",
       "  '1900',\n",
       "  datetime.datetime(2010, 12, 28, 0, 0),\n",
       "  '2200',\n",
       "  '385',\n",
       "  '891902.84400000004',\n",
       "  '502168.55800000002']]"
      ]
     },
     "execution_count": 188,
     "metadata": {},
     "output_type": "execute_result"
    }
   ],
   "source": [
    "data_union[:2]"
   ]
  },
  {
   "cell_type": "markdown",
   "metadata": {},
   "source": [
    "# sanity check"
   ]
  },
  {
   "cell_type": "code",
   "execution_count": 189,
   "metadata": {
    "collapsed": false
   },
   "outputs": [],
   "source": [
    "from datetime import datetime"
   ]
  },
  {
   "cell_type": "code",
   "execution_count": 190,
   "metadata": {
    "collapsed": false
   },
   "outputs": [],
   "source": [
    "weird_future_rows = [\n",
    "    (i, row) for i, row in enumerate(data_union[1:])\n",
    "    if row[8].year > 2013\n",
    "]"
   ]
  },
  {
   "cell_type": "code",
   "execution_count": 191,
   "metadata": {
    "collapsed": false
   },
   "outputs": [
    {
     "data": {
      "text/plain": [
       "0"
      ]
     },
     "execution_count": 191,
     "metadata": {},
     "output_type": "execute_result"
    }
   ],
   "source": [
    "len(weird_future_rows)"
   ]
  },
  {
   "cell_type": "code",
   "execution_count": 192,
   "metadata": {
    "collapsed": false
   },
   "outputs": [],
   "source": [
    "weird_old_rows = [\n",
    "    (i, row) for i, row in enumerate(data_union[1:])\n",
    "    if row[8].year < 2010\n",
    "]"
   ]
  },
  {
   "cell_type": "code",
   "execution_count": 193,
   "metadata": {
    "collapsed": false,
    "scrolled": true
   },
   "outputs": [
    {
     "data": {
      "text/plain": [
       "1"
      ]
     },
     "execution_count": 193,
     "metadata": {},
     "output_type": "execute_result"
    }
   ],
   "source": [
    "len(weird_old_rows)"
   ]
  },
  {
   "cell_type": "code",
   "execution_count": 194,
   "metadata": {
    "collapsed": false,
    "scrolled": false
   },
   "outputs": [
    {
     "data": {
      "text/plain": [
       "[(2002,\n",
       "  ['1239 DICKINSON DR',\n",
       "   'WT207',\n",
       "   '12009104',\n",
       "   '1',\n",
       "   'ZOQ',\n",
       "   'ULEAD',\n",
       "   '07U',\n",
       "   datetime.datetime(2012, 11, 16, 0, 0),\n",
       "   datetime.datetime(2002, 11, 16, 0, 0),\n",
       "   '0145',\n",
       "   datetime.datetime(2012, 11, 16, 0, 0),\n",
       "   '0205',\n",
       "   '74',\n",
       "   '892974.25199999998',\n",
       "   '503706.15500000003'])]"
      ]
     },
     "execution_count": 194,
     "metadata": {},
     "output_type": "execute_result"
    }
   ],
   "source": [
    "weird_old_rows"
   ]
  },
  {
   "cell_type": "markdown",
   "metadata": {},
   "source": [
    "manually correct this typo"
   ]
  },
  {
   "cell_type": "code",
   "execution_count": 199,
   "metadata": {
    "collapsed": false
   },
   "outputs": [
    {
     "data": {
      "text/plain": [
       "datetime.datetime(2012, 11, 16, 0, 0)"
      ]
     },
     "execution_count": 199,
     "metadata": {},
     "output_type": "execute_result"
    }
   ],
   "source": [
    "data_union[2003][8] = datetime(2012, 11, 16)\n",
    "data_union[2003][8]"
   ]
  },
  {
   "cell_type": "code",
   "execution_count": 200,
   "metadata": {
    "collapsed": false
   },
   "outputs": [
    {
     "name": "stdout",
     "output_type": "stream",
     "text": [
      "removed 20 points\n"
     ]
    }
   ],
   "source": [
    "from datetime import timedelta\n",
    "def probable_misentry(a, b, months=2, check_same_day=True):\n",
    "    reasonable_entry_lag = timedelta(weeks=months*4)\n",
    "    \n",
    "    if abs(a-b) > reasonable_entry_lag:\n",
    "        if not check_same_day:\n",
    "            return True\n",
    "        return a.month == b.month and a.day == b.day\n",
    "    return False\n",
    "\n",
    "# TODO could manually correct them\n",
    "data_outlier_remove = [data_union[0]] + [\n",
    "    row for row in data_union[1:]\n",
    "    if not probable_misentry(row[7], row[8], check_same_day=False)\n",
    "]\n",
    "\n",
    "print('removed {} points'.format(len(data_union)-len(data_outlier_remove)))"
   ]
  },
  {
   "cell_type": "code",
   "execution_count": 201,
   "metadata": {
    "collapsed": true
   },
   "outputs": [],
   "source": [
    "from collections import defaultdict"
   ]
  },
  {
   "cell_type": "code",
   "execution_count": 202,
   "metadata": {
    "collapsed": false
   },
   "outputs": [],
   "source": [
    "yearly_data = defaultdict(list)\n",
    "for row in data_outlier_remove[1:]:\n",
    "    yearly_data[row[8].year].append(row)"
   ]
  },
  {
   "cell_type": "code",
   "execution_count": 203,
   "metadata": {
    "collapsed": false,
    "scrolled": true
   },
   "outputs": [
    {
     "data": {
      "text/plain": [
       "dict_keys([2011, 2012, 2013])"
      ]
     },
     "execution_count": 203,
     "metadata": {},
     "output_type": "execute_result"
    }
   ],
   "source": [
    "yearly_data.keys()"
   ]
  },
  {
   "cell_type": "markdown",
   "metadata": {},
   "source": [
    "now, let's write a separate file for each year and make sure to only take date for date columns"
   ]
  },
  {
   "cell_type": "code",
   "execution_count": 204,
   "metadata": {
    "collapsed": false
   },
   "outputs": [
    {
     "data": {
      "text/plain": [
       "[(0, 'address'),\n",
       " (1, 'apt'),\n",
       " (2, 'case'),\n",
       " (3, 'primary_offense'),\n",
       " (4, 'offense_code'),\n",
       " (5, 'offense'),\n",
       " (6, 'tract'),\n",
       " (7, 'date_rept'),\n",
       " (8, 'date_occu'),\n",
       " (9, 'hour_occu'),\n",
       " (10, 'date_fnd'),\n",
       " (11, 'hour_fnd'),\n",
       " (12, 'fid'),\n",
       " (13, 'x'),\n",
       " (14, 'y')]"
      ]
     },
     "execution_count": 204,
     "metadata": {},
     "output_type": "execute_result"
    }
   ],
   "source": [
    "list(enumerate(data_outlier_remove[0]))"
   ]
  },
  {
   "cell_type": "code",
   "execution_count": 205,
   "metadata": {
    "collapsed": false
   },
   "outputs": [
    {
     "name": "stdout",
     "output_type": "stream",
     "text": [
      "writing ./data/converted_crime_data/Crime_pass3_2011.csv\n",
      "writing ./data/converted_crime_data/Crime_pass3_2012.csv\n",
      "writing ./data/converted_crime_data/Crime_pass3_2013.csv\n"
     ]
    }
   ],
   "source": [
    "for year, values in yearly_data.items():\n",
    "    fn = './data/converted_crime_data/Crime_pass3_{}.csv'.format(year)\n",
    "    print('writing ' + fn)\n",
    "    with open(fn, 'w') as f:\n",
    "        writer = csv.writer(f)\n",
    "        writer.writerow(data_outlier_remove[0])\n",
    "        for row in values:\n",
    "            writer.writerow(\n",
    "                row[:7] + [\n",
    "                    row[7].strftime(\"%Y-%m-%d\"), row[8].strftime(\"%Y-%m-%d\"),\n",
    "                    row[9], row[10].strftime(\"%Y-%m-%d\")\n",
    "                ] + row[11:]\n",
    "            )"
   ]
  }
 ],
 "metadata": {
  "kernelspec": {
   "display_name": "Python 3",
   "language": "python",
   "name": "python3"
  },
  "language_info": {
   "codemirror_mode": {
    "name": "ipython",
    "version": 3
   },
   "file_extension": ".py",
   "mimetype": "text/x-python",
   "name": "python",
   "nbconvert_exporter": "python",
   "pygments_lexer": "ipython3",
   "version": "3.4.3"
  }
 },
 "nbformat": 4,
 "nbformat_minor": 0
}
