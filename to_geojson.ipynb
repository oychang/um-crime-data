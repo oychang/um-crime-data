{
 "cells": [
  {
   "cell_type": "code",
   "execution_count": 1,
   "metadata": {
    "collapsed": true
   },
   "outputs": [],
   "source": [
    "import csv\n",
    "import json"
   ]
  },
  {
   "cell_type": "markdown",
   "metadata": {},
   "source": [
    "Example GeoJSON point:\n",
    "\n",
    "```json\n",
    "{\n",
    "    \"type\": \"Feature\",\n",
    "    \"properties\": {\n",
    "        \"name\": \"Busch Field\",\n",
    "        \"show_on_map\": false\n",
    "    },\n",
    "    \"geometry\": {\n",
    "        \"type\": \"Point\",\n",
    "        \"coordinates\": [-104.98404, 39.74621]\n",
    "    }\n",
    "}\n",
    "```"
   ]
  },
  {
   "cell_type": "code",
   "execution_count": 2,
   "metadata": {
    "collapsed": true
   },
   "outputs": [],
   "source": [
    "data = [r for r in csv.reader(open('./data/umpd-2007-to-2013-crime-mapping-cleaned.csv'))]"
   ]
  },
  {
   "cell_type": "code",
   "execution_count": 3,
   "metadata": {
    "collapsed": false
   },
   "outputs": [
    {
     "data": {
      "text/plain": [
       "[(0, 'address'),\n",
       " (1, 'apt'),\n",
       " (2, 'case'),\n",
       " (3, 'offense_code'),\n",
       " (4, 'offense'),\n",
       " (5, 'date_rept'),\n",
       " (6, 'date_occu'),\n",
       " (7, 'hour_occu'),\n",
       " (8, 'date_fnd'),\n",
       " (9, 'hour_fnd'),\n",
       " (10, 'lat'),\n",
       " (11, 'lon')]"
      ]
     },
     "execution_count": 3,
     "metadata": {},
     "output_type": "execute_result"
    }
   ],
   "source": [
    "list(enumerate(data[0]))"
   ]
  },
  {
   "cell_type": "code",
   "execution_count": 4,
   "metadata": {
    "collapsed": true
   },
   "outputs": [],
   "source": [
    "def generate_geojson_point(header, row):\n",
    "    return {\n",
    "        'type': 'Feature',\n",
    "        'properties': {\n",
    "            k: v\n",
    "            for k, v in zip(header[:-2], row)\n",
    "        },\n",
    "        'geometry': {\n",
    "            'type': 'Point',\n",
    "            'coordinates': [float(row[10]), float(row[11])]\n",
    "        }\n",
    "    }"
   ]
  },
  {
   "cell_type": "code",
   "execution_count": 5,
   "metadata": {
    "collapsed": true
   },
   "outputs": [],
   "source": [
    "header = data[0]\n",
    "converted_data = [generate_geojson_point(header, row) for row in data[1:]]"
   ]
  },
  {
   "cell_type": "code",
   "execution_count": 6,
   "metadata": {
    "collapsed": false
   },
   "outputs": [],
   "source": [
    "with open('./data/umpd-2007-to-2013-crime-mapping-cleaned.geojson', 'w') as f:\n",
    "    json.dump(converted_data, f)"
   ]
  },
  {
   "cell_type": "code",
   "execution_count": 7,
   "metadata": {
    "collapsed": false
   },
   "outputs": [
    {
     "name": "stdout",
     "output_type": "stream",
     "text": [
      "2.9M\t./data/umpd-2007-to-2013-crime-mapping-cleaned.geojson\r\n"
     ]
    }
   ],
   "source": [
    "!du -h ./data/umpd-2007-to-2013-crime-mapping-cleaned.geojson"
   ]
  }
 ],
 "metadata": {
  "kernelspec": {
   "display_name": "Python 3",
   "language": "python",
   "name": "python3"
  },
  "language_info": {
   "codemirror_mode": {
    "name": "ipython",
    "version": 3
   },
   "file_extension": ".py",
   "mimetype": "text/x-python",
   "name": "python",
   "nbconvert_exporter": "python",
   "pygments_lexer": "ipython3",
   "version": "3.4.3"
  }
 },
 "nbformat": 4,
 "nbformat_minor": 0
}
