{
 "cells": [
  {
   "cell_type": "code",
   "execution_count": 4,
   "metadata": {
    "collapsed": false
   },
   "outputs": [
    {
     "data": {
      "text/plain": [
       "'/home/oychang/crime/data'"
      ]
     },
     "execution_count": 4,
     "metadata": {},
     "output_type": "execute_result"
    }
   ],
   "source": [
    "pwd"
   ]
  },
  {
   "cell_type": "code",
   "execution_count": 5,
   "metadata": {
    "collapsed": false
   },
   "outputs": [
    {
     "name": "stdout",
     "output_type": "stream",
     "text": [
      "academic_calendar.csv    \u001b[0m\u001b[01;34mconverted_crime_data\u001b[0m/\r\n",
      "\u001b[01;34macademic_calendar_data\u001b[0m/  Crime Mapping Data UMPD 2007 to 2013.xlsx\r\n"
     ]
    }
   ],
   "source": [
    "ls"
   ]
  },
  {
   "cell_type": "code",
   "execution_count": 6,
   "metadata": {
    "collapsed": false
   },
   "outputs": [
    {
     "name": "stdout",
     "output_type": "stream",
     "text": [
      "/home/oychang/crime/data/converted_crime_data\n"
     ]
    }
   ],
   "source": [
    "cd converted_crime_data/"
   ]
  },
  {
   "cell_type": "code",
   "execution_count": 8,
   "metadata": {
    "collapsed": false
   },
   "outputs": [
    {
     "name": "stdout",
     "output_type": "stream",
     "text": [
      "\u001b[0m\u001b[01;32mconvert.sh\u001b[0m*  Crime Mod.csv     Sheet2.csv\r\n",
      "Crime.csv    LookUpRanges.csv  Worksheet  Delia.csv\r\n"
     ]
    }
   ],
   "source": [
    "ls"
   ]
  },
  {
   "cell_type": "code",
   "execution_count": 10,
   "metadata": {
    "collapsed": true
   },
   "outputs": [],
   "source": [
    "import csv\n",
    "with open('Crime.csv') as f:\n",
    "    data = [row for row in csv.reader(f)]"
   ]
  },
  {
   "cell_type": "code",
   "execution_count": 11,
   "metadata": {
    "collapsed": false
   },
   "outputs": [
    {
     "data": {
      "text/plain": [
       "8248"
      ]
     },
     "execution_count": 11,
     "metadata": {},
     "output_type": "execute_result"
    }
   ],
   "source": [
    "len(data)"
   ]
  },
  {
   "cell_type": "code",
   "execution_count": 12,
   "metadata": {
    "collapsed": false
   },
   "outputs": [
    {
     "data": {
      "text/plain": [
       "['Address1',\n",
       " 'Apt',\n",
       " 'Case',\n",
       " 'Pri_Offens',\n",
       " 'Off_Code',\n",
       " 'Offense',\n",
       " 'tract',\n",
       " 'date_rept',\n",
       " 'DATEofReport',\n",
       " 'REP_DATE',\n",
       " 'date_occ',\n",
       " 'hour_occ',\n",
       " 'dow',\n",
       " 'date_fnd',\n",
       " 'hour_fnd',\n",
       " 'dow',\n",
       " 'DayCount',\n",
       " 'HRCount',\n",
       " 'Hrcalc',\n",
       " 'Hrcalcw',\n",
       " 'TimeCode',\n",
       " 'FID',\n",
       " 'X',\n",
       " 'Y',\n",
       " '',\n",
       " '',\n",
       " 'Donxees',\n",
       " 'Donyees',\n",
       " '']"
      ]
     },
     "execution_count": 12,
     "metadata": {},
     "output_type": "execute_result"
    }
   ],
   "source": [
    "data[0]"
   ]
  },
  {
   "cell_type": "code",
   "execution_count": 18,
   "metadata": {
    "collapsed": true
   },
   "outputs": [
    {
     "data": {
      "text/plain": [
       "[('Address1', '1525 ALBENGA AV'),\n",
       " ('Apt', ''),\n",
       " ('Case', '07000101'),\n",
       " ('Pri_Offens', '1'),\n",
       " ('Off_Code', 'VAB'),\n",
       " ('Offense', 'VANDALISM TO VEHICLE'),\n",
       " ('tract', '07U'),\n",
       " ('date_rept', '01/ 4/2007\"  \"13:32:18 a01/p01'),\n",
       " ('DATEofReport', '01/04/07'),\n",
       " ('REP_DATE', '07/01/04 '),\n",
       " ('date_occ', '01/ 3/2007\"  \"16:00:00 a01/p01'),\n",
       " ('hour_occ', '1600'),\n",
       " ('dow', 'WE'),\n",
       " ('date_fnd', '01/ 4/2007\"  \"13:25:00 a01/p01'),\n",
       " ('hour_fnd', '16:00'),\n",
       " ('dow', 'TH'),\n",
       " ('DayCount', '1'),\n",
       " ('HRCount', '21:25'),\n",
       " ('Hrcalc', '21'),\n",
       " ('Hrcalcw', 'T24'),\n",
       " ('TimeCode', 'T24'),\n",
       " ('FID', '109'),\n",
       " ('X', '891786.45900000003'),\n",
       " ('Y', '502485.90500000003'),\n",
       " ('', ''),\n",
       " ('', ''),\n",
       " ('Donxees', ''),\n",
       " ('Donyees', ''),\n",
       " ('', '')]"
      ]
     },
     "execution_count": 18,
     "metadata": {},
     "output_type": "execute_result"
    }
   ],
   "source": [
    "[(data[0][i], data[1][i]) for i in range(len(data[0]))]"
   ]
  },
  {
   "cell_type": "code",
   "execution_count": null,
   "metadata": {
    "collapsed": true
   },
   "outputs": [],
   "source": []
  },
  {
   "cell_type": "code",
   "execution_count": 19,
   "metadata": {
    "collapsed": true
   },
   "outputs": [
    {
     "data": {
      "text/plain": [
       "[('Address1', '1111 MEMORIAL DR'),\n",
       " ('Apt', ''),\n",
       " ('Case', '07000110'),\n",
       " ('Pri_Offens', '1'),\n",
       " ('Off_Code', 'VAC'),\n",
       " ('Offense', 'VANDALISM TO PERSONAL PROPERTY'),\n",
       " ('tract', '07U'),\n",
       " ('date_rept', '01/ 4/2007\"  \"17:48:00 a01/p01'),\n",
       " ('DATEofReport', '01/04/07'),\n",
       " ('REP_DATE', '07/01/04 '),\n",
       " ('date_occ', '01/ 4/2007\"  \"16:27:00 a01/p01'),\n",
       " ('hour_occ', '1627'),\n",
       " ('dow', 'TH'),\n",
       " ('date_fnd', '01/ 4/2007\"  \"16:27:00 a01/p01'),\n",
       " ('hour_fnd', '16:27'),\n",
       " ('dow', 'TH'),\n",
       " ('DayCount', '0'),\n",
       " ('HRCount', '00:00'),\n",
       " ('Hrcalc', '0'),\n",
       " ('Hrcalcw', 'CALC'),\n",
       " ('TimeCode', 'T9'),\n",
       " ('FID', '###'),\n",
       " ('X', '#N/A'),\n",
       " ('Y', '#N/A'),\n",
       " ('', ''),\n",
       " ('', ''),\n",
       " ('Donxees', ''),\n",
       " ('Donyees', ''),\n",
       " ('', '')]"
      ]
     },
     "execution_count": 19,
     "metadata": {},
     "output_type": "execute_result"
    }
   ],
   "source": [
    "[(data[0][i], data[2][i]) for i in range(len(data[0]))]"
   ]
  },
  {
   "cell_type": "code",
   "execution_count": 20,
   "metadata": {
    "collapsed": true
   },
   "outputs": [
    {
     "data": {
      "text/plain": [
       "[(0, 'Address1'),\n",
       " (1, 'Apt'),\n",
       " (2, 'Case'),\n",
       " (3, 'Pri_Offens'),\n",
       " (4, 'Off_Code'),\n",
       " (5, 'Offense'),\n",
       " (6, 'tract'),\n",
       " (7, 'date_rept'),\n",
       " (8, 'DATEofReport'),\n",
       " (9, 'REP_DATE'),\n",
       " (10, 'date_occ'),\n",
       " (11, 'hour_occ'),\n",
       " (12, 'dow'),\n",
       " (13, 'date_fnd'),\n",
       " (14, 'hour_fnd'),\n",
       " (15, 'dow'),\n",
       " (16, 'DayCount'),\n",
       " (17, 'HRCount'),\n",
       " (18, 'Hrcalc'),\n",
       " (19, 'Hrcalcw'),\n",
       " (20, 'TimeCode'),\n",
       " (21, 'FID'),\n",
       " (22, 'X'),\n",
       " (23, 'Y'),\n",
       " (24, ''),\n",
       " (25, ''),\n",
       " (26, 'Donxees'),\n",
       " (27, 'Donyees'),\n",
       " (28, '')]"
      ]
     },
     "execution_count": 20,
     "metadata": {},
     "output_type": "execute_result"
    }
   ],
   "source": [
    "list(enumerate(data[0]))"
   ]
  },
  {
   "cell_type": "code",
   "execution_count": 26,
   "metadata": {
    "collapsed": true
   },
   "outputs": [
    {
     "name": "stdout",
     "output_type": "stream",
     "text": [
      "('Address1', '1111 MEMORIAL DR')\n",
      "Keep? >\n",
      "y\n",
      "('Apt', '')\n",
      "Keep? >\n",
      "y\n",
      "('Case', '07000110')\n",
      "Keep? >\n",
      "y\n",
      "('Pri_Offens', '1')\n",
      "Keep? >\n",
      "y\n",
      "('Off_Code', 'VAC')\n",
      "Keep? >\n",
      "y\n",
      "('Offense', 'VANDALISM TO PERSONAL PROPERTY')\n",
      "Keep? >\n",
      "y\n",
      "('tract', '07U')\n",
      "Keep? >\n",
      "y\n",
      "('date_rept', '01/ 4/2007\"  \"17:48:00 a01/p01')\n",
      "Keep? >\n",
      "y\n",
      "('DATEofReport', '01/04/07')\n",
      "Keep? >\n",
      "n\n",
      "('REP_DATE', '07/01/04 ')\n",
      "Keep? >\n",
      "n\n",
      "('date_occ', '01/ 4/2007\"  \"16:27:00 a01/p01')\n",
      "Keep? >\n",
      "y\n",
      "('hour_occ', '1627')\n",
      "Keep? >\n",
      "n\n",
      "('dow', 'TH')\n",
      "Keep? >\n",
      "n\n",
      "('date_fnd', '01/ 4/2007\"  \"16:27:00 a01/p01')\n",
      "Keep? >\n",
      "y\n",
      "('hour_fnd', '16:27')\n",
      "Keep? >\n",
      "n\n",
      "('dow', 'TH')\n",
      "Keep? >\n",
      "n\n",
      "('DayCount', '0')\n",
      "Keep? >\n",
      "n\n",
      "('HRCount', '00:00')\n",
      "Keep? >\n",
      "n\n",
      "('Hrcalc', '0')\n",
      "Keep? >\n",
      "n\n",
      "('Hrcalcw', 'CALC')\n",
      "Keep? >\n",
      "n\n",
      "('TimeCode', 'T9')\n",
      "Keep? >\n",
      "n\n",
      "('FID', '###')\n",
      "Keep? >\n",
      "y\n",
      "('X', '#N/A')\n",
      "Keep? >\n",
      "y\n",
      "('Y', '#N/A')\n",
      "Keep? >\n",
      "y\n",
      "('', '')\n",
      "Keep? >\n",
      "n\n",
      "('', '')\n",
      "Keep? >\n",
      "n\n",
      "('Donxees', '')\n",
      "Keep? >\n",
      "n\n",
      "('Donyees', '')\n",
      "Keep? >\n",
      "n\n",
      "('', '')\n",
      "Keep? >\n",
      "n\n"
     ]
    }
   ],
   "source": [
    "keep_col = []\n",
    "for x in [(data[0][i], data[2][i]) for i in range(len(data[0]))]:\n",
    "    print(x)\n",
    "    print('Keep? >')\n",
    "    keep_col.append(input() == 'y')"
   ]
  },
  {
   "cell_type": "code",
   "execution_count": 27,
   "metadata": {
    "collapsed": true
   },
   "outputs": [
    {
     "data": {
      "text/plain": [
       "[True,\n",
       " True,\n",
       " True,\n",
       " True,\n",
       " True,\n",
       " True,\n",
       " True,\n",
       " True,\n",
       " False,\n",
       " False,\n",
       " True,\n",
       " False,\n",
       " False,\n",
       " True,\n",
       " False,\n",
       " False,\n",
       " False,\n",
       " False,\n",
       " False,\n",
       " False,\n",
       " False,\n",
       " True,\n",
       " True,\n",
       " True,\n",
       " False,\n",
       " False,\n",
       " False,\n",
       " False,\n",
       " False]"
      ]
     },
     "execution_count": 27,
     "metadata": {},
     "output_type": "execute_result"
    }
   ],
   "source": [
    "keep_col"
   ]
  },
  {
   "cell_type": "code",
   "execution_count": 28,
   "metadata": {
    "collapsed": true
   },
   "outputs": [],
   "source": [
    "filter?"
   ]
  },
  {
   "cell_type": "code",
   "execution_count": 31,
   "metadata": {
    "collapsed": true
   },
   "outputs": [
    {
     "data": {
      "text/plain": [
       "[(0, 'Address1'),\n",
       " (1, 'Apt'),\n",
       " (2, 'Case'),\n",
       " (3, 'Pri_Offens'),\n",
       " (4, 'Off_Code'),\n",
       " (5, 'Offense'),\n",
       " (6, 'tract'),\n",
       " (7, 'date_rept'),\n",
       " (10, 'date_occ'),\n",
       " (13, 'date_fnd'),\n",
       " (21, 'FID'),\n",
       " (22, 'X'),\n",
       " (23, 'Y')]"
      ]
     },
     "execution_count": 31,
     "metadata": {},
     "output_type": "execute_result"
    }
   ],
   "source": [
    "list(filter(lambda tup: keep_col[tup[0]], enumerate(data[0])))"
   ]
  },
  {
   "cell_type": "code",
   "execution_count": 33,
   "metadata": {
    "collapsed": false
   },
   "outputs": [
    {
     "data": {
      "text/plain": [
       "[0]"
      ]
     },
     "execution_count": 33,
     "metadata": {},
     "output_type": "execute_result"
    }
   ],
   "source": [
    "[x for x in range(2) if x % 2 == 0]"
   ]
  },
  {
   "cell_type": "code",
   "execution_count": 40,
   "metadata": {
    "collapsed": true
   },
   "outputs": [],
   "source": [
    "filtered_data = (\n",
    "    [\n",
    "        val\n",
    "        for i, val in enumerate(row)\n",
    "        if keep_col[i]\n",
    "    ]\n",
    "    for row in data\n",
    ")"
   ]
  },
  {
   "cell_type": "code",
   "execution_count": 35,
   "metadata": {
    "collapsed": false
   },
   "outputs": [
    {
     "name": "stdout",
     "output_type": "stream",
     "text": [
      "\u001b[0m\u001b[01;32mconvert.sh\u001b[0m*  Crime Mod.csv     Sheet2.csv\r\n",
      "Crime.csv    LookUpRanges.csv  Worksheet  Delia.csv\r\n"
     ]
    }
   ],
   "source": [
    "ls"
   ]
  },
  {
   "cell_type": "code",
   "execution_count": 41,
   "metadata": {
    "collapsed": false
   },
   "outputs": [],
   "source": [
    "with open('Crime_selected_cols.csv', 'w') as f:\n",
    "    writer = csv.writer(f)\n",
    "    for row in filtered_data:\n",
    "        writer.writerow(row)"
   ]
  },
  {
   "cell_type": "code",
   "execution_count": 37,
   "metadata": {
    "collapsed": false
   },
   "outputs": [
    {
     "data": {
      "text/plain": [
       "29"
      ]
     },
     "execution_count": 37,
     "metadata": {},
     "output_type": "execute_result"
    }
   ],
   "source": [
    "len(data[0])"
   ]
  },
  {
   "cell_type": "code",
   "execution_count": 38,
   "metadata": {
    "collapsed": false
   },
   "outputs": [
    {
     "name": "stdout",
     "output_type": "stream",
     "text": [
      "29\n"
     ]
    }
   ],
   "source": [
    "print(max(len(x) for x in data))"
   ]
  },
  {
   "cell_type": "code",
   "execution_count": 39,
   "metadata": {
    "collapsed": false
   },
   "outputs": [
    {
     "data": {
      "text/plain": [
       "29"
      ]
     },
     "execution_count": 39,
     "metadata": {},
     "output_type": "execute_result"
    }
   ],
   "source": [
    "len(keep_col)"
   ]
  },
  {
   "cell_type": "code",
   "execution_count": 43,
   "metadata": {
    "collapsed": false
   },
   "outputs": [
    {
     "name": "stdout",
     "output_type": "stream",
     "text": [
      "8248 Crime_selected_cols.csv\r\n"
     ]
    }
   ],
   "source": [
    "!wc -l Crime_selected_cols.csv"
   ]
  },
  {
   "cell_type": "code",
   "execution_count": 44,
   "metadata": {
    "collapsed": false
   },
   "outputs": [
    {
     "name": "stdout",
     "output_type": "stream",
     "text": [
      "Address1,Apt,Case,Pri_Offens,Off_Code,Offense,tract,date_rept,date_occ,date_fnd,FID,X,Y\r",
      "\r\n"
     ]
    }
   ],
   "source": [
    "!head -n1 Crime_selected_cols.csv"
   ]
  },
  {
   "cell_type": "code",
   "execution_count": 45,
   "metadata": {
    "collapsed": false
   },
   "outputs": [
    {
     "ename": "TypeError",
     "evalue": "'generator' object is not subscriptable",
     "output_type": "error",
     "traceback": [
      "\u001b[1;31m---------------------------------------------------------------------------\u001b[0m",
      "\u001b[1;31mTypeError\u001b[0m                                 Traceback (most recent call last)",
      "\u001b[1;32m<ipython-input-45-c246bfa25d07>\u001b[0m in \u001b[0;36m<module>\u001b[1;34m()\u001b[0m\n\u001b[1;32m----> 1\u001b[1;33m \u001b[0mfiltered_data\u001b[0m\u001b[1;33m[\u001b[0m\u001b[1;36m0\u001b[0m\u001b[1;33m]\u001b[0m\u001b[1;33m\u001b[0m\u001b[0m\n\u001b[0m",
      "\u001b[1;31mTypeError\u001b[0m: 'generator' object is not subscriptable"
     ]
    }
   ],
   "source": [
    "filtered_data"
   ]
  },
  {
   "cell_type": "code",
   "execution_count": 49,
   "metadata": {
    "collapsed": true
   },
   "outputs": [],
   "source": [
    "with open('Crime_selected_cols.csv') as f:\n",
    "    filtered_data = [row for row in csv.reader(f)]"
   ]
  },
  {
   "cell_type": "code",
   "execution_count": 50,
   "metadata": {
    "collapsed": false
   },
   "outputs": [
    {
     "data": {
      "text/plain": [
       "['Address1',\n",
       " 'Apt',\n",
       " 'Case',\n",
       " 'Pri_Offens',\n",
       " 'Off_Code',\n",
       " 'Offense',\n",
       " 'tract',\n",
       " 'date_rept',\n",
       " 'date_occ',\n",
       " 'date_fnd',\n",
       " 'FID',\n",
       " 'X',\n",
       " 'Y']"
      ]
     },
     "execution_count": 50,
     "metadata": {},
     "output_type": "execute_result"
    }
   ],
   "source": [
    "filtered_data[0]"
   ]
  },
  {
   "cell_type": "code",
   "execution_count": 51,
   "metadata": {
    "collapsed": false
   },
   "outputs": [
    {
     "data": {
      "text/plain": [
       "['1525 ALBENGA AV',\n",
       " '',\n",
       " '07000101',\n",
       " '1',\n",
       " 'VAB',\n",
       " 'VANDALISM TO VEHICLE',\n",
       " '07U',\n",
       " '01/ 4/2007\"  \"13:32:18 a01/p01',\n",
       " '01/ 3/2007\"  \"16:00:00 a01/p01',\n",
       " '01/ 4/2007\"  \"13:25:00 a01/p01',\n",
       " '109',\n",
       " '891786.45900000003',\n",
       " '502485.90500000003']"
      ]
     },
     "execution_count": 51,
     "metadata": {},
     "output_type": "execute_result"
    }
   ],
   "source": [
    "filtered_data[1]"
   ]
  },
  {
   "cell_type": "code",
   "execution_count": 52,
   "metadata": {
    "collapsed": false
   },
   "outputs": [
    {
     "data": {
      "text/plain": [
       "['1111 MEMORIAL DR',\n",
       " '',\n",
       " '07000110',\n",
       " '1',\n",
       " 'VAC',\n",
       " 'VANDALISM TO PERSONAL PROPERTY',\n",
       " '07U',\n",
       " '01/ 4/2007\"  \"17:48:00 a01/p01',\n",
       " '01/ 4/2007\"  \"16:27:00 a01/p01',\n",
       " '01/ 4/2007\"  \"16:27:00 a01/p01',\n",
       " '###',\n",
       " '#N/A',\n",
       " '#N/A']"
      ]
     },
     "execution_count": 52,
     "metadata": {},
     "output_type": "execute_result"
    }
   ],
   "source": [
    "filtered_data[2]"
   ]
  },
  {
   "cell_type": "code",
   "execution_count": 53,
   "metadata": {
    "collapsed": true
   },
   "outputs": [],
   "source": [
    "is_useless = lambda s: s in ('#N/A', 'N/A', '###') or all(c == '#' for c in s) or len(s.strip()) == 0"
   ]
  },
  {
   "cell_type": "code",
   "execution_count": 54,
   "metadata": {
    "collapsed": false
   },
   "outputs": [
    {
     "data": {
      "text/plain": [
       "[False,\n",
       " True,\n",
       " False,\n",
       " False,\n",
       " False,\n",
       " False,\n",
       " False,\n",
       " False,\n",
       " False,\n",
       " False,\n",
       " True,\n",
       " True,\n",
       " True]"
      ]
     },
     "execution_count": 54,
     "metadata": {},
     "output_type": "execute_result"
    }
   ],
   "source": [
    "[is_useless(x) for x in filtered_data[2]]"
   ]
  },
  {
   "cell_type": "code",
   "execution_count": 55,
   "metadata": {
    "collapsed": true
   },
   "outputs": [
    {
     "data": {
      "text/plain": [
       "[False,\n",
       " True,\n",
       " False,\n",
       " False,\n",
       " False,\n",
       " False,\n",
       " False,\n",
       " False,\n",
       " False,\n",
       " False,\n",
       " False,\n",
       " False,\n",
       " False]"
      ]
     },
     "execution_count": 55,
     "metadata": {},
     "output_type": "execute_result"
    }
   ],
   "source": [
    "[is_useless(x) for x in filtered_data[1]]"
   ]
  },
  {
   "cell_type": "code",
   "execution_count": 56,
   "metadata": {
    "collapsed": true
   },
   "outputs": [],
   "source": [
    "ds = '01/ 4/2007\"  \"17:48:00 a01/p01'"
   ]
  },
  {
   "cell_type": "code",
   "execution_count": 57,
   "metadata": {
    "collapsed": true
   },
   "outputs": [
    {
     "data": {
      "text/plain": [
       "['01/ 4/2007\"  \"13:32:18 a01/p01',\n",
       " '01/ 3/2007\"  \"16:00:00 a01/p01',\n",
       " '01/ 4/2007\"  \"13:25:00 a01/p01']"
      ]
     },
     "execution_count": 57,
     "metadata": {},
     "output_type": "execute_result"
    }
   ],
   "source": [
    "filtered_data[1][7:10]"
   ]
  },
  {
   "cell_type": "code",
   "execution_count": 63,
   "metadata": {
    "collapsed": false
   },
   "outputs": [
    {
     "data": {
      "text/plain": [
       "True"
      ]
     },
     "execution_count": 63,
     "metadata": {},
     "output_type": "execute_result"
    }
   ],
   "source": [
    "any(any(len(x) != len(ds) for x in row[7:10]) for row in filtered_data[1:])"
   ]
  },
  {
   "cell_type": "code",
   "execution_count": 72,
   "metadata": {
    "collapsed": false
   },
   "outputs": [],
   "source": [
    "non_conforming_dates = [(i+1+1, list(filter(lambda x: len(x) != len(ds), row[7:10])))\n",
    "                        for i, row in enumerate(filtered_data[1:])\n",
    "                        if any(len(x) != len(ds) for x in row[7:10])]"
   ]
  },
  {
   "cell_type": "code",
   "execution_count": 70,
   "metadata": {
    "collapsed": false
   },
   "outputs": [
    {
     "data": {
      "text/plain": [
       "7019"
      ]
     },
     "execution_count": 70,
     "metadata": {},
     "output_type": "execute_result"
    }
   ],
   "source": [
    "len(non_conforming_dates)"
   ]
  },
  {
   "cell_type": "code",
   "execution_count": 73,
   "metadata": {
    "collapsed": false,
    "scrolled": true
   },
   "outputs": [
    {
     "data": {
      "text/plain": [
       "[(1131,\n",
       "  ['[$-409]10/ 1/07 15:50 a10/p10',\n",
       "   '[$-409]09/24/07 00:00 a09/p09',\n",
       "   '[$-409]10/ 1/07 15:50 a10/p10']),\n",
       " (1140,\n",
       "  ['[$-409]10/ 2/07 18:09 a10/p10',\n",
       "   '[$-409]09/30/07 16:00 a09/p09',\n",
       "   '[$-409]10/ 2/07 11:30 a10/p10']),\n",
       " (1146,\n",
       "  ['[$-409]10/ 3/07 02:40 a10/p10',\n",
       "   '[$-409]10/ 3/07 01:00 a10/p10',\n",
       "   '[$-409]10/ 3/07 01:20 a10/p10']),\n",
       " (1147,\n",
       "  ['[$-409]10/ 3/07 09:20 a10/p10',\n",
       "   '[$-409]10/ 3/07 08:50 a10/p10',\n",
       "   '[$-409]10/ 3/07 09:00 a10/p10']),\n",
       " (1148,\n",
       "  ['[$-409]10/ 3/07 16:10 a10/p10',\n",
       "   '[$-409]10/ 3/07 00:05 a10/p10',\n",
       "   '[$-409]10/ 3/07 09:00 a10/p10']),\n",
       " (1149,\n",
       "  ['[$-409]10/ 3/07 22:46 a10/p10',\n",
       "   '[$-409]10/ 3/07 02:43 a10/p10',\n",
       "   '[$-409]10/ 3/07 03:01 a10/p10']),\n",
       " (1154,\n",
       "  ['[$-409]10/ 4/07 03:55 a10/p10',\n",
       "   '[$-409]10/ 4/07 03:17 a10/p10',\n",
       "   '[$-409]10/ 4/07 03:17 a10/p10']),\n",
       " (1158,\n",
       "  ['[$-409]10/ 4/07 20:20 a10/p10',\n",
       "   '[$-409]10/ 3/07 16:32 a10/p10',\n",
       "   '[$-409]10/ 3/07 16:32 a10/p10']),\n",
       " (1159,\n",
       "  ['[$-409]10/ 4/07 22:17 a10/p10',\n",
       "   '[$-409]10/ 4/07 17:00 a10/p10',\n",
       "   '[$-409]10/ 4/07 17:15 a10/p10']),\n",
       " (1160,\n",
       "  ['[$-409]10/ 4/07 23:25 a10/p10',\n",
       "   '[$-409]10/ 4/07 21:00 a10/p10',\n",
       "   '[$-409]10/ 4/07 22:00 a10/p10']),\n",
       " (1162,\n",
       "  ['[$-409]10/ 5/07 09:09 a10/p10',\n",
       "   '[$-409]10/ 5/07 08:55 a10/p10',\n",
       "   '[$-409]10/ 5/07 08:55 a10/p10'])]"
      ]
     },
     "execution_count": 73,
     "metadata": {},
     "output_type": "execute_result"
    }
   ],
   "source": [
    "non_conforming_dates[0:11]"
   ]
  },
  {
   "cell_type": "code",
   "execution_count": 75,
   "metadata": {
    "collapsed": false
   },
   "outputs": [],
   "source": [
    "for row in filtered_data:\n",
    "    for i, col in enumerate(row[7:10]):\n",
    "        row[7+i] = row[7+i].replace('[$-409]', '')"
   ]
  },
  {
   "cell_type": "code",
   "execution_count": 76,
   "metadata": {
    "collapsed": false,
    "scrolled": true
   },
   "outputs": [
    {
     "data": {
      "text/plain": [
       "True"
      ]
     },
     "execution_count": 76,
     "metadata": {},
     "output_type": "execute_result"
    }
   ],
   "source": [
    "any(any(len(x) != len(ds) for x in row[7:10]) for row in filtered_data[1:])"
   ]
  },
  {
   "cell_type": "code",
   "execution_count": 77,
   "metadata": {
    "collapsed": false
   },
   "outputs": [],
   "source": [
    "non_conforming_dates = [(i+1+1, list(filter(lambda x: len(x) != len(ds), row[7:10])))\n",
    "                        for i, row in enumerate(filtered_data[1:])\n",
    "                        if any(len(x) != len(ds) for x in row[7:10])]"
   ]
  },
  {
   "cell_type": "code",
   "execution_count": 79,
   "metadata": {
    "collapsed": false,
    "scrolled": true
   },
   "outputs": [
    {
     "data": {
      "text/plain": [
       "[(1131,\n",
       "  ['10/ 1/07 15:50 a10/p10',\n",
       "   '09/24/07 00:00 a09/p09',\n",
       "   '10/ 1/07 15:50 a10/p10']),\n",
       " (1140,\n",
       "  ['10/ 2/07 18:09 a10/p10',\n",
       "   '09/30/07 16:00 a09/p09',\n",
       "   '10/ 2/07 11:30 a10/p10']),\n",
       " (1146,\n",
       "  ['10/ 3/07 02:40 a10/p10',\n",
       "   '10/ 3/07 01:00 a10/p10',\n",
       "   '10/ 3/07 01:20 a10/p10']),\n",
       " (1147,\n",
       "  ['10/ 3/07 09:20 a10/p10',\n",
       "   '10/ 3/07 08:50 a10/p10',\n",
       "   '10/ 3/07 09:00 a10/p10']),\n",
       " (1148,\n",
       "  ['10/ 3/07 16:10 a10/p10',\n",
       "   '10/ 3/07 00:05 a10/p10',\n",
       "   '10/ 3/07 09:00 a10/p10']),\n",
       " (1149,\n",
       "  ['10/ 3/07 22:46 a10/p10',\n",
       "   '10/ 3/07 02:43 a10/p10',\n",
       "   '10/ 3/07 03:01 a10/p10']),\n",
       " (1154,\n",
       "  ['10/ 4/07 03:55 a10/p10',\n",
       "   '10/ 4/07 03:17 a10/p10',\n",
       "   '10/ 4/07 03:17 a10/p10']),\n",
       " (1158,\n",
       "  ['10/ 4/07 20:20 a10/p10',\n",
       "   '10/ 3/07 16:32 a10/p10',\n",
       "   '10/ 3/07 16:32 a10/p10']),\n",
       " (1159,\n",
       "  ['10/ 4/07 22:17 a10/p10',\n",
       "   '10/ 4/07 17:00 a10/p10',\n",
       "   '10/ 4/07 17:15 a10/p10']),\n",
       " (1160,\n",
       "  ['10/ 4/07 23:25 a10/p10',\n",
       "   '10/ 4/07 21:00 a10/p10',\n",
       "   '10/ 4/07 22:00 a10/p10']),\n",
       " (1162,\n",
       "  ['10/ 5/07 09:09 a10/p10',\n",
       "   '10/ 5/07 08:55 a10/p10',\n",
       "   '10/ 5/07 08:55 a10/p10'])]"
      ]
     },
     "execution_count": 79,
     "metadata": {},
     "output_type": "execute_result"
    }
   ],
   "source": [
    "non_conforming_dates[0:11]"
   ]
  },
  {
   "cell_type": "code",
   "execution_count": 96,
   "metadata": {
    "collapsed": true
   },
   "outputs": [],
   "source": [
    "import re\n",
    "rex = re.compile(r' *(\\d{1,2}) */ *(\\d{1,2}) */ *(\\d{1,4})(?:$|\"? +\"?(\\d{2}:\\d{2}(:\\d{2})?) *a../p..)')"
   ]
  },
  {
   "cell_type": "code",
   "execution_count": 107,
   "metadata": {
    "collapsed": false
   },
   "outputs": [],
   "source": [
    "non_conforming_dates = [(i+1+1, row[7:10])\n",
    "                        for i, row in enumerate(filtered_data[1:])\n",
    "                        if any(len(x) > 0 for x in row[7:10]) \n",
    "                           and any(not rex.match(x) for x in row[7:10] if x != '')]"
   ]
  },
  {
   "cell_type": "code",
   "execution_count": 108,
   "metadata": {
    "collapsed": false
   },
   "outputs": [
    {
     "data": {
      "text/plain": [
       "1999"
      ]
     },
     "execution_count": 108,
     "metadata": {},
     "output_type": "execute_result"
    }
   ],
   "source": [
    "len(non_conforming_dates)"
   ]
  },
  {
   "cell_type": "code",
   "execution_count": 109,
   "metadata": {
    "collapsed": false
   },
   "outputs": [
    {
     "data": {
      "text/plain": [
       "[(5128, ['', '', '22']),\n",
       " (5129, ['', '16666667', '18']),\n",
       " (5133, ['repdate', 'hour_occu', 'date_fnd']),\n",
       " (5150, ['', '15:56 a01/p01', '01/15/2010']),\n",
       " (5151, ['', '14:13 a01/p01', '01/16/2011']),\n",
       " (5152, ['', '02:10 a01/p01', '01/17/2011']),\n",
       " (5153, ['', '02:10 a01/p01', '01/17/2011']),\n",
       " (5154, ['', '02:10 a01/p01', '01/17/2011']),\n",
       " (5155, ['', '02:10 a01/p01', '01/17/2011']),\n",
       " (5156, ['', '02:10 a01/p01', '01/17/2011']),\n",
       " (5157, ['', '02:10 a01/p01', '01/17/2011'])]"
      ]
     },
     "execution_count": 109,
     "metadata": {},
     "output_type": "execute_result"
    }
   ],
   "source": [
    "non_conforming_dates[0:11]"
   ]
  },
  {
   "cell_type": "code",
   "execution_count": null,
   "metadata": {
    "collapsed": true
   },
   "outputs": [],
   "source": []
  }
 ],
 "metadata": {
  "kernelspec": {
   "display_name": "Python 3",
   "language": "python",
   "name": "python3"
  },
  "language_info": {
   "codemirror_mode": {
    "name": "ipython",
    "version": 3
   },
   "file_extension": ".py",
   "mimetype": "text/x-python",
   "name": "python",
   "nbconvert_exporter": "python",
   "pygments_lexer": "ipython3",
   "version": "3.4.3"
  }
 },
 "nbformat": 4,
 "nbformat_minor": 0
}
