{
 "cells": [
  {
   "cell_type": "markdown",
   "metadata": {},
   "source": [
    "use date_occ in tophalf to segment into years"
   ]
  },
  {
   "cell_type": "code",
   "execution_count": 1,
   "metadata": {
    "collapsed": true
   },
   "outputs": [],
   "source": [
    "import csv"
   ]
  },
  {
   "cell_type": "code",
   "execution_count": 2,
   "metadata": {
    "collapsed": false
   },
   "outputs": [],
   "source": [
    "with open('./data/converted_crime_data/Crime_pass2_strip_tophalf.csv') as f:\n",
    "    data = [row for row in csv.reader(f)]"
   ]
  },
  {
   "cell_type": "code",
   "execution_count": 3,
   "metadata": {
    "collapsed": false
   },
   "outputs": [
    {
     "data": {
      "text/plain": [
       "[(0, 'Address1'),\n",
       " (1, 'Apt'),\n",
       " (2, 'Case'),\n",
       " (3, 'Pri_Offens'),\n",
       " (4, 'Off_Code'),\n",
       " (5, 'Offense'),\n",
       " (6, 'tract'),\n",
       " (7, 'date_rept'),\n",
       " (8, 'DATEofReport'),\n",
       " (9, 'REP_DATE'),\n",
       " (10, 'date_occ'),\n",
       " (11, 'hour_occ'),\n",
       " (12, 'date_fnd'),\n",
       " (13, 'hour_fnd'),\n",
       " (14, 'FID'),\n",
       " (15, 'X'),\n",
       " (16, 'Y'),\n",
       " (17, 'Donxees'),\n",
       " (18, 'Donyees')]"
      ]
     },
     "execution_count": 3,
     "metadata": {},
     "output_type": "execute_result"
    }
   ],
   "source": [
    "list(enumerate(data[0]))"
   ]
  },
  {
   "cell_type": "code",
   "execution_count": 4,
   "metadata": {
    "collapsed": false
   },
   "outputs": [
    {
     "data": {
      "text/plain": [
       "'01/ 3/2007\"  \"16:00:00 a01/p01'"
      ]
     },
     "execution_count": 4,
     "metadata": {},
     "output_type": "execute_result"
    }
   ],
   "source": [
    "data[1][10]"
   ]
  },
  {
   "cell_type": "code",
   "execution_count": 5,
   "metadata": {
    "collapsed": false
   },
   "outputs": [
    {
     "data": {
      "text/plain": [
       "5098"
      ]
     },
     "execution_count": 5,
     "metadata": {},
     "output_type": "execute_result"
    }
   ],
   "source": [
    "len(data)"
   ]
  },
  {
   "cell_type": "code",
   "execution_count": 6,
   "metadata": {
    "collapsed": false
   },
   "outputs": [
    {
     "data": {
      "text/plain": [
       "'01/31/2007\"  \"00:00:00 a01/p01'"
      ]
     },
     "execution_count": 6,
     "metadata": {},
     "output_type": "execute_result"
    }
   ],
   "source": [
    "data[100][10]"
   ]
  },
  {
   "cell_type": "code",
   "execution_count": 7,
   "metadata": {
    "collapsed": true
   },
   "outputs": [],
   "source": [
    "from random import sample"
   ]
  },
  {
   "cell_type": "code",
   "execution_count": 8,
   "metadata": {
    "collapsed": false,
    "scrolled": false
   },
   "outputs": [
    {
     "data": {
      "text/plain": [
       "[['date_occ', 'hour_occ'],\n",
       " [['09/04/09', '0311'],\n",
       "  ['01/17/09', '1400'],\n",
       "  ['09/30/08', '2200'],\n",
       "  ['09/15/2007\"  \"00:25:00 a09/p09', '0025'],\n",
       "  ['03/27/09', '0910'],\n",
       "  ['10/ 5/2007\"  \"00:00:00 a10/p10', '1307'],\n",
       "  ['05/ 4/2007\"  \"07:26:00 a05/p05', '0726'],\n",
       "  ['03/28/08', '1020'],\n",
       "  ['03/28/2007\"  \"05:50:26 a03/p03', '0550'],\n",
       "  ['02/26/08', '1050'],\n",
       "  ['04/20/2007\"  \"07:53:00 a04/p04', '0753'],\n",
       "  ['07/22/10', '0900'],\n",
       "  ['11/01/08', '1029'],\n",
       "  ['09/20/2007\"  \"16:00:00 a09/p09', '1600'],\n",
       "  ['02/ 5/2007\"  \"19:30:00 a02/p02', '1930'],\n",
       "  ['05/ 7/2007\"  \"12:00:00 a05/p05', '1200'],\n",
       "  ['09/13/2007\"  \"00:00:00 a09/p09', '1245'],\n",
       "  ['[$-409]02/16/08 14:00 a02/p02', '1400'],\n",
       "  ['04/17/08', '2200'],\n",
       "  ['01/16/2007\"  \"03:53:00 a01/p01', '0353'],\n",
       "  ['02/28/09', '0420'],\n",
       "  ['10/18/2007\"  \"00:00:00 a10/p10', '0855'],\n",
       "  ['05/12/09', '1440'],\n",
       "  ['02/15/2007\"  \"00:00:00 a02/p02', '1417'],\n",
       "  ['04/29/2007\"  \"03:00:00 a04/p04', '0300'],\n",
       "  ['10/17/2007\"  \"01:58:00 a10/p10', '0158'],\n",
       "  ['01/30/09', '1000'],\n",
       "  ['10/23/08', '0404'],\n",
       "  ['09/10/09', '0140'],\n",
       "  ['10/21/09', '0907']]]"
      ]
     },
     "execution_count": 8,
     "metadata": {},
     "output_type": "execute_result"
    }
   ],
   "source": [
    "[data[0][10:12], [x[10:12] for x in sample(data, 30)]]"
   ]
  },
  {
   "cell_type": "markdown",
   "metadata": {},
   "source": [
    "0. s.replace('[$-409]', '').replace('/2007', '/07')[:8].replace(' ', '0')\n",
    "1. s.replace(':', '')"
   ]
  },
  {
   "cell_type": "code",
   "execution_count": 9,
   "metadata": {
    "collapsed": false,
    "scrolled": false
   },
   "outputs": [
    {
     "data": {
      "text/plain": [
       "[['date_fnd', 'hour_fnd'],\n",
       " [['09/14/2007\"  \"02:30:12 a09/p09', '23:00'],\n",
       "  ['03/25/08', '10:20'],\n",
       "  ['06/30/10', '11:11 a12/p12'],\n",
       "  ['09/10/10', '10:39 a12/p12'],\n",
       "  ['10/31/09', '23:00 a12/p12'],\n",
       "  ['09/01/09', '17:00 a12/p12'],\n",
       "  ['03/ 5/08', '15:56'],\n",
       "  ['10/10/08', '14:18 a12/p12'],\n",
       "  ['[$-409]10/ 4/07 17:15 a10/p10', '17:00'],\n",
       "  ['02/10/10', '14:10 a12/p12'],\n",
       "  ['10/24/08', '03:48 a12/p12'],\n",
       "  ['10/05/09', '17:40 a12/p12'],\n",
       "  ['11/04/08', '20:10 a12/p12'],\n",
       "  ['01/26/10', '15:29 a12/p12'],\n",
       "  ['02/19/09', '09:49 a12/p12'],\n",
       "  ['05/05/10', '13:04 a12/p12'],\n",
       "  ['10/04/08', '02:36 a12/p12'],\n",
       "  ['[$-409]12/ 9/07 00:30 a12/p12', '17:00'],\n",
       "  ['02/28/09', '19:20 a12/p12'],\n",
       "  ['03/28/2007\"  \"12:50:18 a03/p03', '12:30'],\n",
       "  ['07/07/10', '08:45 a12/p12'],\n",
       "  ['09/03/08', '00:03 a12/p12'],\n",
       "  ['01/18/2007\"  \"00:00:00 a01/p01', '09:50'],\n",
       "  ['[$-409]01/ 2/08 15:36 a01/p01', '15:36'],\n",
       "  ['03/19/10', '00:10 a12/p12'],\n",
       "  ['10/15/08', '09:35 a12/p12'],\n",
       "  ['04/30/10', '00:15 a12/p12'],\n",
       "  ['07/22/09', '12:51 a12/p12'],\n",
       "  ['10/29/08', '20:16 a12/p12'],\n",
       "  ['01/28/2007\"  \"09:00:00 a01/p01', '18:00']]]"
      ]
     },
     "execution_count": 9,
     "metadata": {},
     "output_type": "execute_result"
    }
   ],
   "source": [
    "[data[0][12:14], [x[12:14] for x in sample(data, 30)]]"
   ]
  },
  {
   "cell_type": "code",
   "execution_count": 10,
   "metadata": {
    "collapsed": false
   },
   "outputs": [
    {
     "name": "stdout",
     "output_type": "stream",
     "text": [
      "03/05/07\n",
      "11/12/07\n",
      "2046\n"
     ]
    }
   ],
   "source": [
    "s1 = '03/ 5/2007\"  \"00:00:00 a03/p03'\n",
    "s2 = '[$-409]11/12/07 12:00 a11/p11'\n",
    "print(s1.replace('[$-409]', '').replace('/2007', '/07')[:8].replace(' ', '0'))\n",
    "print(s2.replace('[$-409]', '').replace('/2007', '/07')[:8].replace(' ', '0'))\n",
    "print('20:46 a12/p12'[:5].replace(':', ''))"
   ]
  },
  {
   "cell_type": "markdown",
   "metadata": {},
   "source": [
    "use the same strategy as before for date\n",
    "two weird things:\n",
    "    1. ['09/19/2007\"  \"20:30:57 a09/p09', '08:00'] has am/pm confusion\n",
    "    2. only have combined timestamps in 2007 so just forget it\n",
    "\n",
    "\n",
    "0. s.replace('[$-409]', '').replace('/2007', '/07')[:8].replace(' ', '0')\n",
    "1. s[:4+1].replace(':', '')"
   ]
  },
  {
   "cell_type": "code",
   "execution_count": 11,
   "metadata": {
    "collapsed": false
   },
   "outputs": [
    {
     "data": {
      "text/plain": [
       "[['date_rept', 'DATEofReport', 'REP_DATE'],\n",
       " [['10/ 8/2007\"  \"14:30:00 a10/p10', '10/08/07', '07/10/08'],\n",
       "  ['03/ 1/10', '03/01/10', '10/03/01'],\n",
       "  ['08/ 1/2007\"  \"00:00:00 a08/p08', '08/01/07', '07/08/01'],\n",
       "  ['07/16/2007\"  \"04:09:01 a07/p07', '07/16/07', '07/07/16'],\n",
       "  ['03/28/08', '03/28/08', '08/03/28'],\n",
       "  ['03/ 5/08', '03/05/08', '08/03/05'],\n",
       "  ['01/29/2007\"  \"00:00:00 a01/p01', '01/29/07', '07/01/29'],\n",
       "  ['03/13/08', '03/13/08', '08/03/13'],\n",
       "  ['04/24/2007\"  \"00:00:00 a04/p04', '04/24/07', '07/04/24'],\n",
       "  ['04/29/08', '04/29/08', '08/04/29'],\n",
       "  ['07/ 2/09', '07/02/09', '09/07/02'],\n",
       "  ['09/ 2/10', '09/02/10', '10/09/02'],\n",
       "  ['[$-409]11/ 9/07 22:41 a11/p11', '11/09/07', '07/11/09'],\n",
       "  ['[$-409]11/ 1/07 11:20 a11/p11', '11/01/07', '07/11/01'],\n",
       "  ['03/ 2/10', '03/02/10', '10/03/02'],\n",
       "  ['10/22/09', '10/22/09', '09/10/22'],\n",
       "  ['09/25/08', '09/25/08', '08/09/25'],\n",
       "  ['03/ 4/2007\"  \"15:22:14 a03/p03', '03/04/07', '07/03/04'],\n",
       "  ['03/ 9/2007\"  \"00:30:04 a03/p03', '03/09/07', '07/03/09'],\n",
       "  ['09/ 3/10', '09/03/10', '10/09/03'],\n",
       "  ['[$-409]11/27/07 15:09 a11/p11', '11/27/07', '07/11/27'],\n",
       "  ['06/10/09', '06/10/09', '09/06/10'],\n",
       "  ['09/12/2007\"  \"00:00:00 a09/p09', '09/12/07', '07/09/12'],\n",
       "  ['05/ 7/2007\"  \"00:00:00 a05/p05', '05/07/07', '07/05/07'],\n",
       "  ['01/ 8/09', '01/08/09', '09/01/08'],\n",
       "  ['09/26/2007\"  \"00:00:00 a09/p09', '09/26/07', '07/09/26'],\n",
       "  ['09/19/10', '09/19/10', '10/09/19'],\n",
       "  ['08/20/09', '08/20/09', '09/08/20'],\n",
       "  ['10/24/2007\"  \"13:43:47 a10/p10', '10/24/07', '07/10/24'],\n",
       "  ['03/22/08', '03/22/08', '08/03/22']]]"
      ]
     },
     "execution_count": 11,
     "metadata": {},
     "output_type": "execute_result"
    }
   ],
   "source": [
    "[data[0][7:10], [x[7:10] for x in sample(data, 30)]]"
   ]
  },
  {
   "cell_type": "markdown",
   "metadata": {},
   "source": [
    "just always take DATEofReport"
   ]
  },
  {
   "cell_type": "code",
   "execution_count": 12,
   "metadata": {
    "collapsed": false
   },
   "outputs": [],
   "source": [
    "from datetime import datetime"
   ]
  },
  {
   "cell_type": "code",
   "execution_count": 13,
   "metadata": {
    "collapsed": true
   },
   "outputs": [],
   "source": [
    "to_date = lambda s: datetime.strptime(s, '%m/%d/%y')\n",
    "strip_date_from_datetime = lambda s: s.replace('[$-409]', '').replace('/200', '/0')[:8].replace(' ', '0')\n",
    "clean_fnd_time = lambda s: s[:4+1].replace(':', '')\n",
    "clean_occ_time = lambda s: s.replace(':', '')"
   ]
  },
  {
   "cell_type": "code",
   "execution_count": 14,
   "metadata": {
    "collapsed": false
   },
   "outputs": [],
   "source": [
    "data_date_corrected = []\n",
    "data_date_corrected.append(data[0][0:7] + [\n",
    "        data[0][8]\n",
    "] + data[0][10:14] + data[0][14:])\n",
    "for row in data[1:]:\n",
    "    new_row = row[0:7] + [to_date(row[8]),\n",
    "                          to_date(strip_date_from_datetime(row[10])),\n",
    "                          clean_occ_time(row[11]),\n",
    "                          to_date(strip_date_from_datetime(row[12])),\n",
    "                          clean_fnd_time(row[13])\n",
    "                          ] + row[14:]\n",
    "    data_date_corrected.append(new_row)"
   ]
  },
  {
   "cell_type": "code",
   "execution_count": 15,
   "metadata": {
    "collapsed": false
   },
   "outputs": [],
   "source": [
    "weird_future_rows = [\n",
    "    (i, data[i+1], row) for i, row in enumerate(data_date_corrected[1:])\n",
    "    if row[8].year > 2010\n",
    "]"
   ]
  },
  {
   "cell_type": "code",
   "execution_count": 16,
   "metadata": {
    "collapsed": false
   },
   "outputs": [
    {
     "data": {
      "text/plain": [
       "[(1096,\n",
       "  ['1231 THEO DICKINSON DR',\n",
       "   '803',\n",
       "   '07008592',\n",
       "   '1',\n",
       "   'PRB',\n",
       "   'PROPERTY LOST',\n",
       "   '07U',\n",
       "   '09/25/2007\"  \"13:50:00 a09/p09',\n",
       "   '09/25/07',\n",
       "   '07/09/25',\n",
       "   '12/ 1/1997\"  \"08:00:00 a12/p12',\n",
       "   '0800',\n",
       "   '09/25/2007\"  \"13:50:00 a09/p09',\n",
       "   '08:00',\n",
       "   '',\n",
       "   '',\n",
       "   '',\n",
       "   '893062.690',\n",
       "   '501740.530'],\n",
       "  ['1231 THEO DICKINSON DR',\n",
       "   '803',\n",
       "   '07008592',\n",
       "   '1',\n",
       "   'PRB',\n",
       "   'PROPERTY LOST',\n",
       "   '07U',\n",
       "   datetime.datetime(2007, 9, 25, 0, 0),\n",
       "   datetime.datetime(2019, 12, 1, 0, 0),\n",
       "   '0800',\n",
       "   datetime.datetime(2007, 9, 25, 0, 0),\n",
       "   '0800',\n",
       "   '',\n",
       "   '',\n",
       "   '',\n",
       "   '893062.690',\n",
       "   '501740.530'])]"
      ]
     },
     "execution_count": 16,
     "metadata": {},
     "output_type": "execute_result"
    }
   ],
   "source": [
    "weird_future_rows"
   ]
  },
  {
   "cell_type": "markdown",
   "metadata": {},
   "source": [
    "yeah, so this is either a ridiculous data entry error or a GREAT story"
   ]
  },
  {
   "cell_type": "code",
   "execution_count": 17,
   "metadata": {
    "collapsed": false,
    "scrolled": true
   },
   "outputs": [
    {
     "name": "stdout",
     "output_type": "stream",
     "text": [
      "['1231 THEO DICKINSON DR', '803', '07008592', '1', 'PRB', 'PROPERTY LOST', '07U', datetime.datetime(2007, 9, 25, 0, 0), datetime.datetime(2007, 9, 25, 0, 0), '0800', datetime.datetime(2007, 9, 25, 0, 0), '0800', '', '', '', '893062.690', '501740.530']\n"
     ]
    }
   ],
   "source": [
    "data_date_corrected[1097][8] = datetime(2007, 9, 25)\n",
    "print(data_date_corrected[1097])"
   ]
  },
  {
   "cell_type": "code",
   "execution_count": 18,
   "metadata": {
    "collapsed": false
   },
   "outputs": [],
   "source": [
    "weird_old_rows = [\n",
    "    (i, data[i+1], row) for i, row in enumerate(data_date_corrected[1:])\n",
    "    if row[8].year < 2007\n",
    "]"
   ]
  },
  {
   "cell_type": "code",
   "execution_count": 19,
   "metadata": {
    "collapsed": false,
    "scrolled": true
   },
   "outputs": [
    {
     "data": {
      "text/plain": [
       "17"
      ]
     },
     "execution_count": 19,
     "metadata": {},
     "output_type": "execute_result"
    }
   ],
   "source": [
    "len(weird_old_rows)"
   ]
  },
  {
   "cell_type": "code",
   "execution_count": 20,
   "metadata": {
    "collapsed": false,
    "scrolled": true
   },
   "outputs": [
    {
     "data": {
      "text/plain": [
       "[(6,\n",
       "  ['1560 LIGURIA AV',\n",
       "   '105',\n",
       "   '07000168',\n",
       "   '1',\n",
       "   'XOP',\n",
       "   'ORDINANCE VIOLATION',\n",
       "   '07U',\n",
       "   '01/ 6/2007\"  \"22:59:00 a01/p01',\n",
       "   '01/06/07',\n",
       "   '07/01/06',\n",
       "   '01/ 6/2006\"  \"21:35:00 a01/p01',\n",
       "   '2135',\n",
       "   '01/ 6/2007\"  \"22:25:00 a01/p01',\n",
       "   '21:35',\n",
       "   '103',\n",
       "   '891566.97100000002',\n",
       "   '501944.41700000002',\n",
       "   '892822.380',\n",
       "   '501564.190'],\n",
       "  ['1560 LIGURIA AV',\n",
       "   '105',\n",
       "   '07000168',\n",
       "   '1',\n",
       "   'XOP',\n",
       "   'ORDINANCE VIOLATION',\n",
       "   '07U',\n",
       "   datetime.datetime(2007, 1, 6, 0, 0),\n",
       "   datetime.datetime(2006, 1, 6, 0, 0),\n",
       "   '2135',\n",
       "   datetime.datetime(2007, 1, 6, 0, 0),\n",
       "   '2135',\n",
       "   '103',\n",
       "   '891566.97100000002',\n",
       "   '501944.41700000002',\n",
       "   '892822.380',\n",
       "   '501564.190']),\n",
       " (28,\n",
       "  ['1306 STANFORD DR',\n",
       "   '',\n",
       "   '06009809',\n",
       "   '1',\n",
       "   'THC',\n",
       "   'THEFT FROM MOTOR VEHICLE',\n",
       "   '07U',\n",
       "   '01/17/2007\"  \"02:35:00 a01/p01',\n",
       "   '01/17/07',\n",
       "   '07/01/17',\n",
       "   '10/31/2006\"  \"22:30:00 a10/p10',\n",
       "   '2230',\n",
       "   '10/31/2006\"  \"23:00:00 a10/p10',\n",
       "   '22:30',\n",
       "   '432',\n",
       "   '894239.15800000005',\n",
       "   '504433.315',\n",
       "   '893603.060',\n",
       "   '505267.690'],\n",
       "  ['1306 STANFORD DR',\n",
       "   '',\n",
       "   '06009809',\n",
       "   '1',\n",
       "   'THC',\n",
       "   'THEFT FROM MOTOR VEHICLE',\n",
       "   '07U',\n",
       "   datetime.datetime(2007, 1, 17, 0, 0),\n",
       "   datetime.datetime(2006, 10, 31, 0, 0),\n",
       "   '2230',\n",
       "   datetime.datetime(2006, 10, 31, 0, 0),\n",
       "   '2230',\n",
       "   '432',\n",
       "   '894239.15800000005',\n",
       "   '504433.315',\n",
       "   '893603.060',\n",
       "   '505267.690']),\n",
       " (40,\n",
       "  ['5665 PONCE DE LEON BLVD',\n",
       "   '',\n",
       "   '07000506',\n",
       "   '1',\n",
       "   'PRB',\n",
       "   'PROPERTY LOST',\n",
       "   '07U',\n",
       "   '01/19/2007\"  \"12:32:05 a01/p01',\n",
       "   '01/19/07',\n",
       "   '07/01/19',\n",
       "   '11/24/2006\"  \"13:00:00 a11/p11',\n",
       "   '1300',\n",
       "   '12/ 2/2006\"  \"18:00:05 a12/p12',\n",
       "   '13:00',\n",
       "   '',\n",
       "   '',\n",
       "   '',\n",
       "   '894326.810',\n",
       "   '503344.000'],\n",
       "  ['5665 PONCE DE LEON BLVD',\n",
       "   '',\n",
       "   '07000506',\n",
       "   '1',\n",
       "   'PRB',\n",
       "   'PROPERTY LOST',\n",
       "   '07U',\n",
       "   datetime.datetime(2007, 1, 19, 0, 0),\n",
       "   datetime.datetime(2006, 11, 24, 0, 0),\n",
       "   '1300',\n",
       "   datetime.datetime(2006, 12, 2, 0, 0),\n",
       "   '1300',\n",
       "   '',\n",
       "   '',\n",
       "   '',\n",
       "   '894326.810',\n",
       "   '503344.000']),\n",
       " (49,\n",
       "  ['1306 STANFORD DR',\n",
       "   '',\n",
       "   '07000599',\n",
       "   '1',\n",
       "   'PRA',\n",
       "   'PROPERTY FOUND / IMPOUNDED',\n",
       "   '07U',\n",
       "   '01/22/2007\"  \"15:33:49 a01/p01',\n",
       "   '01/22/07',\n",
       "   '07/01/22',\n",
       "   '11/ 1/2006\"  \"00:00:00 a11/p11',\n",
       "   '0000',\n",
       "   '01/22/2007\"  \"15:00:00 a01/p01',\n",
       "   '00:00',\n",
       "   '31',\n",
       "   '893821.40300000005',\n",
       "   '504487.02600000001',\n",
       "   '895340.180',\n",
       "   '503859.210'],\n",
       "  ['1306 STANFORD DR',\n",
       "   '',\n",
       "   '07000599',\n",
       "   '1',\n",
       "   'PRA',\n",
       "   'PROPERTY FOUND / IMPOUNDED',\n",
       "   '07U',\n",
       "   datetime.datetime(2007, 1, 22, 0, 0),\n",
       "   datetime.datetime(2006, 11, 1, 0, 0),\n",
       "   '0000',\n",
       "   datetime.datetime(2007, 1, 22, 0, 0),\n",
       "   '0000',\n",
       "   '31',\n",
       "   '893821.40300000005',\n",
       "   '504487.02600000001',\n",
       "   '895340.180',\n",
       "   '503859.210']),\n",
       " (50,\n",
       "  ['5100 BRUNSON DR',\n",
       "   'BLK',\n",
       "   '07000603',\n",
       "   '1',\n",
       "   'THK',\n",
       "   'THEFT OTHER',\n",
       "   '07U',\n",
       "   '01/22/2007\"  \"17:35:55 a01/p01',\n",
       "   '01/22/07',\n",
       "   '07/01/22',\n",
       "   '11/ 1/2006\"  \"00:00:00 a11/p11',\n",
       "   '0000',\n",
       "   '01/22/2007\"  \"08:00:00 a01/p01',\n",
       "   '00:00',\n",
       "   '',\n",
       "   '',\n",
       "   '',\n",
       "   '894689.880',\n",
       "   '504124.530'],\n",
       "  ['5100 BRUNSON DR',\n",
       "   'BLK',\n",
       "   '07000603',\n",
       "   '1',\n",
       "   'THK',\n",
       "   'THEFT OTHER',\n",
       "   '07U',\n",
       "   datetime.datetime(2007, 1, 22, 0, 0),\n",
       "   datetime.datetime(2006, 11, 1, 0, 0),\n",
       "   '0000',\n",
       "   datetime.datetime(2007, 1, 22, 0, 0),\n",
       "   '0000',\n",
       "   '',\n",
       "   '',\n",
       "   '',\n",
       "   '894689.880',\n",
       "   '504124.530']),\n",
       " (260,\n",
       "  ['1231 THEO DICKINSON DR',\n",
       "   'MT 1206',\n",
       "   '07001997',\n",
       "   '1',\n",
       "   'SCE',\n",
       "   'SIMPLE HARASSMENT',\n",
       "   '07U',\n",
       "   '03/ 4/2007\"  \"15:22:14 a03/p03',\n",
       "   '03/04/07',\n",
       "   '07/03/04',\n",
       "   '12/ 5/2006\"  \"00:00:00 a12/p12',\n",
       "   '0000',\n",
       "   '03/ 4/2007\"  \"15:22:14 a03/p03',\n",
       "   '00:00',\n",
       "   '',\n",
       "   '',\n",
       "   '',\n",
       "   '894667.940',\n",
       "   '504124.660'],\n",
       "  ['1231 THEO DICKINSON DR',\n",
       "   'MT 1206',\n",
       "   '07001997',\n",
       "   '1',\n",
       "   'SCE',\n",
       "   'SIMPLE HARASSMENT',\n",
       "   '07U',\n",
       "   datetime.datetime(2007, 3, 4, 0, 0),\n",
       "   datetime.datetime(2006, 12, 5, 0, 0),\n",
       "   '0000',\n",
       "   datetime.datetime(2007, 3, 4, 0, 0),\n",
       "   '0000',\n",
       "   '',\n",
       "   '',\n",
       "   '',\n",
       "   '894667.940',\n",
       "   '504124.660']),\n",
       " (357,\n",
       "  ['1245 DAUER DR',\n",
       "   '',\n",
       "   '07002643',\n",
       "   '1',\n",
       "   'FRD',\n",
       "   'FRAUD BY CREDIT CARD / ATM',\n",
       "   '07U',\n",
       "   '03/23/2007\"  \"11:10:09 a03/p03',\n",
       "   '03/23/07',\n",
       "   '07/03/23',\n",
       "   '03/19/2006\"  \"20:00:00 a03/p03',\n",
       "   '2000',\n",
       "   '03/21/2006\"  \"17:00:00 a03/p03',\n",
       "   '20:00',\n",
       "   '65',\n",
       "   '893424.071',\n",
       "   '502854.73300000001',\n",
       "   '893424.250',\n",
       "   '504611.500'],\n",
       "  ['1245 DAUER DR',\n",
       "   '',\n",
       "   '07002643',\n",
       "   '1',\n",
       "   'FRD',\n",
       "   'FRAUD BY CREDIT CARD / ATM',\n",
       "   '07U',\n",
       "   datetime.datetime(2007, 3, 23, 0, 0),\n",
       "   datetime.datetime(2006, 3, 19, 0, 0),\n",
       "   '2000',\n",
       "   datetime.datetime(2006, 3, 21, 0, 0),\n",
       "   '2000',\n",
       "   '65',\n",
       "   '893424.071',\n",
       "   '502854.73300000001',\n",
       "   '893424.250',\n",
       "   '504611.500']),\n",
       " (526,\n",
       "  ['1241 THEO DICKINSON DR',\n",
       "   '',\n",
       "   '07003786',\n",
       "   '1',\n",
       "   'VAB',\n",
       "   'VANDALISM TO VEHICLE',\n",
       "   '07U',\n",
       "   '04/26/2007\"  \"02:58:57 a04/p04',\n",
       "   '04/26/07',\n",
       "   '07/04/26',\n",
       "   '04/24/2006\"  \"17:00:00 a04/p04',\n",
       "   '1700',\n",
       "   '04/25/2007\"  \"17:00:00 a04/p04',\n",
       "   '17:00',\n",
       "   '81',\n",
       "   '892858.31700000004',\n",
       "   '503002.52299999999',\n",
       "   '893181.630',\n",
       "   '503228.560'],\n",
       "  ['1241 THEO DICKINSON DR',\n",
       "   '',\n",
       "   '07003786',\n",
       "   '1',\n",
       "   'VAB',\n",
       "   'VANDALISM TO VEHICLE',\n",
       "   '07U',\n",
       "   datetime.datetime(2007, 4, 26, 0, 0),\n",
       "   datetime.datetime(2006, 4, 24, 0, 0),\n",
       "   '1700',\n",
       "   datetime.datetime(2007, 4, 25, 0, 0),\n",
       "   '1700',\n",
       "   '81',\n",
       "   '892858.31700000004',\n",
       "   '503002.52299999999',\n",
       "   '893181.630',\n",
       "   '503228.560']),\n",
       " (546,\n",
       "  ['5665 PONCE DE LEON BLVD',\n",
       "   '',\n",
       "   '07004006',\n",
       "   '1',\n",
       "   'SCD',\n",
       "   'SIMPLE STALKING',\n",
       "   '07U',\n",
       "   '05/ 1/2007\"  \"19:14:44 a05/p05',\n",
       "   '05/01/07',\n",
       "   '07/05/01',\n",
       "   '09/15/2006\"  \"01:00:00 a09/p09',\n",
       "   '0100',\n",
       "   '04/30/2007\"  \"05:00:00 a04/p04',\n",
       "   '0.041667',\n",
       "   '',\n",
       "   '',\n",
       "   '',\n",
       "   '894137.690',\n",
       "   '503780.250'],\n",
       "  ['5665 PONCE DE LEON BLVD',\n",
       "   '',\n",
       "   '07004006',\n",
       "   '1',\n",
       "   'SCD',\n",
       "   'SIMPLE STALKING',\n",
       "   '07U',\n",
       "   datetime.datetime(2007, 5, 1, 0, 0),\n",
       "   datetime.datetime(2006, 9, 15, 0, 0),\n",
       "   '0100',\n",
       "   datetime.datetime(2007, 4, 30, 0, 0),\n",
       "   '0.041',\n",
       "   '',\n",
       "   '',\n",
       "   '',\n",
       "   '894137.690',\n",
       "   '503780.250']),\n",
       " (547,\n",
       "  ['5665 PONCE DE LEON BLVD',\n",
       "   '',\n",
       "   '07004006',\n",
       "   '1',\n",
       "   'SCE',\n",
       "   'SIMPLE HARASSMENT',\n",
       "   '07U',\n",
       "   '05/ 1/2007\"  \"19:14:44 a05/p05',\n",
       "   '05/01/07',\n",
       "   '07/05/01',\n",
       "   '09/15/2006\"  \"01:00:00 a09/p09',\n",
       "   '0100',\n",
       "   '04/30/2007\"  \"05:00:00 a04/p04',\n",
       "   '0.041667',\n",
       "   '',\n",
       "   '',\n",
       "   '',\n",
       "   '894277.560',\n",
       "   '506034.280'],\n",
       "  ['5665 PONCE DE LEON BLVD',\n",
       "   '',\n",
       "   '07004006',\n",
       "   '1',\n",
       "   'SCE',\n",
       "   'SIMPLE HARASSMENT',\n",
       "   '07U',\n",
       "   datetime.datetime(2007, 5, 1, 0, 0),\n",
       "   datetime.datetime(2006, 9, 15, 0, 0),\n",
       "   '0100',\n",
       "   datetime.datetime(2007, 4, 30, 0, 0),\n",
       "   '0.041',\n",
       "   '',\n",
       "   '',\n",
       "   '',\n",
       "   '894277.560',\n",
       "   '506034.280']),\n",
       " (559,\n",
       "  ['1231 THEO DICKINSON DR',\n",
       "   '',\n",
       "   '07004032',\n",
       "   '1',\n",
       "   'SCA',\n",
       "   'SIMPLE BATTERY',\n",
       "   '07U',\n",
       "   '05/ 2/2007\"  \"10:57:56 a05/p05',\n",
       "   '05/02/07',\n",
       "   '07/05/02',\n",
       "   '08/ 1/2005\"  \"00:00:00 a08/p08',\n",
       "   '0000',\n",
       "   '04/30/2007\"  \"00:00:00 a04/p04',\n",
       "   '00:00',\n",
       "   '',\n",
       "   '',\n",
       "   '',\n",
       "   '891951.060',\n",
       "   '502352.380'],\n",
       "  ['1231 THEO DICKINSON DR',\n",
       "   '',\n",
       "   '07004032',\n",
       "   '1',\n",
       "   'SCA',\n",
       "   'SIMPLE BATTERY',\n",
       "   '07U',\n",
       "   datetime.datetime(2007, 5, 2, 0, 0),\n",
       "   datetime.datetime(2005, 8, 1, 0, 0),\n",
       "   '0000',\n",
       "   datetime.datetime(2007, 4, 30, 0, 0),\n",
       "   '0000',\n",
       "   '',\n",
       "   '',\n",
       "   '',\n",
       "   '891951.060',\n",
       "   '502352.380']),\n",
       " (560,\n",
       "  ['1231 THEO DICKINSON DR',\n",
       "   '',\n",
       "   '07004032',\n",
       "   '2',\n",
       "   'SCB',\n",
       "   'SIMPLE ASSAULT / THREATS',\n",
       "   '07U',\n",
       "   '05/ 2/2007\"  \"10:57:56 a05/p05',\n",
       "   '05/02/07',\n",
       "   '07/05/02',\n",
       "   '08/ 1/2005\"  \"00:00:00 a08/p08',\n",
       "   '0000',\n",
       "   '04/30/2007\"  \"00:00:00 a04/p04',\n",
       "   '00:00',\n",
       "   '',\n",
       "   '',\n",
       "   '',\n",
       "   '894667.940',\n",
       "   '504124.660'],\n",
       "  ['1231 THEO DICKINSON DR',\n",
       "   '',\n",
       "   '07004032',\n",
       "   '2',\n",
       "   'SCB',\n",
       "   'SIMPLE ASSAULT / THREATS',\n",
       "   '07U',\n",
       "   datetime.datetime(2007, 5, 2, 0, 0),\n",
       "   datetime.datetime(2005, 8, 1, 0, 0),\n",
       "   '0000',\n",
       "   datetime.datetime(2007, 4, 30, 0, 0),\n",
       "   '0000',\n",
       "   '',\n",
       "   '',\n",
       "   '',\n",
       "   '894667.940',\n",
       "   '504124.660']),\n",
       " (1258,\n",
       "  ['1300 MEMORIAL DR',\n",
       "   '',\n",
       "   '07009654',\n",
       "   '1',\n",
       "   'THF',\n",
       "   'THEFT FROM STRUCTURE  WITH LEGAL ACCESS / PUBLIC BUILDING',\n",
       "   '07U',\n",
       "   '10/24/2007\"  \"15:10:00 a10/p10',\n",
       "   '10/24/07',\n",
       "   '07/10/24',\n",
       "   '10/24/2001\"  \"14:10:00 a10/p10',\n",
       "   '1410',\n",
       "   '10/24/2007\"  \"14:10:00 a10/p10',\n",
       "   '14:10',\n",
       "   '16',\n",
       "   '893634.74199999997',\n",
       "   '505003.36800000002',\n",
       "   '',\n",
       "   ''],\n",
       "  ['1300 MEMORIAL DR',\n",
       "   '',\n",
       "   '07009654',\n",
       "   '1',\n",
       "   'THF',\n",
       "   'THEFT FROM STRUCTURE  WITH LEGAL ACCESS / PUBLIC BUILDING',\n",
       "   '07U',\n",
       "   datetime.datetime(2007, 10, 24, 0, 0),\n",
       "   datetime.datetime(2001, 10, 24, 0, 0),\n",
       "   '1410',\n",
       "   datetime.datetime(2007, 10, 24, 0, 0),\n",
       "   '1410',\n",
       "   '16',\n",
       "   '893634.74199999997',\n",
       "   '505003.36800000002',\n",
       "   '',\n",
       "   '']),\n",
       " (1605,\n",
       "  ['5665 PONCE DE LEON BLVD',\n",
       "   '',\n",
       "   '08001065',\n",
       "   '1',\n",
       "   'FRH',\n",
       "   'FRAUD BY UTTERING FORGERY',\n",
       "   '07U',\n",
       "   '[$-409]02/ 6/08 09:30 a02/p02',\n",
       "   '02/06/08',\n",
       "   '08/02/06',\n",
       "   '[$-409]02/14/05 12:00 a02/p02',\n",
       "   '1200',\n",
       "   '[$-409]12/ 1/07 12:00 a12/p12',\n",
       "   '12:00',\n",
       "   '',\n",
       "   '',\n",
       "   '',\n",
       "   '',\n",
       "   ''],\n",
       "  ['5665 PONCE DE LEON BLVD',\n",
       "   '',\n",
       "   '08001065',\n",
       "   '1',\n",
       "   'FRH',\n",
       "   'FRAUD BY UTTERING FORGERY',\n",
       "   '07U',\n",
       "   datetime.datetime(2008, 2, 6, 0, 0),\n",
       "   datetime.datetime(2005, 2, 14, 0, 0),\n",
       "   '1200',\n",
       "   datetime.datetime(2007, 12, 1, 0, 0),\n",
       "   '1200',\n",
       "   '',\n",
       "   '',\n",
       "   '',\n",
       "   '',\n",
       "   '']),\n",
       " (1715,\n",
       "  ['1239 THEO DICKINSON DR',\n",
       "   '1206',\n",
       "   '08001676',\n",
       "   '1',\n",
       "   'SCE',\n",
       "   'SIMPLE HARASSMENT',\n",
       "   '07U',\n",
       "   '02/24/08',\n",
       "   '02/24/08',\n",
       "   '08/02/24',\n",
       "   '01/ 1/05',\n",
       "   '1200',\n",
       "   '02/24/08',\n",
       "   '12:00',\n",
       "   '',\n",
       "   '',\n",
       "   '',\n",
       "   '',\n",
       "   ''],\n",
       "  ['1239 THEO DICKINSON DR',\n",
       "   '1206',\n",
       "   '08001676',\n",
       "   '1',\n",
       "   'SCE',\n",
       "   'SIMPLE HARASSMENT',\n",
       "   '07U',\n",
       "   datetime.datetime(2008, 2, 24, 0, 0),\n",
       "   datetime.datetime(2005, 1, 1, 0, 0),\n",
       "   '1200',\n",
       "   datetime.datetime(2008, 2, 24, 0, 0),\n",
       "   '1200',\n",
       "   '',\n",
       "   '',\n",
       "   '',\n",
       "   '',\n",
       "   '']),\n",
       " (1784,\n",
       "  ['1111 MEMORIAL DR',\n",
       "   '',\n",
       "   '08002133',\n",
       "   '1',\n",
       "   'SCE',\n",
       "   'SIMPLE HARASSMENT',\n",
       "   '07U',\n",
       "   '03/11/08',\n",
       "   '03/11/08',\n",
       "   '08/03/11',\n",
       "   '08/15/06',\n",
       "   '0000',\n",
       "   '03/11/08',\n",
       "   '00:00',\n",
       "   '18',\n",
       "   '894105.66599999997',\n",
       "   '505505.27299999999',\n",
       "   '',\n",
       "   ''],\n",
       "  ['1111 MEMORIAL DR',\n",
       "   '',\n",
       "   '08002133',\n",
       "   '1',\n",
       "   'SCE',\n",
       "   'SIMPLE HARASSMENT',\n",
       "   '07U',\n",
       "   datetime.datetime(2008, 3, 11, 0, 0),\n",
       "   datetime.datetime(2006, 8, 15, 0, 0),\n",
       "   '0000',\n",
       "   datetime.datetime(2008, 3, 11, 0, 0),\n",
       "   '0000',\n",
       "   '18',\n",
       "   '894105.66599999997',\n",
       "   '505505.27299999999',\n",
       "   '',\n",
       "   '']),\n",
       " (2074,\n",
       "  ['1311 MILLER DR',\n",
       "   '',\n",
       "   '08003918',\n",
       "   '1',\n",
       "   'THG',\n",
       "   'THEFT FROM COIN OPERATED MACHINE',\n",
       "   '07U',\n",
       "   '05/ 2/08',\n",
       "   '05/02/08',\n",
       "   '08/05/02',\n",
       "   '05/ 2/05',\n",
       "   '2230',\n",
       "   '05/02/08',\n",
       "   '22:30',\n",
       "   '',\n",
       "   '',\n",
       "   '',\n",
       "   '',\n",
       "   ''],\n",
       "  ['1311 MILLER DR',\n",
       "   '',\n",
       "   '08003918',\n",
       "   '1',\n",
       "   'THG',\n",
       "   'THEFT FROM COIN OPERATED MACHINE',\n",
       "   '07U',\n",
       "   datetime.datetime(2008, 5, 2, 0, 0),\n",
       "   datetime.datetime(2005, 5, 2, 0, 0),\n",
       "   '2230',\n",
       "   datetime.datetime(2008, 5, 2, 0, 0),\n",
       "   '2230',\n",
       "   '',\n",
       "   '',\n",
       "   '',\n",
       "   '',\n",
       "   ''])]"
      ]
     },
     "execution_count": 20,
     "metadata": {},
     "output_type": "execute_result"
    }
   ],
   "source": [
    "weird_old_rows"
   ]
  },
  {
   "cell_type": "markdown",
   "metadata": {},
   "source": [
    "2006 (11 weird) isn't that suspicious but 2001 (1 weird) and 2005 (5 weird) def are"
   ]
  },
  {
   "cell_type": "code",
   "execution_count": 31,
   "metadata": {
    "collapsed": false
   },
   "outputs": [
    {
     "name": "stdout",
     "output_type": "stream",
     "text": [
      "removed 54 points\n"
     ]
    }
   ],
   "source": [
    "from datetime import timedelta\n",
    "def probable_misentry(a, b, months=2, check_same_day=True):\n",
    "    reasonable_entry_lag = timedelta(weeks=months*4)\n",
    "    \n",
    "    if abs(a-b) > reasonable_entry_lag:\n",
    "        if not check_same_day:\n",
    "            return True\n",
    "        return a.month == b.month and a.day == b.day\n",
    "    return False\n",
    "\n",
    "# TODO could manually correct them\n",
    "data_outlier_remove = [data_date_corrected[0]] + [\n",
    "    row for row in data_date_corrected[1:]\n",
    "    if not probable_misentry(row[7], row[8], check_same_day=False)\n",
    "]\n",
    "\n",
    "print('removed {} points'.format(len(data_date_corrected)-len(data_outlier_remove)))"
   ]
  },
  {
   "cell_type": "code",
   "execution_count": 28,
   "metadata": {
    "collapsed": true
   },
   "outputs": [],
   "source": [
    "from collections import defaultdict"
   ]
  },
  {
   "cell_type": "code",
   "execution_count": 29,
   "metadata": {
    "collapsed": false
   },
   "outputs": [],
   "source": [
    "yearly_data = defaultdict(list)\n",
    "for row in data_outlier_remove[1:]:\n",
    "    yearly_data[row[8].year].append(row)"
   ]
  },
  {
   "cell_type": "code",
   "execution_count": 30,
   "metadata": {
    "collapsed": false,
    "scrolled": true
   },
   "outputs": [
    {
     "data": {
      "text/plain": [
       "dict_keys([2008, 2009, 2010, 2006, 2007])"
      ]
     },
     "execution_count": 30,
     "metadata": {},
     "output_type": "execute_result"
    }
   ],
   "source": [
    "yearly_data.keys()"
   ]
  },
  {
   "cell_type": "markdown",
   "metadata": {},
   "source": [
    "now, let's write a separate file for each year and make sure to only take date for date columns"
   ]
  },
  {
   "cell_type": "code",
   "execution_count": 33,
   "metadata": {
    "collapsed": false
   },
   "outputs": [
    {
     "data": {
      "text/plain": [
       "[(0, 'Address1'),\n",
       " (1, 'Apt'),\n",
       " (2, 'Case'),\n",
       " (3, 'Pri_Offens'),\n",
       " (4, 'Off_Code'),\n",
       " (5, 'Offense'),\n",
       " (6, 'tract'),\n",
       " (7, 'DATEofReport'),\n",
       " (8, 'date_occ'),\n",
       " (9, 'hour_occ'),\n",
       " (10, 'date_fnd'),\n",
       " (11, 'hour_fnd'),\n",
       " (12, 'FID'),\n",
       " (13, 'X'),\n",
       " (14, 'Y'),\n",
       " (15, 'Donxees'),\n",
       " (16, 'Donyees')]"
      ]
     },
     "execution_count": 33,
     "metadata": {},
     "output_type": "execute_result"
    }
   ],
   "source": [
    "list(enumerate(data_outlier_remove[0]))"
   ]
  },
  {
   "cell_type": "code",
   "execution_count": 34,
   "metadata": {
    "collapsed": false
   },
   "outputs": [
    {
     "name": "stdout",
     "output_type": "stream",
     "text": [
      "writing ./data/converted_crime_data/Crime_pass3_2008.csv\n",
      "writing ./data/converted_crime_data/Crime_pass3_2009.csv\n",
      "writing ./data/converted_crime_data/Crime_pass3_2010.csv\n",
      "writing ./data/converted_crime_data/Crime_pass3_2006.csv\n",
      "writing ./data/converted_crime_data/Crime_pass3_2007.csv\n"
     ]
    }
   ],
   "source": [
    "for year, values in yearly_data.items():\n",
    "    fn = './data/converted_crime_data/Crime_pass3_{}.csv'.format(year)\n",
    "    print('writing ' + fn)\n",
    "    with open(fn, 'w') as f:\n",
    "        writer = csv.writer(f)\n",
    "        writer.writerow(data_outlier_remove[0])\n",
    "        for row in values:\n",
    "            writer.writerow(\n",
    "                row[:7] + [\n",
    "                    row[7].strftime(\"%Y-%m-%d\"), row[8].strftime(\"%Y-%m-%d\"),\n",
    "                    row[9], row[10].strftime(\"%Y-%m-%d\")\n",
    "                ] + row[11:]\n",
    "            )"
   ]
  }
 ],
 "metadata": {
  "kernelspec": {
   "display_name": "Python 3",
   "language": "python",
   "name": "python3"
  },
  "language_info": {
   "codemirror_mode": {
    "name": "ipython",
    "version": 3
   },
   "file_extension": ".py",
   "mimetype": "text/x-python",
   "name": "python",
   "nbconvert_exporter": "python",
   "pygments_lexer": "ipython3",
   "version": "3.4.3"
  }
 },
 "nbformat": 4,
 "nbformat_minor": 0
}
