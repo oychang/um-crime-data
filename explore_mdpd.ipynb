{
 "cells": [
  {
   "cell_type": "code",
   "execution_count": 20,
   "metadata": {
    "collapsed": false
   },
   "outputs": [],
   "source": [
    "def namedtuples_from_csv(filename, name=None):\n",
    "    import csv\n",
    "    from collections import namedtuple\n",
    "    \n",
    "    with open(filename) as f:\n",
    "        reader = csv.reader(f)\n",
    "        \n",
    "        header = next(reader)\n",
    "        header = [col.lower().strip().replace(' ', '_') for col in header]\n",
    "        \n",
    "        if name is None:\n",
    "            import os\n",
    "            name = os.path.splitext(os.path.split(filename)[1])[0]\n",
    "        schema = namedtuple(name, header)\n",
    "        \n",
    "        return [schema(*row) for row in reader]"
   ]
  },
  {
   "cell_type": "code",
   "execution_count": 21,
   "metadata": {
    "collapsed": false
   },
   "outputs": [],
   "source": [
    "data = namedtuples_from_csv('./data/MiamiCrimeDataFull.csv', name='crime')"
   ]
  }
 ],
 "metadata": {
  "kernelspec": {
   "display_name": "Python 3",
   "language": "python",
   "name": "python3"
  },
  "language_info": {
   "codemirror_mode": {
    "name": "ipython",
    "version": 3
   },
   "file_extension": ".py",
   "mimetype": "text/x-python",
   "name": "python",
   "nbconvert_exporter": "python",
   "pygments_lexer": "ipython3",
   "version": "3.4.3"
  }
 },
 "nbformat": 4,
 "nbformat_minor": 0
}
