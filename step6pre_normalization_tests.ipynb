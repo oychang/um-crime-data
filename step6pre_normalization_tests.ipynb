{
 "cells": [
  {
   "cell_type": "code",
   "execution_count": 1,
   "metadata": {
    "collapsed": true
   },
   "outputs": [],
   "source": [
    "import csv\n",
    "from collections import defaultdict"
   ]
  },
  {
   "cell_type": "code",
   "execution_count": 2,
   "metadata": {
    "collapsed": true
   },
   "outputs": [],
   "source": [
    "with open('./data/converted_crime_data/Crime_pass5_no_tracts.csv') as f:\n",
    "    data = [r for r in csv.reader(f)]"
   ]
  },
  {
   "cell_type": "code",
   "execution_count": 12,
   "metadata": {
    "collapsed": true
   },
   "outputs": [],
   "source": [
    "offenses = defaultdict(set)"
   ]
  },
  {
   "cell_type": "code",
   "execution_count": 4,
   "metadata": {
    "collapsed": false
   },
   "outputs": [
    {
     "data": {
      "text/plain": [
       "[(0, 'address'),\n",
       " (1, 'apt'),\n",
       " (2, 'case'),\n",
       " (3, 'primary_offense'),\n",
       " (4, 'offense_code'),\n",
       " (5, 'offense'),\n",
       " (6, 'date_rept'),\n",
       " (7, 'date_occu'),\n",
       " (8, 'hour_occu'),\n",
       " (9, 'date_fnd'),\n",
       " (10, 'hour_fnd'),\n",
       " (11, 'fid'),\n",
       " (12, 'x'),\n",
       " (13, 'y')]"
      ]
     },
     "execution_count": 4,
     "metadata": {},
     "output_type": "execute_result"
    }
   ],
   "source": [
    "list(enumerate(data[0]))"
   ]
  },
  {
   "cell_type": "code",
   "execution_count": 5,
   "metadata": {
    "collapsed": false
   },
   "outputs": [
    {
     "data": {
      "text/plain": [
       "['VAB', 'VANDALISM TO VEHICLE']"
      ]
     },
     "execution_count": 5,
     "metadata": {},
     "output_type": "execute_result"
    }
   ],
   "source": [
    "data[1][4:6]"
   ]
  },
  {
   "cell_type": "code",
   "execution_count": 13,
   "metadata": {
    "collapsed": true
   },
   "outputs": [],
   "source": [
    "for row in data[1:]:\n",
    "    offenses[row[4]].add(row[5])"
   ]
  },
  {
   "cell_type": "code",
   "execution_count": 14,
   "metadata": {
    "collapsed": false
   },
   "outputs": [
    {
     "data": {
      "text/plain": [
       "True"
      ]
     },
     "execution_count": 14,
     "metadata": {},
     "output_type": "execute_result"
    }
   ],
   "source": [
    "any(len(description) > 1 for description in offenses.values())"
   ]
  },
  {
   "cell_type": "code",
   "execution_count": 15,
   "metadata": {
    "collapsed": false
   },
   "outputs": [
    {
     "data": {
      "text/plain": [
       "25"
      ]
     },
     "execution_count": 15,
     "metadata": {},
     "output_type": "execute_result"
    }
   ],
   "source": [
    "sum(len(description) > 1 for description in offenses.values())"
   ]
  },
  {
   "cell_type": "code",
   "execution_count": 18,
   "metadata": {
    "collapsed": false
   },
   "outputs": [
    {
     "name": "stdout",
     "output_type": "stream",
     "text": [
      "PRC {'FD SICK/INJURED PERSON', 'PROPERTY DAMAGED'}\n",
      "TVA {'THEFT OF AUTOMOBILE unfounded', 'THEFT OF AUTOMOBILE', 'THEFT OF AUTOMOBILE ATT'}\n",
      "VAB {'VANDALISM TO VEHICLE', 'THEFT OF AUTO PART / ACCESSORY', 'VANDALISM TO STRUCTURE'}\n",
      "ZOC {'FD SICK/INJURED PERSON', 'HAZARDOUS SITUATION / CONTAMINANT', 'VANDALISM TO STRUCTURE'}\n",
      "DRF {'DRUG POSSESSION CONTROLLED SUBSTANCE', 'DRUG POSSESSION OF PARAPHERNALIA / EQUIPMENT', 'SIMPLE ASSAULT / THREATS'}\n",
      "ZOB {'WARRANT ARREST', 'TRESPASS WARNING'}\n",
      "FAH {'FAMILY JUVENILE INCIDENT', 'JUVENILE INCIDENT'}\n",
      "SCE {'SIMPLE HARASSMENT', 'VANDALISM TO VEHICLE'}\n",
      "THK {'THEFT OTHER', 'BURGLARY NON-RESIDENTIAL', 'BURGLARY RESIDENTIAL'}\n",
      "VAC {'VANDALISM TO PERSONAL PROPERTY', 'VANDALISM TO PROPERTY'}\n",
      "ZOA {'BURGLARY NON-RESIDENTIAL', 'SIMPLE ASSAULT / THREATS', 'TRESPASS WARNING', 'ALCOHOL JUVENILE VIOLATION'}\n",
      "XOM {'OBSTRUCTION OF JUSTICE / RESIST ARREST / ESCAPE', 'DISORDERLY INTOXICATION', 'BURGLARY NON-RESIDENTIAL'}\n",
      "FRG {'FRAUD POSSESSION OF COUNTERFEIT', 'FRAUD BY UTTERING FORGERY'}\n",
      "PRA {'PROPERTY FOUND / IMPOUNDED', 'FD INJURED PERSON', 'DRUG POSSESSION CONTROLLED SUBSTANCE', 'INTOXICATED PERSON', 'TRESPASSING'}\n",
      "DIA {'SIMPLE BATTERY', 'DISTURBANCE DOMESTIC'}\n",
      "VEC {'VEHICLE TRAFFIC OFFENSE (NON-DUI)', 'DRUG POSSESSION CONTROLLED SUBSTANCE', 'VEHICLE DRIVING / BOATING UNDER THE INFLUENCE'}\n",
      "FRD {'THEFT FROM STRUCTURE  WITH LEGAL ACCESS / PUBLIC BUILDING', 'FRAUD BY CREDIT CARD / ATM'}\n",
      "ZOK {'SPECIAL INVESTIGATION', 'DRUG SALE CONTROLLED SUBSTANCE'}\n",
      "FDD {'FD SICK/INJURED PERSON', 'FD INJURED PERSON'}\n",
      "XOT {'BURGLARY NON-RESIDENTIAL', 'TRESPASSING', 'OBSTRUCTION OF JUSTICE / RESIST ARREST / ESCAPE'}\n",
      "ALA {'FRAUD POSSESSION OF COUNTERFEIT', 'ALCOHOL JUVENILE VIOLATION'}\n",
      "VEA {'DRUG POSSESSION CONTROLLED SUBSTANCE', 'VEHICLE DRIVING / BOATING UNDER THE INFLUENCE', 'SIMPLE ASSAULT / THREATS'}\n",
      "ZOE {'SIMPLE BATTERY', 'PROPERTY FOUND / IMPOUNDED', 'SUSPICIOUS INCIDENT', 'TRESPASS WARNING'}\n",
      "DRA {'DRUG POSSESSION CONTROLLED SUBSTANCE', 'DRUG SALE CONTROLLED SUBSTANCE'}\n",
      "ZOM {'INTOXICATED PERSON', 'SIMPLE ASSAULT / THREATS'}\n"
     ]
    }
   ],
   "source": [
    "for k, descriptions in offenses.items():\n",
    "    if len(descriptions) > 1:\n",
    "        print(k, descriptions)"
   ]
  },
  {
   "cell_type": "code",
   "execution_count": 20,
   "metadata": {
    "collapsed": false
   },
   "outputs": [
    {
     "data": {
      "text/plain": [
       "(104, 8137)"
      ]
     },
     "execution_count": 20,
     "metadata": {},
     "output_type": "execute_result"
    }
   ],
   "source": [
    "(sum(row[5] == 'ULEAD' for row in data[1:]), len(data[1:]))"
   ]
  },
  {
   "cell_type": "markdown",
   "metadata": {},
   "source": [
    "===================================="
   ]
  },
  {
   "cell_type": "code",
   "execution_count": 23,
   "metadata": {
    "collapsed": false
   },
   "outputs": [],
   "source": [
    "location_repeats = defaultdict(int)\n",
    "for row in data[1:]:\n",
    "    location_repeats[tuple(row[12:14])] += 1"
   ]
  },
  {
   "cell_type": "code",
   "execution_count": 29,
   "metadata": {
    "collapsed": false
   },
   "outputs": [
    {
     "name": "stdout",
     "output_type": "stream",
     "text": [
      "(321, 572) 56.11% are repeated locations\n"
     ]
    }
   ],
   "source": [
    "x = (sum(val > 1 for val in location_repeats.values()), len(location_repeats))\n",
    "print(x, str(x[0]/x[1] * 100)[:5] + '% are repeated locations')"
   ]
  }
 ],
 "metadata": {
  "kernelspec": {
   "display_name": "Python 3",
   "language": "python",
   "name": "python3"
  },
  "language_info": {
   "codemirror_mode": {
    "name": "ipython",
    "version": 3
   },
   "file_extension": ".py",
   "mimetype": "text/x-python",
   "name": "python",
   "nbconvert_exporter": "python",
   "pygments_lexer": "ipython3",
   "version": "3.4.3"
  }
 },
 "nbformat": 4,
 "nbformat_minor": 0
}
