{
 "cells": [
  {
   "cell_type": "code",
   "execution_count": 1,
   "metadata": {
    "collapsed": true
   },
   "outputs": [],
   "source": [
    "import csv"
   ]
  },
  {
   "cell_type": "code",
   "execution_count": 3,
   "metadata": {
    "collapsed": false
   },
   "outputs": [],
   "source": [
    "with open('./data/converted_crime_data/Crime.csv') as f:\n",
    "    data = [row for row in csv.reader(f)]"
   ]
  },
  {
   "cell_type": "code",
   "execution_count": 5,
   "metadata": {
    "collapsed": false
   },
   "outputs": [],
   "source": [
    "all_empty = (all(x == '' for x in row) for row in data)"
   ]
  },
  {
   "cell_type": "code",
   "execution_count": 6,
   "metadata": {
    "collapsed": false
   },
   "outputs": [
    {
     "data": {
      "text/plain": [
       "0"
      ]
     },
     "execution_count": 6,
     "metadata": {},
     "output_type": "execute_result"
    }
   ],
   "source": [
    "sum(1 for x in all_empty if x)"
   ]
  },
  {
   "cell_type": "markdown",
   "metadata": {},
   "source": [
    "so we know that there are no blank rows"
   ]
  },
  {
   "cell_type": "code",
   "execution_count": 10,
   "metadata": {
    "collapsed": false
   },
   "outputs": [
    {
     "data": {
      "text/plain": [
       "(29, 29)"
      ]
     },
     "execution_count": 10,
     "metadata": {},
     "output_type": "execute_result"
    }
   ],
   "source": [
    "(min(len(row) for row in data), max(len(row) for row in data))"
   ]
  },
  {
   "cell_type": "code",
   "execution_count": 29,
   "metadata": {
    "collapsed": true
   },
   "outputs": [],
   "source": [
    "real_lenghts = (sum(1 for x in row if x != '') for row in data[1:])"
   ]
  },
  {
   "cell_type": "code",
   "execution_count": 30,
   "metadata": {
    "collapsed": false
   },
   "outputs": [],
   "source": [
    "minimum, maximum = 29, 0\n",
    "min_idx, max_idx = 0, 0\n",
    "for i, row_len in enumerate(real_lenghts):\n",
    "    if row_len > maximum:\n",
    "        max_idx = i+1\n",
    "        maximum = row_len\n",
    "    if row_len < minimum:\n",
    "        min_idx = i+1\n",
    "        minimum = row_len"
   ]
  },
  {
   "cell_type": "code",
   "execution_count": 31,
   "metadata": {
    "collapsed": false
   },
   "outputs": [
    {
     "name": "stdout",
     "output_type": "stream",
     "text": [
      "9 26\n"
     ]
    }
   ],
   "source": [
    "print(minimum, maximum)"
   ]
  },
  {
   "cell_type": "code",
   "execution_count": 25,
   "metadata": {
    "collapsed": false
   },
   "outputs": [
    {
     "data": {
      "text/plain": [
       "['',\n",
       " '',\n",
       " '10007622',\n",
       " '',\n",
       " '',\n",
       " '',\n",
       " '',\n",
       " '',\n",
       " '',\n",
       " '',\n",
       " '',\n",
       " '',\n",
       " '',\n",
       " '',\n",
       " '',\n",
       " '',\n",
       " '0',\n",
       " '00:00',\n",
       " '0',\n",
       " 'CALC',\n",
       " 'T1',\n",
       " '789',\n",
       " '892957.147',\n",
       " '503136.26799999998',\n",
       " '',\n",
       " '',\n",
       " '',\n",
       " '',\n",
       " '']"
      ]
     },
     "execution_count": 25,
     "metadata": {},
     "output_type": "execute_result"
    }
   ],
   "source": [
    "data[min_idx]"
   ]
  },
  {
   "cell_type": "code",
   "execution_count": 33,
   "metadata": {
    "collapsed": false
   },
   "outputs": [
    {
     "data": {
      "text/plain": [
       "[('Address1', '5665 PONCE DE LEON BLVD'),\n",
       " ('Apt', 'BLK'),\n",
       " ('Case', '07000120'),\n",
       " ('Pri_Offens', '2'),\n",
       " ('Off_Code', 'DRA'),\n",
       " ('Offense', 'DRUG POSSESSION CONTROLLED SUBSTANCE'),\n",
       " ('tract', '07U'),\n",
       " ('date_rept', '01/ 5/2007\"  \"01:01:15 a01/p01'),\n",
       " ('DATEofReport', '01/05/07'),\n",
       " ('REP_DATE', '07/01/05 '),\n",
       " ('date_occ', '01/ 5/2007\"  \"01:01:00 a01/p01'),\n",
       " ('hour_occ', '0101'),\n",
       " ('dow', 'FR'),\n",
       " ('date_fnd', '01/ 5/2007\"  \"01:01:00 a01/p01'),\n",
       " ('hour_fnd', '0.042361'),\n",
       " ('dow', 'FR'),\n",
       " ('DayCount', '0'),\n",
       " ('HRCount', '00:00'),\n",
       " ('Hrcalc', '0'),\n",
       " ('Hrcalcw', 'CALC'),\n",
       " ('TimeCode', 'T1'),\n",
       " ('FID', '###'),\n",
       " ('X', '#N/A'),\n",
       " ('Y', '#N/A'),\n",
       " ('', ''),\n",
       " ('', ''),\n",
       " ('Donxees', '891951.060'),\n",
       " ('Donyees', '502352.380'),\n",
       " ('', '')]"
      ]
     },
     "execution_count": 33,
     "metadata": {},
     "output_type": "execute_result"
    }
   ],
   "source": [
    "list(zip(data[0], data[max_idx]))"
   ]
  },
  {
   "cell_type": "markdown",
   "metadata": {},
   "source": [
    "this result means that X, Y might need to refer to another column (that's not visible??)"
   ]
  },
  {
   "cell_type": "code",
   "execution_count": 35,
   "metadata": {
    "collapsed": true
   },
   "outputs": [],
   "source": [
    "completely_empty_cols = [i for i in range(len(data[0])) if all(row[i].strip() == '' for row in data)]"
   ]
  },
  {
   "cell_type": "code",
   "execution_count": 36,
   "metadata": {
    "collapsed": false
   },
   "outputs": [
    {
     "data": {
      "text/plain": [
       "[24, 25, 28]"
      ]
     },
     "execution_count": 36,
     "metadata": {},
     "output_type": "execute_result"
    }
   ],
   "source": [
    "completely_empty_cols"
   ]
  },
  {
   "cell_type": "markdown",
   "metadata": {},
   "source": [
    "so those three columns above we can safely delete"
   ]
  },
  {
   "cell_type": "code",
   "execution_count": 44,
   "metadata": {
    "collapsed": false
   },
   "outputs": [],
   "source": [
    "replace_stats = [0, 0, 0]\n",
    "for row in data:\n",
    "    if row[22] == '#N/A' and row[23] == '#N/A':\n",
    "        if len(row[26].strip()) > 0 and len(row[27].strip()) > 0:\n",
    "            replace_stats[0] += 1\n",
    "        elif len(row[26].strip()) == 0 and len(row[27].strip()) == 0:\n",
    "            replace_stats[1] += 1\n",
    "        else:\n",
    "            replace_stats[2] += 1"
   ]
  },
  {
   "cell_type": "code",
   "execution_count": 45,
   "metadata": {
    "collapsed": false
   },
   "outputs": [
    {
     "data": {
      "text/plain": [
       "[689, 3947, 0]"
      ]
     },
     "execution_count": 45,
     "metadata": {},
     "output_type": "execute_result"
    }
   ],
   "source": [
    "replace_stats"
   ]
  },
  {
   "cell_type": "raw",
   "metadata": {},
   "source": [
    "this result means that we can either replace with the D... version or that is empty"
   ]
  },
  {
   "cell_type": "code",
   "execution_count": 46,
   "metadata": {
    "collapsed": true
   },
   "outputs": [],
   "source": [
    "import string"
   ]
  },
  {
   "cell_type": "code",
   "execution_count": 48,
   "metadata": {
    "collapsed": false
   },
   "outputs": [
    {
     "data": {
      "text/plain": [
       "'abcdefghijklmnopqrstuvwxyzABCDEFGHIJKLMNOPQRSTUVWXYZ'"
      ]
     },
     "execution_count": 48,
     "metadata": {},
     "output_type": "execute_result"
    }
   ],
   "source": [
    "string.ascii_letters"
   ]
  },
  {
   "cell_type": "code",
   "execution_count": 63,
   "metadata": {
    "collapsed": false
   },
   "outputs": [],
   "source": [
    "possible_key_rows = []\n",
    "for i, row in enumerate(data):\n",
    "    useful_vals = [x for x in row if x.strip() != '']\n",
    "    any_text = 0\n",
    "    for val in useful_vals:\n",
    "        if any(c in string.ascii_letters for c in val):\n",
    "            any_text += 1\n",
    "    if any_text == len(useful_vals):\n",
    "        possible_key_rows.append(i)"
   ]
  },
  {
   "cell_type": "code",
   "execution_count": 60,
   "metadata": {
    "collapsed": false
   },
   "outputs": [
    {
     "data": {
      "text/plain": [
       "2"
      ]
     },
     "execution_count": 60,
     "metadata": {},
     "output_type": "execute_result"
    }
   ],
   "source": [
    "len(possible_key_rows)"
   ]
  },
  {
   "cell_type": "code",
   "execution_count": 64,
   "metadata": {
    "collapsed": false
   },
   "outputs": [
    {
     "data": {
      "text/plain": [
       "[0, 5132]"
      ]
     },
     "execution_count": 64,
     "metadata": {},
     "output_type": "execute_result"
    }
   ],
   "source": [
    "possible_key_rows"
   ]
  },
  {
   "cell_type": "markdown",
   "metadata": {},
   "source": [
    "so there is only one change of schema and that is at row 5132"
   ]
  },
  {
   "cell_type": "code",
   "execution_count": 65,
   "metadata": {
    "collapsed": false
   },
   "outputs": [
    {
     "data": {
      "text/plain": [
       "['ADDRESS',\n",
       " 'Apt',\n",
       " 'Caee',\n",
       " 'Primary Offense',\n",
       " 'Off_Code',\n",
       " 'Offense',\n",
       " 'tract',\n",
       " 'repdate',\n",
       " 'date_rept',\n",
       " 'date_occu',\n",
       " 'hour_occu',\n",
       " 'dow1',\n",
       " 'Dow1',\n",
       " 'date_fnd',\n",
       " 'hour_fnd',\n",
       " 'dow2',\n",
       " '#VALUE!',\n",
       " '#VALUE!',\n",
       " '#VALUE!',\n",
       " '#VALUE!',\n",
       " '#VALUE!',\n",
       " '#N/A',\n",
       " '#N/A',\n",
       " '#N/A',\n",
       " '',\n",
       " '',\n",
       " '',\n",
       " '',\n",
       " '']"
      ]
     },
     "execution_count": 65,
     "metadata": {},
     "output_type": "execute_result"
    }
   ],
   "source": [
    "data[5132]"
   ]
  },
  {
   "cell_type": "code",
   "execution_count": 68,
   "metadata": {
    "collapsed": false
   },
   "outputs": [
    {
     "data": {
      "text/plain": [
       "[(0, ('Address1', 'ADDRESS', '1520 LIGURIA AV')),\n",
       " (1, ('Apt', 'Apt', '')),\n",
       " (2, ('Case', 'Caee', '11000040')),\n",
       " (3, ('Pri_Offens', 'Primary Offense', '1')),\n",
       " (4, ('Off_Code', 'Off_Code', 'BUA')),\n",
       " (5, ('Offense', 'Offense', 'BURGLARY RESIDENTIAL')),\n",
       " (6, ('tract', 'tract', '07U')),\n",
       " (7, ('date_rept', 'repdate', '')),\n",
       " (8, ('DATEofReport', 'date_rept', '01/ 3/2011')),\n",
       " (9, ('REP_DATE', 'date_occu', '11/01/03')),\n",
       " (10, ('date_occ', 'hour_occu', '[$-409]12/23/10 19:00 a12/p12')),\n",
       " (11, ('hour_occ', 'dow1', '[$-409]19:00 a12/p12')),\n",
       " (12, ('dow', 'Dow1', 'TH')),\n",
       " (13, ('date_fnd', 'date_fnd', '[$-409]12/28/10 22:00 a12/p12')),\n",
       " (14, ('hour_fnd', 'hour_fnd', '[$-409]22:00 a12/p12')),\n",
       " (15, ('dow', 'dow2', 'TU')),\n",
       " (16, ('DayCount', '#VALUE!', '5')),\n",
       " (17, ('HRCount', '#VALUE!', '[$-409]03:00 a01/p01')),\n",
       " (18, ('Hrcalc', '#VALUE!', '3')),\n",
       " (19, ('Hrcalcw', '#VALUE!', 'U')),\n",
       " (20, ('TimeCode', '#VALUE!', 'U')),\n",
       " (21, ('FID', '#N/A', '385')),\n",
       " (22, ('X', '#N/A', '891902.84400000004')),\n",
       " (23, ('Y', '#N/A', '502168.55800000002')),\n",
       " (24, ('', '', '')),\n",
       " (25, ('', '', '')),\n",
       " (26, ('Donxees', '', '')),\n",
       " (27, ('Donyees', '', '')),\n",
       " (28, ('', '', ''))]"
      ]
     },
     "execution_count": 68,
     "metadata": {},
     "output_type": "execute_result"
    }
   ],
   "source": [
    "list(enumerate(list(zip(data[0], data[5132], data[5133]))))"
   ]
  },
  {
   "cell_type": "markdown",
   "metadata": {},
   "source": [
    "column index 11 is a weird one to look out for"
   ]
  },
  {
   "cell_type": "code",
   "execution_count": 73,
   "metadata": {
    "collapsed": false
   },
   "outputs": [],
   "source": [
    "with open('./data/converted_crime_data/Crime_without_empty_cols.csv','w') as f,\\\n",
    "     open('./data/converted_crime_data/Crime_wo_empty_and_wo_hrtime_and_dow.csv', 'w') as f2:\n",
    "    writer = csv.writer(f)\n",
    "    writer2 = csv.writer(f2)\n",
    "    for row in data:\n",
    "        writer.writerow(row[0:24] + row[26:28])\n",
    "        writer2.writerow(row[0:11+1] + row[13:14+1] + row[21:23+1] + row[26:27+1])"
   ]
  }
 ],
 "metadata": {
  "kernelspec": {
   "display_name": "Python 3",
   "language": "python",
   "name": "python3"
  },
  "language_info": {
   "codemirror_mode": {
    "name": "ipython",
    "version": 3
   },
   "file_extension": ".py",
   "mimetype": "text/x-python",
   "name": "python",
   "nbconvert_exporter": "python",
   "pygments_lexer": "ipython3",
   "version": "3.4.3"
  }
 },
 "nbformat": 4,
 "nbformat_minor": 0
}
