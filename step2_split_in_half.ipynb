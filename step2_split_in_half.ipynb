{
 "cells": [
  {
   "cell_type": "code",
   "execution_count": 1,
   "metadata": {
    "collapsed": true
   },
   "outputs": [],
   "source": [
    "import csv"
   ]
  },
  {
   "cell_type": "code",
   "execution_count": 2,
   "metadata": {
    "collapsed": true
   },
   "outputs": [],
   "source": [
    "with open('./data/converted_crime_data/Crime_wo_empty_and_wo_hrtime_and_dow.csv') as f:\n",
    "    data = [row for row in csv.reader(f)]"
   ]
  },
  {
   "cell_type": "code",
   "execution_count": 3,
   "metadata": {
    "collapsed": false,
    "scrolled": false
   },
   "outputs": [
    {
     "data": {
      "text/plain": [
       "[['Address1',\n",
       "  'Apt',\n",
       "  'Case',\n",
       "  'Pri_Offens',\n",
       "  'Off_Code',\n",
       "  'Offense',\n",
       "  'tract',\n",
       "  'date_rept',\n",
       "  'DATEofReport',\n",
       "  'REP_DATE',\n",
       "  'date_occ',\n",
       "  'hour_occ',\n",
       "  'date_fnd',\n",
       "  'hour_fnd',\n",
       "  'FID',\n",
       "  'X',\n",
       "  'Y',\n",
       "  'Donxees',\n",
       "  'Donyees'],\n",
       " ['1525 ALBENGA AV',\n",
       "  '',\n",
       "  '07000101',\n",
       "  '1',\n",
       "  'VAB',\n",
       "  'VANDALISM TO VEHICLE',\n",
       "  '07U',\n",
       "  '01/ 4/2007\"  \"13:32:18 a01/p01',\n",
       "  '01/04/07',\n",
       "  '07/01/04 ',\n",
       "  '01/ 3/2007\"  \"16:00:00 a01/p01',\n",
       "  '1600',\n",
       "  '01/ 4/2007\"  \"13:25:00 a01/p01',\n",
       "  '16:00',\n",
       "  '109',\n",
       "  '891786.45900000003',\n",
       "  '502485.90500000003',\n",
       "  '',\n",
       "  ''],\n",
       " ['1111 MEMORIAL DR',\n",
       "  '',\n",
       "  '07000110',\n",
       "  '1',\n",
       "  'VAC',\n",
       "  'VANDALISM TO PERSONAL PROPERTY',\n",
       "  '07U',\n",
       "  '01/ 4/2007\"  \"17:48:00 a01/p01',\n",
       "  '01/04/07',\n",
       "  '07/01/04 ',\n",
       "  '01/ 4/2007\"  \"16:27:00 a01/p01',\n",
       "  '1627',\n",
       "  '01/ 4/2007\"  \"16:27:00 a01/p01',\n",
       "  '16:27',\n",
       "  '###',\n",
       "  '#N/A',\n",
       "  '#N/A',\n",
       "  '',\n",
       "  '']]"
      ]
     },
     "execution_count": 3,
     "metadata": {},
     "output_type": "execute_result"
    }
   ],
   "source": [
    "data[0:3]"
   ]
  },
  {
   "cell_type": "code",
   "execution_count": 4,
   "metadata": {
    "collapsed": true
   },
   "outputs": [],
   "source": [
    "data_sane = []\n",
    "for row in data:\n",
    "    new_row = []\n",
    "    for val in row:\n",
    "        val = val.strip()\n",
    "        if val in ('', '#N/A', 'N/A') or all(c == '#' for c in val):\n",
    "            new_row.append(None)\n",
    "        else:\n",
    "            new_row.append(val)\n",
    "    data_sane.append(new_row)"
   ]
  },
  {
   "cell_type": "code",
   "execution_count": 5,
   "metadata": {
    "collapsed": false
   },
   "outputs": [
    {
     "data": {
      "text/plain": [
       "8248"
      ]
     },
     "execution_count": 5,
     "metadata": {},
     "output_type": "execute_result"
    }
   ],
   "source": [
    "len(data_sane)"
   ]
  },
  {
   "cell_type": "code",
   "execution_count": 13,
   "metadata": {
    "collapsed": false,
    "scrolled": false
   },
   "outputs": [
    {
     "data": {
      "text/plain": [
       "[None,\n",
       " None,\n",
       " '10007622',\n",
       " None,\n",
       " None,\n",
       " None,\n",
       " None,\n",
       " None,\n",
       " None,\n",
       " None,\n",
       " None,\n",
       " None,\n",
       " None,\n",
       " None,\n",
       " '789',\n",
       " '892957.147',\n",
       " '503136.26799999998',\n",
       " None,\n",
       " None]"
      ]
     },
     "execution_count": 13,
     "metadata": {},
     "output_type": "execute_result"
    }
   ],
   "source": [
    "data_sane[5098]"
   ]
  },
  {
   "cell_type": "code",
   "execution_count": 15,
   "metadata": {
    "collapsed": false
   },
   "outputs": [
    {
     "data": {
      "text/plain": [
       "['ADDRESS',\n",
       " 'Apt',\n",
       " 'Caee',\n",
       " 'Primary Offense',\n",
       " 'Off_Code',\n",
       " 'Offense',\n",
       " 'tract',\n",
       " 'repdate',\n",
       " 'date_rept',\n",
       " 'date_occu',\n",
       " 'hour_occu',\n",
       " 'dow1',\n",
       " 'date_fnd',\n",
       " 'hour_fnd',\n",
       " None,\n",
       " None,\n",
       " None,\n",
       " None,\n",
       " None]"
      ]
     },
     "execution_count": 15,
     "metadata": {},
     "output_type": "execute_result"
    }
   ],
   "source": [
    "data_sane[5132]"
   ]
  },
  {
   "cell_type": "code",
   "execution_count": 20,
   "metadata": {
    "collapsed": false
   },
   "outputs": [
    {
     "name": "stdout",
     "output_type": "stream",
     "text": [
      "34\n"
     ]
    }
   ],
   "source": [
    "no_code = 0\n",
    "for row in data_sane:\n",
    "    if row[4] is None:\n",
    "        no_code += 1\n",
    "print(no_code)"
   ]
  },
  {
   "cell_type": "code",
   "execution_count": 21,
   "metadata": {
    "collapsed": false
   },
   "outputs": [
    {
     "data": {
      "text/plain": [
       "34"
      ]
     },
     "execution_count": 21,
     "metadata": {},
     "output_type": "execute_result"
    }
   ],
   "source": [
    "5132-5098"
   ]
  },
  {
   "cell_type": "markdown",
   "metadata": {},
   "source": [
    "so these are weird rows that we need to just omit since there's no crime"
   ]
  },
  {
   "cell_type": "code",
   "execution_count": 23,
   "metadata": {
    "collapsed": false
   },
   "outputs": [],
   "source": [
    "with open('./data/converted_crime_data/Crime_pass2_strip_tophalf.csv', 'w') as f1,\\\n",
    "     open('./data/converted_crime_data/Crime_pass2_strip_bottomhalf.csv', 'w') as f2:\n",
    "        writer1 = csv.writer(f1)\n",
    "        writer2 = csv.writer(f2)\n",
    "        for row in data_sane[0:5098]:\n",
    "            writer1.writerow(row)\n",
    "        for row in data_sane[5132:]:\n",
    "            writer2.writerow(row)"
   ]
  }
 ],
 "metadata": {
  "kernelspec": {
   "display_name": "Python 3",
   "language": "python",
   "name": "python3"
  },
  "language_info": {
   "codemirror_mode": {
    "name": "ipython",
    "version": 3
   },
   "file_extension": ".py",
   "mimetype": "text/x-python",
   "name": "python",
   "nbconvert_exporter": "python",
   "pygments_lexer": "ipython3",
   "version": "3.4.3"
  }
 },
 "nbformat": 4,
 "nbformat_minor": 0
}
