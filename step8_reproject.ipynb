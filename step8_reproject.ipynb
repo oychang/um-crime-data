{
 "cells": [
  {
   "cell_type": "code",
   "execution_count": 1,
   "metadata": {
    "collapsed": false
   },
   "outputs": [],
   "source": [
    "import csv\n",
    "from pyproj import Proj, transform"
   ]
  },
  {
   "cell_type": "code",
   "execution_count": 2,
   "metadata": {
    "collapsed": true
   },
   "outputs": [],
   "source": [
    "inProj = Proj(init='epsg:2236')\n",
    "outProj = Proj(init='epsg:4326')\n",
    "\n",
    "feet_to_meters = lambda s: float(s) / 3.2808"
   ]
  },
  {
   "cell_type": "code",
   "execution_count": 3,
   "metadata": {
    "collapsed": false
   },
   "outputs": [],
   "source": [
    "with open('./data/converted_crime_data/Crime_pass7_latlon.csv') as f:\n",
    "    gcs_data = [r for r in csv.reader(f)]\n",
    "with open('./data/converted_crime_data/Crime_pass7_spfl.csv') as f:\n",
    "    spfl_data = [r for r in csv.reader(f)]"
   ]
  },
  {
   "cell_type": "code",
   "execution_count": 4,
   "metadata": {
    "collapsed": false
   },
   "outputs": [
    {
     "data": {
      "text/plain": [
       "([(0, 'address'),\n",
       "  (1, 'apt'),\n",
       "  (2, 'case'),\n",
       "  (3, 'primary_offense'),\n",
       "  (4, 'offense_code'),\n",
       "  (5, 'offense'),\n",
       "  (6, 'date_rept'),\n",
       "  (7, 'date_occu'),\n",
       "  (8, 'hour_occu'),\n",
       "  (9, 'date_fnd'),\n",
       "  (10, 'hour_fnd'),\n",
       "  (11, 'fid'),\n",
       "  (12, 'lat'),\n",
       "  (13, 'lon')],\n",
       " [(0, 'address'),\n",
       "  (1, 'apt'),\n",
       "  (2, 'case'),\n",
       "  (3, 'primary_offense'),\n",
       "  (4, 'offense_code'),\n",
       "  (5, 'offense'),\n",
       "  (6, 'date_rept'),\n",
       "  (7, 'date_occu'),\n",
       "  (8, 'hour_occu'),\n",
       "  (9, 'date_fnd'),\n",
       "  (10, 'hour_fnd'),\n",
       "  (11, 'fid'),\n",
       "  (12, 'x'),\n",
       "  (13, 'y')])"
      ]
     },
     "execution_count": 4,
     "metadata": {},
     "output_type": "execute_result"
    }
   ],
   "source": [
    "list(enumerate(gcs_data[0])), list(enumerate(spfl_data[0]))"
   ]
  },
  {
   "cell_type": "code",
   "execution_count": 5,
   "metadata": {
    "collapsed": true
   },
   "outputs": [],
   "source": [
    "for row in spfl_data[1:]:\n",
    "    new_row = list(row)\n",
    "    new_row[13], new_row[12] = transform(inProj, outProj,\n",
    "                                         feet_to_meters(row[12]),\n",
    "                                         feet_to_meters(row[13]))\n",
    "    gcs_data.append(new_row)"
   ]
  },
  {
   "cell_type": "markdown",
   "metadata": {},
   "source": [
    "Since we're making the _final_ dataset for use, let's get rid of `primary_offense` and `fid` columns since they aren't that useful."
   ]
  },
  {
   "cell_type": "code",
   "execution_count": 6,
   "metadata": {
    "collapsed": false
   },
   "outputs": [],
   "source": [
    "export_data = [\n",
    "    row[:3] + row[4:11] + row[12:]\n",
    "    for row in gcs_data\n",
    "]"
   ]
  },
  {
   "cell_type": "code",
   "execution_count": 7,
   "metadata": {
    "collapsed": true
   },
   "outputs": [],
   "source": [
    "with open('./data/umpd-2007-to-2013-crime-mapping-cleaned.csv', 'w') as f:\n",
    "    writer = csv.writer(f)\n",
    "    for row in export_data:\n",
    "        writer.writerow(row)"
   ]
  }
 ],
 "metadata": {
  "kernelspec": {
   "display_name": "Python 3",
   "language": "python",
   "name": "python3"
  },
  "language_info": {
   "codemirror_mode": {
    "name": "ipython",
    "version": 3
   },
   "file_extension": ".py",
   "mimetype": "text/x-python",
   "name": "python",
   "nbconvert_exporter": "python",
   "pygments_lexer": "ipython3",
   "version": "3.4.3"
  }
 },
 "nbformat": 4,
 "nbformat_minor": 0
}
