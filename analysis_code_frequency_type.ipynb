{
 "cells": [
  {
   "cell_type": "markdown",
   "metadata": {},
   "source": [
    "# Exploration and Error Checking"
   ]
  },
  {
   "cell_type": "markdown",
   "metadata": {},
   "source": [
    "Check if offenses codes are unique; if not, are they at least related? Can we bin into \"index\" and \"non-index\"?"
   ]
  },
  {
   "cell_type": "code",
   "execution_count": 1,
   "metadata": {
    "collapsed": true
   },
   "outputs": [],
   "source": [
    "import csv"
   ]
  },
  {
   "cell_type": "code",
   "execution_count": 2,
   "metadata": {
    "collapsed": true
   },
   "outputs": [],
   "source": [
    "data = [r for r in csv.reader(open('./data/umpd-2007-to-2013-crime-mapping-cleaned.csv'))]"
   ]
  },
  {
   "cell_type": "code",
   "execution_count": 3,
   "metadata": {
    "collapsed": false
   },
   "outputs": [
    {
     "data": {
      "text/plain": [
       "['address',\n",
       " 'apt',\n",
       " 'case',\n",
       " 'offense_code',\n",
       " 'offense',\n",
       " 'date_rept',\n",
       " 'date_occu',\n",
       " 'hour_occu',\n",
       " 'date_fnd',\n",
       " 'hour_fnd',\n",
       " 'lat',\n",
       " 'lon']"
      ]
     },
     "execution_count": 3,
     "metadata": {},
     "output_type": "execute_result"
    }
   ],
   "source": [
    "data[0]"
   ]
  },
  {
   "cell_type": "code",
   "execution_count": 6,
   "metadata": {
    "collapsed": false
   },
   "outputs": [],
   "source": [
    "from collections import defaultdict\n",
    "offenses = defaultdict(list)\n",
    "for row in data[1:]:\n",
    "    offenses[row[3]].append(row[4])"
   ]
  },
  {
   "cell_type": "code",
   "execution_count": 8,
   "metadata": {
    "collapsed": false,
    "scrolled": true
   },
   "outputs": [
    {
     "data": {
      "text/plain": [
       "(97, 112)"
      ]
     },
     "execution_count": 8,
     "metadata": {},
     "output_type": "execute_result"
    }
   ],
   "source": [
    "sum(1 for value in offenses.values() if len(value) > 1), len(offenses)"
   ]
  },
  {
   "cell_type": "code",
   "execution_count": 11,
   "metadata": {
    "collapsed": false
   },
   "outputs": [],
   "source": [
    "offenses_s = {k: set(v) for k, v in offenses.items()}"
   ]
  },
  {
   "cell_type": "code",
   "execution_count": 12,
   "metadata": {
    "collapsed": false,
    "scrolled": true
   },
   "outputs": [
    {
     "data": {
      "text/plain": [
       "(25, 112)"
      ]
     },
     "execution_count": 12,
     "metadata": {},
     "output_type": "execute_result"
    }
   ],
   "source": [
    "sum(1 for value in offenses_s.values() if len(value) > 1), len(offenses_s)"
   ]
  },
  {
   "cell_type": "code",
   "execution_count": 13,
   "metadata": {
    "collapsed": false
   },
   "outputs": [
    {
     "data": {
      "text/plain": [
       "{'320.061': {'TAG UNLAWFUL ALTERATION'},\n",
       " 'AGA': {'AGGRAVATED ASSAULT'},\n",
       " 'AGC': {'AGGRAVATED KIDNAPPING FALSE IMPRISONMENT'},\n",
       " 'AGD': {'AGGRAVATED BATTERY'},\n",
       " 'ALA': {'ALCOHOL JUVENILE VIOLATION', 'FRAUD POSSESSION OF COUNTERFEIT'},\n",
       " 'ALB': {'ALCOHOL SALE TO MINOR'},\n",
       " 'ALD': {'ALCOHOL VIOLATION'},\n",
       " 'ANB': {'ANIMAL BITE ATTACK'},\n",
       " 'ANC': {'ANIMAL COMPLAINT'},\n",
       " 'ARA': {'ARSON'},\n",
       " 'ASA': {'ASSIST LAW AGENCY'},\n",
       " 'BUA': {'BURGLARY RESIDENTIAL'},\n",
       " 'BUB': {'BURGLARY NON RESIDENTIAL'},\n",
       " 'BUC': {'BURGLARY AND THEFT FROM CURTILAGE'},\n",
       " 'DCA': {'DISORDERLY CONDUCT FIGHTING'},\n",
       " 'DCB': {'DISORDERLY DISTURBING PEACE DISRUPTING FUNCTION'},\n",
       " 'DCC': {'DISORDERLY INTOXICATION'},\n",
       " 'DIA': {'DISTURBANCE DOMESTIC', 'SIMPLE BATTERY'},\n",
       " 'DIB': {'DISTURBANCE OTHER'},\n",
       " 'DRA': {'DRUG POSSESSION CONTROLLED SUBSTANCE',\n",
       "  'DRUG SALE CONTROLLED SUBSTANCE'},\n",
       " 'DRB': {'DRUG SALE CONTROLLED SUBSTANCE'},\n",
       " 'DRE': {'DRUG TRAFFICKING CONTROLLED SUBSTANCE'},\n",
       " 'DRF': {'DRUG POSSESSION CONTROLLED SUBSTANCE',\n",
       "  'DRUG POSSESSION OF PARAPHERNALIA EQUIPMENT',\n",
       "  'SIMPLE ASSAULT THREATS'},\n",
       " 'DRH': {'DRUG OTHER VIOLATION'},\n",
       " 'FAC': {'FAMILY CHILD NEGLECT'},\n",
       " 'FAG': {'FAMILY CUSTODY DISPUTE'},\n",
       " 'FAH': {'FAMILY JUVENILE INCIDENT', 'JUVENILE INCIDENT'},\n",
       " 'FAI': {'FAMILY MISSING PERSON ADULT'},\n",
       " 'FAL': {'FAMILY MISSING PERSON RECOVERY'},\n",
       " 'FDA': {'FD STRUCTURE FIRE'},\n",
       " 'FDB': {'FD VEHICLE VESSEL FIRE'},\n",
       " 'FDC': {'FD OTHER FIRE'},\n",
       " 'FDD': {'FD INJURED PERSON', 'FD SICK INJURED PERSON'},\n",
       " 'FRA': {'FRAUD BY ISSUE WORTHLESS CHECK'},\n",
       " 'FRB': {'FRAUD BY FALSE PRETENSE'},\n",
       " 'FRC': {'FRAUD BY CONFIDENCE GAME'},\n",
       " 'FRD': {'FRAUD BY CREDIT CARD ATM',\n",
       "  'THEFT FROM STRUCTURE WITH LEGAL ACCESS PUBLIC BUILDING'},\n",
       " 'FRE': {'FRAUD BY IDENTITY THEFT IMPERSONATION'},\n",
       " 'FRG': {'FRAUD BY UTTERING FORGERY', 'FRAUD POSSESSION OF COUNTERFEIT'},\n",
       " 'FRH': {'FRAUD BY UTTERING FORGERY'},\n",
       " 'FRJ': {'FRAUD ELECTRONIC COMPUTER WIRE'},\n",
       " 'FRK': {'FRAUD OTHER'},\n",
       " 'FRL': {'FRAUD OTHER JURISDICTION'},\n",
       " 'JUA': {'JUVENILE MISDEMEANOR OFFENDER'},\n",
       " 'POB': {'PORNOGRAPHY UNLAWFUL POSSESSION'},\n",
       " 'PRA': {'DRUG POSSESSION CONTROLLED SUBSTANCE',\n",
       "  'FD INJURED PERSON',\n",
       "  'INTOXICATED PERSON',\n",
       "  'PROPERTY FOUND IMPOUNDED',\n",
       "  'TRESPASSING'},\n",
       " 'PRB': {'PROPERTY LOST'},\n",
       " 'PRC': {'FD SICK INJURED PERSON', 'PROPERTY DAMAGED'},\n",
       " 'ROA': {'ROBBERY ARMED'},\n",
       " 'ROD': {'ROBBERY STRONGARM'},\n",
       " 'ROE': {'ROBBERY SUDDEN SNATCHING'},\n",
       " 'SCA': {'SIMPLE BATTERY'},\n",
       " 'SCB': {'SIMPLE ASSAULT THREATS'},\n",
       " 'SCD': {'SIMPLE STALKING'},\n",
       " 'SCE': {'SIMPLE HARASSMENT', 'VANDALISM TO VEHICLE'},\n",
       " 'STA': {'STOLEN PROPERTY POSSESSION'},\n",
       " 'STC': {'STOLEN PROPERTY RECOVERY'},\n",
       " 'SXA': {'SEXUAL FEMALE RAPE'},\n",
       " 'SXD': {'SEXUAL FORCIBLE FONDLING'},\n",
       " 'SXE': {'SEXUAL INDECENT EXPOSURE'},\n",
       " 'SXF': {'SEXUAL LEWD LASCIVIOUS ACT'},\n",
       " 'SXG': {'SEXUAL VOYEURISM'},\n",
       " 'SXJ': {'SEXUAL RAPE'},\n",
       " 'THA': {'THEFT OF AUTO TAG REGISTRATION DECAL'},\n",
       " 'THB': {'THEFT OF AUTO PART ACCESSORY'},\n",
       " 'THC': {'THEFT FROM MOTOR VEHICLE'},\n",
       " 'THE': {'THEFT FROM BOAT'},\n",
       " 'THF': {'THEFT FROM STRUCTURE WITH LEGAL ACCESS PUBLIC BUILDING'},\n",
       " 'THG': {'THEFT FROM COIN OPERATED MACHINE'},\n",
       " 'THI': {'THEFT BY PICKPOCKET'},\n",
       " 'THJ': {'THEFT BY SHOPLIFTING'},\n",
       " 'THK': {'BURGLARY NON RESIDENTIAL', 'BURGLARY RESIDENTIAL', 'THEFT OTHER'},\n",
       " 'THL': {'THEFT FROM UNSECURED CONSTRUCTION SITE'},\n",
       " 'THM': {'THEFT FROM BURGLARY'},\n",
       " 'TVA': {'THEFT OF AUTOMOBILE',\n",
       "  'THEFT OF AUTOMOBILE ATT',\n",
       "  'THEFT OF AUTOMOBILE UNFOUNDED'},\n",
       " 'TVC': {'THEFT OF TRUCK SUV'},\n",
       " 'TVD': {'THEFT OF MOTORCYCLE'},\n",
       " 'TVE': {'THEFT OF BICYCLE'},\n",
       " 'TVF': {'THEFT OF OTHER VEHICLE'},\n",
       " 'UNF': {'UNFOUNDED THEFT'},\n",
       " 'VAA': {'VANDALISM TO STRUCTURE'},\n",
       " 'VAB': {'THEFT OF AUTO PART ACCESSORY',\n",
       "  'VANDALISM TO STRUCTURE',\n",
       "  'VANDALISM TO VEHICLE'},\n",
       " 'VAC': {'VANDALISM TO PERSONAL PROPERTY', 'VANDALISM TO PROPERTY'},\n",
       " 'VEA': {'DRUG POSSESSION CONTROLLED SUBSTANCE',\n",
       "  'SIMPLE ASSAULT THREATS',\n",
       "  'VEHICLE DRIVING BOATING UNDER THE INFLUENCE'},\n",
       " 'VEB': {'VEHICLE HIT RUN'},\n",
       " 'VEC': {'DRUG POSSESSION CONTROLLED SUBSTANCE',\n",
       "  'VEHICLE DRIVING BOATING UNDER THE INFLUENCE',\n",
       "  'VEHICLE TRAFFIC OFFENSE NON DUI'},\n",
       " 'VEG': {'VEHICLE VESSEL STOLEN RECOVERY'},\n",
       " 'VEI': {'VEHICLE PARKING OFFENSE SCOFF LAW'},\n",
       " 'VEL': {'VEHICLE TRAFFIC CRASH'},\n",
       " 'WEA': {'WEAPONS BOMB THREAT'},\n",
       " 'WEF': {'WEAPONS OTHER VIOLATION'},\n",
       " 'XOG': {'SAFETY CONSUMABLES OFFENSE'},\n",
       " 'XOM': {'BURGLARY NON RESIDENTIAL',\n",
       "  'DISORDERLY INTOXICATION',\n",
       "  'OBSTRUCTION OF JUSTICE RESIST ARREST ESCAPE'},\n",
       " 'XOO': {'EXTORTION BLACKMAIL'},\n",
       " 'XOP': {'ORDINANCE VIOLATION'},\n",
       " 'XOQ': {'COURT VIOLATION'},\n",
       " 'XOR': {'BURGLARY NON RESIDENTIAL'},\n",
       " 'XOS': {'LOITERING AND PROWLING CURFEW VIOLATION'},\n",
       " 'XOT': {'BURGLARY NON RESIDENTIAL',\n",
       "  'OBSTRUCTION OF JUSTICE RESIST ARREST ESCAPE',\n",
       "  'TRESPASSING'},\n",
       " 'ZOA': {'ALCOHOL JUVENILE VIOLATION',\n",
       "  'BURGLARY NON RESIDENTIAL',\n",
       "  'SIMPLE ASSAULT THREATS',\n",
       "  'TRESPASS WARNING'},\n",
       " 'ZOB': {'TRESPASS WARNING', 'WARRANT ARREST'},\n",
       " 'ZOC': {'FD SICK INJURED PERSON',\n",
       "  'HAZARDOUS SITUATION CONTAMINANT',\n",
       "  'VANDALISM TO STRUCTURE'},\n",
       " 'ZOD': {'INCIDENT REPORT'},\n",
       " 'ZOE': {'PROPERTY FOUND IMPOUNDED',\n",
       "  'SIMPLE BATTERY',\n",
       "  'SUSPICIOUS INCIDENT',\n",
       "  'TRESPASS WARNING'},\n",
       " 'ZOF': {'UNSECURED PROPERTY'},\n",
       " 'ZOG': {'DECEASED PERSON'},\n",
       " 'ZOI': {'SUICIDE ATTEMPT THREATS'},\n",
       " 'ZOJ': {'BAKER MARCHMAN ACT'},\n",
       " 'ZOK': {'DRUG SALE CONTROLLED SUBSTANCE', 'SPECIAL INVESTIGATION'},\n",
       " 'ZOM': {'INTOXICATED PERSON', 'SIMPLE ASSAULT THREATS'},\n",
       " 'ZOQ': {'ULEAD'},\n",
       " 'ZZZ': {'VOID RECORDS USE ONLY'}}"
      ]
     },
     "execution_count": 13,
     "metadata": {},
     "output_type": "execute_result"
    }
   ],
   "source": [
    "offenses_s"
   ]
  },
  {
   "cell_type": "markdown",
   "metadata": {},
   "source": [
    "In general, yeah they look sorta similar in general. The Z?? codes are an enigma though."
   ]
  },
  {
   "cell_type": "code",
   "execution_count": 18,
   "metadata": {
    "collapsed": false
   },
   "outputs": [
    {
     "name": "stdout",
     "output_type": "stream",
     "text": [
      "['1231 THEO DICKINSON DR', '', '08002962', 'ZOG', 'DECEASED PERSON', '2008-04-06', '2008-04-06', '0320', '2008-04-06', '0320', '25.7169005', '-80.280238']\n",
      "['1231 DICKINSON DR', '1005', '13001198', 'ZOG', 'DECEASED PERSON', '2013-02-14', '2013-02-14', '0900', '2013-02-14', '0901', '25.7169005', '-80.280238']\n",
      "['1245 DAUER DR', '', '09004385', 'ZOG', 'DECEASED PERSON', '2009-06-01', '2009-06-01', '1938', '2009-06-01', '1938', '25.715287927089246', '-80.27935830082713']\n"
     ]
    }
   ],
   "source": [
    "for row in data:\n",
    "    if row[3] == 'ZOG':\n",
    "        print(row)"
   ]
  }
 ],
 "metadata": {
  "kernelspec": {
   "display_name": "Python 3",
   "language": "python",
   "name": "python3"
  },
  "language_info": {
   "codemirror_mode": {
    "name": "ipython",
    "version": 3
   },
   "file_extension": ".py",
   "mimetype": "text/x-python",
   "name": "python",
   "nbconvert_exporter": "python",
   "pygments_lexer": "ipython3",
   "version": "3.4.3"
  }
 },
 "nbformat": 4,
 "nbformat_minor": 0
}
