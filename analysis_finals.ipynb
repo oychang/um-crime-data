{
 "cells": [
  {
   "cell_type": "code",
   "execution_count": 1,
   "metadata": {
    "collapsed": false
   },
   "outputs": [
    {
     "name": "stderr",
     "output_type": "stream",
     "text": [
      "/home/oychang/.virtualenvs/crime/lib/python3.4/site-packages/IPython/html.py:14: ShimWarning: The `IPython.html` package has been deprecated. You should import from `notebook` instead. `IPython.html.widgets` has moved to `ipywidgets`.\n",
      "  \"`IPython.html.widgets` has moved to `ipywidgets`.\", ShimWarning)\n"
     ]
    }
   ],
   "source": [
    "import csv\n",
    "from collections import defaultdict, Counter\n",
    "import seaborn as sns"
   ]
  },
  {
   "cell_type": "code",
   "execution_count": 2,
   "metadata": {
    "collapsed": true
   },
   "outputs": [],
   "source": [
    "dates = [\n",
    "    ['2013-12-7', '2013-12-18'],\n",
    "    ['2013-4-27', '2013-5-8'],\n",
    "    ['2012-12-1', '2012-12-12'],\n",
    "    ['2012-4-28', '2012-5-9'],\n",
    "    ['2011-12-3', '2011-12-14'],\n",
    "    ['2011-4-30', '2011-5-13'],\n",
    "    ['2010-12-4', '2010-12-14'],\n",
    "    ['2010-5-1', '2010-5-12'],\n",
    "    ['2009-12-5', '2009-12-16'],\n",
    "    ['2009-5-2', '2009-5-13'],\n",
    "    ['2008-12-6', '2008-12-17'],\n",
    "    ['2008-4-26', '2008-5-7'],\n",
    "    ['2007-12-1', '2007-12-12'],\n",
    "]"
   ]
  },
  {
   "cell_type": "code",
   "execution_count": 3,
   "metadata": {
    "collapsed": true
   },
   "outputs": [],
   "source": [
    "from datetime import datetime"
   ]
  },
  {
   "cell_type": "code",
   "execution_count": 4,
   "metadata": {
    "collapsed": false
   },
   "outputs": [],
   "source": [
    "s_to_d = lambda s: datetime.strptime(s, '%Y-%m-%d')\n",
    "pad = lambda s: '0' + s if len(s) == 1 else s\n",
    "pad_ds = lambda s: '-'.join(pad(x) for x in s.split('-'))"
   ]
  },
  {
   "cell_type": "code",
   "execution_count": 5,
   "metadata": {
    "collapsed": false
   },
   "outputs": [],
   "source": [
    "dates_dt = [\n",
    "    [s_to_d(pad_ds(dls[0])), s_to_d(pad_ds(dls[1]))]\n",
    "    for dls in dates\n",
    "]"
   ]
  },
  {
   "cell_type": "code",
   "execution_count": 6,
   "metadata": {
    "collapsed": true
   },
   "outputs": [],
   "source": [
    "def during_finals(d):\n",
    "    for date_range in dates_dt:\n",
    "        if d >= date_range[0] and d <= date_range[1]:\n",
    "            return True\n",
    "    return False"
   ]
  },
  {
   "cell_type": "code",
   "execution_count": 7,
   "metadata": {
    "collapsed": true
   },
   "outputs": [],
   "source": [
    "data = [r for r in csv.reader(open('./data/umpd-2007-to-2013-crime-mapping-cleaned.csv'))]"
   ]
  },
  {
   "cell_type": "code",
   "execution_count": 8,
   "metadata": {
    "collapsed": false,
    "scrolled": true
   },
   "outputs": [
    {
     "data": {
      "text/plain": [
       "[(0, 'address'),\n",
       " (1, 'apt'),\n",
       " (2, 'case'),\n",
       " (3, 'offense_code'),\n",
       " (4, 'offense'),\n",
       " (5, 'date_rept'),\n",
       " (6, 'date_occu'),\n",
       " (7, 'hour_occu'),\n",
       " (8, 'date_fnd'),\n",
       " (9, 'hour_fnd'),\n",
       " (10, 'lat'),\n",
       " (11, 'lon')]"
      ]
     },
     "execution_count": 8,
     "metadata": {},
     "output_type": "execute_result"
    }
   ],
   "source": [
    "list(enumerate(data[0]))"
   ]
  },
  {
   "cell_type": "code",
   "execution_count": 9,
   "metadata": {
    "collapsed": true
   },
   "outputs": [],
   "source": [
    "data_finals = [\n",
    "    r for r in data[1:]\n",
    "    if during_finals(s_to_d(r[6]))\n",
    "]"
   ]
  },
  {
   "cell_type": "code",
   "execution_count": 10,
   "metadata": {
    "collapsed": true
   },
   "outputs": [],
   "source": [
    "data_nonfinals = [r for r in data[1:] if r not in data_finals]"
   ]
  },
  {
   "cell_type": "code",
   "execution_count": 11,
   "metadata": {
    "collapsed": true
   },
   "outputs": [],
   "source": [
    "def get_days(table_rows):\n",
    "    first_day, last_day = min(s_to_d(r[6]) for r in table_rows), max(s_to_d(r[6]) for r in table_rows)\n",
    "    return (last_day - first_day).days"
   ]
  },
  {
   "cell_type": "code",
   "execution_count": 12,
   "metadata": {
    "collapsed": false
   },
   "outputs": [],
   "source": [
    "total_recorded_days = get_days(data[1:])\n",
    "total_crimes_per_day = len(data[1:]) / total_recorded_days"
   ]
  },
  {
   "cell_type": "code",
   "execution_count": 13,
   "metadata": {
    "collapsed": true
   },
   "outputs": [],
   "source": [
    "finals_recorded_days = sum((date_range[1] - date_range[0]).days for date_range in dates_dt)\n",
    "finals_crimes_per_day = len(data_finals) / finals_recorded_days"
   ]
  },
  {
   "cell_type": "code",
   "execution_count": 14,
   "metadata": {
    "collapsed": true
   },
   "outputs": [],
   "source": [
    "nonfinals_recorded_days = total_recorded_days - finals_recorded_days\n",
    "nonfinals_crimes_per_day = len(data_nonfinals) / nonfinals_recorded_days"
   ]
  },
  {
   "cell_type": "code",
   "execution_count": 15,
   "metadata": {
    "collapsed": false
   },
   "outputs": [
    {
     "data": {
      "text/plain": [
       "[3.185344827586207, 3.4444444444444446, 3.1698504983388704, 1.0866267813732768]"
      ]
     },
     "execution_count": 15,
     "metadata": {},
     "output_type": "execute_result"
    }
   ],
   "source": [
    "[total_crimes_per_day, finals_crimes_per_day, nonfinals_crimes_per_day, finals_crimes_per_day / nonfinals_crimes_per_day]"
   ]
  },
  {
   "cell_type": "code",
   "execution_count": 16,
   "metadata": {
    "collapsed": true
   },
   "outputs": [],
   "source": [
    "import matplotlib.pyplot as plt\n",
    "%matplotlib inline"
   ]
  },
  {
   "cell_type": "code",
   "execution_count": 17,
   "metadata": {
    "collapsed": false
   },
   "outputs": [
    {
     "data": {
      "text/plain": [
       "[<matplotlib.text.Text at 0x7f77656689e8>,\n",
       " <matplotlib.text.Text at 0x7f77656d71d0>]"
      ]
     },
     "execution_count": 17,
     "metadata": {},
     "output_type": "execute_result"
    },
    {
     "data": {
      "image/png": "[encoded data removed]",
      "text/plain": [
       "<matplotlib.figure.Figure at 0x7f77656c04a8>"
      ]
     },
     "metadata": {},
     "output_type": "display_data"
    }
   ],
   "source": [
    "sns.set(style=\"white\", context=\"talk\")\n",
    "sns.plt.title('Crimes Per Day (2007-2013)')\n",
    "ax = sns.barplot(['non-finals (3.1699)', 'in total (3.1853)', 'finals (3.4444)', ],\n",
    "            [nonfinals_crimes_per_day, total_crimes_per_day, finals_crimes_per_day, ],\n",
    "            palette=\"Paired\")\n",
    "ax.set(ylabel='Crimes Per Day', xlabel='Time Range')"
   ]
  },
  {
   "cell_type": "code",
   "execution_count": 18,
   "metadata": {
    "collapsed": true
   },
   "outputs": [],
   "source": [
    "finals_offenses = Counter(r[3] for r in data_finals)\n",
    "nonfinals_offenses = Counter(r[3] for r in data_nonfinals)"
   ]
  },
  {
   "cell_type": "code",
   "execution_count": 24,
   "metadata": {
    "collapsed": true
   },
   "outputs": [],
   "source": [
    "total_finals_offenses = sum(finals_offenses.values())\n",
    "total_nonfinals_offenses = sum(nonfinals_offenses.values())"
   ]
  },
  {
   "cell_type": "code",
   "execution_count": 53,
   "metadata": {
    "collapsed": false
   },
   "outputs": [],
   "source": [
    "offense_descriptions = defaultdict(set)\n",
    "for r in data[1:]:\n",
    "    offense_descriptions[r[3]].add(r[4])"
   ]
  },
  {
   "cell_type": "code",
   "execution_count": 68,
   "metadata": {
    "collapsed": false,
    "scrolled": true
   },
   "outputs": [
    {
     "name": "stdout",
     "output_type": "stream",
     "text": [
      "top 10 crimes non-finals\n",
      "\n",
      "14.44%\t1102\tVEI\tVEHICLE PARKING OFFENSE SCOFF LAW\n",
      " 7.97%\t608\tTHF\tTHEFT FROM STRUCTURE WITH LEGAL ACCESS PUBLIC BUILDING\n",
      " 7.55%\t576\tFDD\tFD INJURED PERSON\n",
      " 7.55%\t576\tPRA\tTRESPASSING\n",
      " 7.40%\t565\tZOA\tTRESPASS WARNING\n",
      " 4.26%\t325\tPRB\tPROPERTY LOST\n",
      " 3.98%\t304\tZOM\tSIMPLE ASSAULT THREATS\n",
      " 3.84%\t293\tVEL\tVEHICLE TRAFFIC CRASH\n",
      " 2.91%\t222\tTVE\tTHEFT OF BICYCLE\n",
      " 2.80%\t214\tTHK\tTHEFT OTHER\n",
      "total: \t7633\n"
     ]
    }
   ],
   "source": [
    "print('top 10 crimes non-finals\\n')\n",
    "top10_nonfinals = reversed(sorted(nonfinals_offenses.items(), key=lambda s: tuple(s)[1])[-10:])\n",
    "for code, count in top10_nonfinals:\n",
    "    percent = (count/total_nonfinals_offenses) * 100\n",
    "    description = list(offense_descriptions[code])[0]\n",
    "    print('{:-5.2f}%\\t{}\\t{}\\t{}'.format(percent, count, code, description))\n",
    "print('total: \\t{}'.format(total_nonfinals_offenses))"
   ]
  },
  {
   "cell_type": "code",
   "execution_count": 67,
   "metadata": {
    "collapsed": false
   },
   "outputs": [
    {
     "name": "stdout",
     "output_type": "stream",
     "text": [
      "top 10 crimes finals\n",
      "\n",
      "10.48%\t52\tVEI\tVEHICLE PARKING OFFENSE SCOFF LAW\n",
      " 9.68%\t48\tTHF\tTHEFT FROM STRUCTURE WITH LEGAL ACCESS PUBLIC BUILDING\n",
      " 9.48%\t47\tPRA\tTRESPASSING\n",
      " 8.06%\t40\tFDD\tFD INJURED PERSON\n",
      " 5.24%\t26\tZOA\tTRESPASS WARNING\n",
      " 4.64%\t23\tZOM\tSIMPLE ASSAULT THREATS\n",
      " 4.64%\t23\tVEL\tVEHICLE TRAFFIC CRASH\n",
      " 3.23%\t16\tTHK\tTHEFT OTHER\n",
      " 3.23%\t16\tPRB\tPROPERTY LOST\n",
      " 2.82%\t14\tTHC\tTHEFT FROM MOTOR VEHICLE\n",
      "total: \t496\n"
     ]
    }
   ],
   "source": [
    "print('top 10 crimes finals\\n')\n",
    "top10_finals = reversed(sorted(finals_offenses.items(), key=lambda s: tuple(s)[1])[-10:])\n",
    "for code, count in top10_finals:\n",
    "    percent = (count/total_finals_offenses) * 100\n",
    "    description = list(offense_descriptions[code])[0]\n",
    "    print('{:-5.2f}%\\t{}\\t{}\\t{}'.format(percent, count, code, description))\n",
    "print('total: \\t{}'.format(total_finals_offenses))"
   ]
  },
  {
   "cell_type": "code",
   "execution_count": null,
   "metadata": {
    "collapsed": true
   },
   "outputs": [],
   "source": []
  }
 ],
 "metadata": {
  "kernelspec": {
   "display_name": "Python 3",
   "language": "python",
   "name": "python3"
  },
  "language_info": {
   "codemirror_mode": {
    "name": "ipython",
    "version": 3
   },
   "file_extension": ".py",
   "mimetype": "text/x-python",
   "name": "python",
   "nbconvert_exporter": "python",
   "pygments_lexer": "ipython3",
   "version": "3.4.3"
  }
 },
 "nbformat": 4,
 "nbformat_minor": 0
}
