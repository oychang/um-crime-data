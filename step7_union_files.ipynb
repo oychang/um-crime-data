{
 "cells": [
  {
   "cell_type": "code",
   "execution_count": 1,
   "metadata": {
    "collapsed": true
   },
   "outputs": [],
   "source": [
    "import csv"
   ]
  },
  {
   "cell_type": "code",
   "execution_count": 14,
   "metadata": {
    "collapsed": false
   },
   "outputs": [],
   "source": [
    "with open('./data/converted_crime_data/Crime_pass5_no_tracts.csv') as f:\n",
    "    data = [r for r in csv.reader(f)]\n",
    "with open('./data/converted_crime_data/Crime_pass6_cases.csv') as f:\n",
    "    cases = [r for r in csv.reader(f)]\n",
    "with open('./data/converted_crime_data/Crime_pass6_codes.csv') as f:\n",
    "    codes = [r for r in csv.reader(f)]\n",
    "with open('./data/converted_crime_data/Crime_pass6_locations.csv') as f:\n",
    "    locations = [r for r in csv.reader(f)]"
   ]
  },
  {
   "cell_type": "code",
   "execution_count": 6,
   "metadata": {
    "collapsed": false
   },
   "outputs": [
    {
     "data": {
      "text/plain": [
       "[(0, ('address', 'address')),\n",
       " (1, ('apt', 'fid')),\n",
       " (2, ('case', 'building_name')),\n",
       " (3, ('primary_offense', 'x')),\n",
       " (4, ('offense_code', 'y')),\n",
       " (5, ('offense', None)),\n",
       " (6, ('date_rept', None)),\n",
       " (7, ('date_occu', None)),\n",
       " (8, ('hour_occu', None)),\n",
       " (9, ('date_fnd', None)),\n",
       " (10, ('hour_fnd', None)),\n",
       " (11, ('fid', None)),\n",
       " (12, ('x', None)),\n",
       " (13, ('y', None))]"
      ]
     },
     "execution_count": 6,
     "metadata": {},
     "output_type": "execute_result"
    }
   ],
   "source": [
    "from itertools import zip_longest\n",
    "list(enumerate(zip_longest(data[0], locations[0])))"
   ]
  },
  {
   "cell_type": "code",
   "execution_count": 10,
   "metadata": {
    "collapsed": false
   },
   "outputs": [
    {
     "data": {
      "text/plain": [
       "(8137, 7)"
      ]
     },
     "execution_count": 10,
     "metadata": {},
     "output_type": "execute_result"
    }
   ],
   "source": [
    "(len(data[1:]), sum(r[0] == '' for r in data[1:]))"
   ]
  },
  {
   "cell_type": "code",
   "execution_count": 18,
   "metadata": {
    "collapsed": false
   },
   "outputs": [],
   "source": [
    "data_with_location = [data[0]] + [\n",
    "    r for r in data[1:] if not (r[0] == '' and r[11] == '' and r[12] == ''  and r[13] == '')]"
   ]
  },
  {
   "cell_type": "code",
   "execution_count": 19,
   "metadata": {
    "collapsed": false
   },
   "outputs": [
    {
     "data": {
      "text/plain": [
       "[['address',\n",
       "  'apt',\n",
       "  'case',\n",
       "  'primary_offense',\n",
       "  'offense_code',\n",
       "  'offense',\n",
       "  'date_rept',\n",
       "  'date_occu',\n",
       "  'hour_occu',\n",
       "  'date_fnd',\n",
       "  'hour_fnd',\n",
       "  'fid',\n",
       "  'x',\n",
       "  'y'],\n",
       " ['1525 ALBENGA AV',\n",
       "  '',\n",
       "  '07000101',\n",
       "  '1',\n",
       "  'VAB',\n",
       "  'VANDALISM TO VEHICLE',\n",
       "  '2007-01-04',\n",
       "  '2007-01-03',\n",
       "  '1600',\n",
       "  '2007-01-04',\n",
       "  '1600',\n",
       "  '109',\n",
       "  '891786.45900000003',\n",
       "  '502485.90500000003']]"
      ]
     },
     "execution_count": 19,
     "metadata": {},
     "output_type": "execute_result"
    }
   ],
   "source": [
    "data_with_location[:2]"
   ]
  },
  {
   "cell_type": "code",
   "execution_count": 20,
   "metadata": {
    "collapsed": false
   },
   "outputs": [
    {
     "data": {
      "text/plain": [
       "0"
      ]
     },
     "execution_count": 20,
     "metadata": {},
     "output_type": "execute_result"
    }
   ],
   "source": [
    "sum(r[4] == '' for r in data_with_location)"
   ]
  },
  {
   "cell_type": "markdown",
   "metadata": {},
   "source": [
    "so we don't need codes or cases csv files at this point"
   ]
  },
  {
   "cell_type": "code",
   "execution_count": 100,
   "metadata": {
    "collapsed": false
   },
   "outputs": [
    {
     "data": {
      "text/plain": [
       "4583"
      ]
     },
     "execution_count": 100,
     "metadata": {},
     "output_type": "execute_result"
    }
   ],
   "source": [
    "sum((r[12] == '' or r[13] == '' or r[11] == '') and r[0] != '' for r in data_with_location)"
   ]
  },
  {
   "cell_type": "markdown",
   "metadata": {},
   "source": [
    "so the existence of fid, x, or y are independent"
   ]
  },
  {
   "cell_type": "code",
   "execution_count": 41,
   "metadata": {
    "collapsed": false
   },
   "outputs": [],
   "source": [
    "import re\n",
    "rex1 = re.compile(r'\\W+')\n",
    "rex2 = re.compile(r'\\.')\n",
    "clean_addr = lambda s: rex1.sub(' ', rex2.sub(' ', s)).upper().strip()"
   ]
  },
  {
   "cell_type": "code",
   "execution_count": 63,
   "metadata": {
    "collapsed": true
   },
   "outputs": [],
   "source": [
    "addresses = {clean_addr(r[0]): r[1:] for r in locations if clean_addr(r[0]) != ''}"
   ]
  },
  {
   "cell_type": "code",
   "execution_count": 64,
   "metadata": {
    "collapsed": false
   },
   "outputs": [],
   "source": [
    "fixables = [r for r in data[1:] if r[11] == '' and r[0] in addresses]"
   ]
  },
  {
   "cell_type": "code",
   "execution_count": 97,
   "metadata": {
    "collapsed": false,
    "scrolled": true
   },
   "outputs": [],
   "source": [
    "data_fix_missing_locations = [data_with_location[0]]\n",
    "for row in data_with_location[1:]:\n",
    "    if (row[11] == '' or row[12] == '') and row[0] in addresses:\n",
    "        fid, apt, x, y = addresses[row[0]]\n",
    "        data_fix_missing_locations.append([row[0]] + [clean_addr(apt)] + row[2:11] + [fid, x, y])\n",
    "    else:\n",
    "        data_fix_missing_locations.append(row)"
   ]
  },
  {
   "cell_type": "code",
   "execution_count": 98,
   "metadata": {
    "collapsed": false
   },
   "outputs": [],
   "source": [
    "need_to_geolocate = [r for r in data_fix_missing_locations\n",
    "                    if r[12] == '' and r[13] == '' and r[0] != '']"
   ]
  },
  {
   "cell_type": "code",
   "execution_count": 108,
   "metadata": {
    "collapsed": false
   },
   "outputs": [
    {
     "data": {
      "text/plain": [
       "[3457, 8131]"
      ]
     },
     "execution_count": 108,
     "metadata": {},
     "output_type": "execute_result"
    }
   ],
   "source": [
    "[len(need_to_geolocate), len(data_fix_missing_locations)]"
   ]
  },
  {
   "cell_type": "code",
   "execution_count": 89,
   "metadata": {
    "collapsed": false
   },
   "outputs": [
    {
     "data": {
      "text/plain": [
       "['1231 THEO DICKINSON DR',\n",
       " '',\n",
       " '07009517',\n",
       " '1',\n",
       " 'ALA',\n",
       " 'ALCOHOL JUVENILE VIOLATION',\n",
       " '2007-10-21',\n",
       " '2007-10-21',\n",
       " '0325',\n",
       " '2007-10-21',\n",
       " '0325',\n",
       " '',\n",
       " '',\n",
       " '']"
      ]
     },
     "execution_count": 89,
     "metadata": {},
     "output_type": "execute_result"
    }
   ],
   "source": [
    "need_to_geolocate[0]"
   ]
  },
  {
   "cell_type": "code",
   "execution_count": 101,
   "metadata": {
    "collapsed": false
   },
   "outputs": [
    {
     "data": {
      "text/plain": [
       "214"
      ]
     },
     "execution_count": 101,
     "metadata": {},
     "output_type": "execute_result"
    }
   ],
   "source": [
    "sum(r[0] == '1101 STANFORD DR' for r in need_to_geolocate)"
   ]
  },
  {
   "cell_type": "markdown",
   "metadata": {},
   "source": [
    "http://www.miami.edu/sa/index.php/residential_life/services/mail_packages/\n",
    "\n",
    "* Eaton Residential College\t1211 Dickinson Drive\n",
    "* Mahoney Residential College\t1101 Stanford Drive\n",
    "* Pearson Residential College\t5185 Ponce de Leon Blvd.\n",
    "* Hecht Residential College \t1231 Dickinson Drive\n",
    "* Stanford Residential College\t1239 Dickinson Drive\n",
    "* University Village\t1527 Albenga Avenue"
   ]
  },
  {
   "cell_type": "code",
   "execution_count": 141,
   "metadata": {
    "collapsed": false
   },
   "outputs": [
    {
     "name": "stdout",
     "output_type": "stream",
     "text": [
      "1864\n"
     ]
    },
    {
     "data": {
      "text/plain": [
       "[('1231 THEO DICKINSON DR', 352),\n",
       " ('1239 THEO DICKINSON DR', 263),\n",
       " ('5665 PONCE DE LEON BLVD', 228),\n",
       " ('1101 STANFORD DR', 214),\n",
       " ('5185 PONCE DE LEON BLVD', 203),\n",
       " ('1231 DICKINSON DR', 194),\n",
       " ('1239 DICKINSON DR', 159),\n",
       " ('5501 SAN AMARO DR', 103),\n",
       " ('1211 THEO DICKINSON DR', 81),\n",
       " ('1311 MILLER DR', 67)]"
      ]
     },
     "execution_count": 141,
     "metadata": {},
     "output_type": "execute_result"
    }
   ],
   "source": [
    "from collections import Counter\n",
    "geolocate_counter = Counter(r[0] for r in need_to_geolocate)\n",
    "\n",
    "top10 = sorted(geolocate_counter.items(), key=lambda x: x[1])[-10:]\n",
    "print(sum(x[1] for x in top10))\n",
    "list(reversed(top10))"
   ]
  },
  {
   "cell_type": "markdown",
   "metadata": {},
   "source": [
    "among the top 10 are the flipse building/garage and the music recital building"
   ]
  },
  {
   "cell_type": "code",
   "execution_count": 151,
   "metadata": {
    "collapsed": false
   },
   "outputs": [
    {
     "data": {
      "text/plain": [
       "[307, 3457]"
      ]
     },
     "execution_count": 151,
     "metadata": {},
     "output_type": "execute_result"
    }
   ],
   "source": [
    "[len(geolocate_counter), sum(x for x in geolocate_counter.values())]"
   ]
  },
  {
   "cell_type": "code",
   "execution_count": 131,
   "metadata": {
    "collapsed": true
   },
   "outputs": [],
   "source": [
    "from geopy.geocoders import GoogleV3"
   ]
  },
  {
   "cell_type": "code",
   "execution_count": 132,
   "metadata": {
    "collapsed": false
   },
   "outputs": [],
   "source": [
    "geolocator = GoogleV3(api_key='')"
   ]
  },
  {
   "cell_type": "code",
   "execution_count": 142,
   "metadata": {
    "collapsed": true
   },
   "outputs": [],
   "source": [
    "missing_locations = list(geolocate_counter.keys())"
   ]
  },
  {
   "cell_type": "code",
   "execution_count": 146,
   "metadata": {
    "collapsed": true
   },
   "outputs": [],
   "source": [
    "from time import sleep"
   ]
  },
  {
   "cell_type": "code",
   "execution_count": 148,
   "metadata": {
    "collapsed": false
   },
   "outputs": [
    {
     "name": "stdout",
     "output_type": "stream",
     "text": [
      "got 1599 CORNICHE AV/RED RD\n",
      "got DICKINSON DR/PONCE DE LEON BLVD\n",
      "got 5801 PONCE DE LEON BLVD\n",
      "got 1549 S ALHAMBRA CIR/PONCE DE LEON BLVD\n",
      "got 1100 S DIXIE HWY\n",
      "got 1500 ALBENGA AV/SAN AMARO DR\n",
      "got 5300 PONCE DE LEON BLVD\n",
      "got 1225 ALBENGA AVE\n",
      "got 1211 DICKINSON DR\n",
      "got 1531 LIGURIA AV\n",
      "got 5600 PONCE DE LEON BLVD\n",
      "got 1305 CAMPO SANO AV\n",
      "got 5199 PONCE DE LEON BLVD/STANFORD DR\n",
      "got 1111 MEMORIAL DRI\n",
      "got 5500 BLK SAN AMARO DR\n",
      "got 4900 CAMPO SANO CT\n",
      "got 5616 GEORGE E MERRICK ST\n",
      "got 5100 PONCE DE LEON BLVD\n",
      "got SAN AMARO DR/PONCE DE LEON BLVD\n",
      "got 5300 CARILLO ST\n",
      "got 5600 GRANADA BLVD\n",
      "got 1561 CORNICHE AV\n",
      "got 5600 GEORGE E MERRICK ST\n",
      "got RED RD/CORNICHE AV\n",
      "got SAN AMARO DR/LEVANTE AV\n",
      "got RED RD/LEVANTE AV\n",
      "got 6501 SAN AMARO DR\n",
      "got 1575 LIGURIA DR\n",
      "got 1400 S DIXIE HWY\n",
      "got 5600 RED RD\n",
      "got SAN AMARO DR/ROBBIA AV\n",
      "got 5225 STANFORD DR\n",
      "got 5616 PAVIA ST\n",
      "got 5299 PONCE DE LEON BLVD/GEORGE E MERRICK ST\n",
      "got 5801 SAN AMARO DR\n",
      "got 1299 DICKINSON DR\n",
      "got 1537 LIGURIA AV\n",
      "got 1231 THEO DICKINSON DR\n",
      "got PONCE DE LEON BLVD/DICKINSON DR\n",
      "got 1311 MEMORIAL DR\n",
      "got 1210 STANFORD DR\n",
      "got LEVANTE AV/RED RD\n",
      "got 1200 DICKINSON DR\n",
      "got 1100 STANFORD\n",
      "got 5700 PONCE DE LEON BLVD\n",
      "got 6000 SAN AMARO DR\n",
      "got 5600 PAVIA ST\n",
      "got 5150 BRUNSON DR\n",
      "got 5699 GEORGE E MERRICK ST/PONCE DE LEON BLVD\n",
      "got 1228 DICKINSON DR\n",
      "got 5401 STANFORD DR\n",
      "got 1599 BRESCIA AV/RED RD\n",
      "got 1306 MILLER DR\n",
      "got 1213 WALSH AV\n",
      "got 1221 WALSH AV\n",
      "got 1500 SAN AMARO AVE\n",
      "got BRESCIA AV/SAN AMARO DR\n",
      "got 5801 SUNSET DR\n",
      "got 1330 MILLER DRIVE\n",
      "got 1320 CAMPO SANO AVE\n",
      "got 6199 SAN AMARO DR/BRESCIA AV\n",
      "got 6599 SAN AMARO DR/PONCE DE LEON BLVD\n",
      "got 1350 MILLER DR\n",
      "got 6403 RED RD/SW 64TH ST\n",
      "got 5900 SAN AMARO DR\n",
      "got 1251 STANFORD DR\n",
      "got 5501 BRUNSON DR\n",
      "got 1245 THEO DICKINSON DR\n",
      "got 1229 WALSH AV\n",
      "got 1231 DICKINSON DRIVE\n",
      "got 5500 PONCE DE LEON BLVD\n",
      "got 1535 LEVANTE AVE\n",
      "got 5565 PONCE DE LEON BLVD\n",
      "got 1520 LIGURIA AV\n",
      "got 1101 STANFORD DRIVE\n",
      "got 5262 SAN AMARO DR/MEMORIAL DR\n",
      "got 6500 SAN AMARO DR\n",
      "got 1400 CONSOLATA AV/SAN AMARO DR\n",
      "got 5600 MILLER\n",
      "got 5225 LEVANTE\n",
      "got 5100 BRUNSON DR\n",
      "got 5638 MERRICK  DR\n",
      "got 5815 PONCE DE LEON BLVD\n",
      "got 6499 RED RD/LEVANTE AV\n",
      "got 1275 THEO DICKINSON DR\n",
      "got 1365 MEMORIAL DRIVE\n",
      "got 5400 PONCE DELEON BLVD\n",
      "got 1234 THEO DICKINSON DR\n",
      "got 1204 DICKINSON DR\n",
      "got 1500 BRESCIA AV\n",
      "got 1541 SAN AMARO DR\n",
      "got 5629 GEORGE E MERRICK ST\n",
      "got 1203 MERRICK STREET\n",
      "got 1299 DICKINSON DR/PONCE DE LEON BLVD\n",
      "got 5610 GEORGE E MERRICK ST\n",
      "got 1500 LEVANTE AV/SAN AMARO DR\n",
      "got 5475 PONCE DE LEON BLVD/S ALHAMBRA CIR\n",
      "got 1239 STANFORD DR\n",
      "got 5799 PONCE DE LEON BLVD/SAN AMARO DR\n",
      "got 5800 PONCE DE LEON BLVD\n",
      "got 1211 MILLER DR\n",
      "got 5762 SW 59TH STREET\n",
      "got 1529 LIGURIA AV\n",
      "got 5280 BRUNSON DR\n",
      "got 5999 SAN AMARO DR/LIGURIA AV\n",
      "got 5000 BRUNSON DR\n",
      "got 5899 SAN AMARO DR/ALBENGA AV\n",
      "got 5600 MERRICK DR\n",
      "got 5965 PONCE DE LEON BLVD\n",
      "got 1311 MILLER DRIVE\n",
      "got 5513 MERRICK ST\n",
      "got 1575 ALBENGA AV\n",
      "got 5998 RED RD/SW 60TH ST\n",
      "got 1150 STANFORD DR/PONCE DE LEON BLVD\n",
      "got 5362 SAN AMARO DR/MILLER DR\n",
      "got 1200 CAMPO SANO AV\n",
      "got 5100 BRUNSON DRIVE\n",
      "got 6000 RED RD\n",
      "got 1500 LIGURIA AV/SAN AMARO DR\n",
      "got 5665 PONCE DE LEON BLV\n",
      "got 1221 THEO DICKINSON DR\n",
      "got RED RD/SW 60TH ST\n",
      "got 5616 MERRICK ST\n",
      "got 5833 PONCE DE LEON BLVD\n",
      "got 5000 PONCE DE LEON BLVD\n",
      "got 1100 STANFORD DR\n",
      "got 5513 MERRICK WAY\n",
      "got 1574 LIGURIA AV\n",
      "got 1245 WILLIAM E WALSH AV\n",
      "got 5200 CARILLO ST\n",
      "got 1561 LIGURIA DR ( BLDG 6)\n",
      "got 1241 DICKINSON DR\n",
      "got 5600 MERRICK ST\n",
      "got STANFORD DR/PONCE DE LEON BLVD\n",
      "got 5849 SAN AMARO DR/CORNICHE AV\n",
      "got 1100 BLK LEVANTE AVE\n",
      "got 1365 MEMORIAL DR\n",
      "got 5399 PONCE DE LEON BLVD\n",
      "got 5183 PONCE DE LEON BLV\n",
      "got 1299 THEO DICKINSON DR\n",
      "got DAUER DR/PONCE DE LEON BLVD\n",
      "got 5600 TURIN ST\n",
      "got 6299 SAN AMARO DR\n",
      "got 5600 SAN AMARO DR\n",
      "got 1200 PAVIA ST\n",
      "got 2201 COLLINS AV\n",
      "got 1537 CORNICHE AVE\n",
      "got 1585 LIGURIA AV\n",
      "got 1200 S DIXIE HWY\n",
      "got 1611 MILLER DR\n",
      "got 5185 PONCE DE LEON BLVD\n",
      "got 1314 MILLER RD\n",
      "got 5600 MERRICK  ST\n",
      "got 5800 SAN AMARO DR\n",
      "got 5516 PAVIA STREET\n",
      "got SAN AMARO DR/MILLER RD\n",
      "got 1311 MILLER DR\n",
      "got 1527 LIGURIA AV\n",
      "got 6001 SAN AMARO DR\n",
      "got LIGURIA AV/SAN AMARO DR\n",
      "got 5638 GEORGE E MERRICK DR\n",
      "got 5600 MILLER DR\n",
      "got 1401 MEMORIAL DR\n",
      "got RED RD/BRESCIA AV\n",
      "got SAN AMARO DR/ALBENGA AV\n",
      "got 1500 DELGADO AV/SAN AMARO DR\n",
      "got 1211 THEO DICKINSON DR\n",
      "got 5500 ALHAMBRA CIR\n",
      "got 1251 S ALHAMBRA CIR\n",
      "got 5030 BRUNSON  DR\n",
      "got 1535 LIGURIA AV\n",
      "got 1530 LIGURIA AVE\n",
      "got 5565 PAVIA ST\n",
      "got 5101 SAN AMARO DR\n",
      "got 5513 GEORGE E MERRICK ST\n",
      "got 5821 SAN AMARO DR\n",
      "got 6100 SAN AMARO DR\n",
      "got SAN AMARO DR/LIGURIA AV\n",
      "got 1100 PISANO AV\n",
      "got 1599 ALBENGA AV/RED RD\n",
      "got 1236 THEO DICKINSON DR\n",
      "got 6399 RED RD/BRESCIA AV\n",
      "got 5821 HURRICANE DR\n",
      "got 1231 STANFORD DR\n",
      "got 1530 LIGURIA AV\n",
      "got 1126 STANFORD DR/PONCE DE LEON BLVD\n",
      "got 1250 STANFORD DR\n",
      "got ALBENGA AV/RED RD\n",
      "got 1400 TRILLO AV\n",
      "got 1200 MEMORIAL DR\n",
      "got 5399 PONCE DE LEON BLVD/DICKINSON DR\n",
      "got MILLER RD/SAN AMARO DR\n",
      "got 431 BIANCA AV\n",
      "got 1500 ALBENGA AV\n",
      "got MILLER DR/SAN AMARO DR\n",
      "got 5600 MARIUS ST\n",
      "got PONCE DE LEON BLVD/S ALHAMBRA CIR\n",
      "got 1203 THEO DICKINSON DR\n",
      "got 740 SISTINA AV\n",
      "got 1238 DICKINSON DR\n",
      "got 5250 UNIVERSITY DR\n",
      "got 1507 LEVANTE AVE\n",
      "got 5099 UNIVERSITY DR/PISANO AV\n",
      "got 1225 DICKINSON DR\n",
      "got 5400 PONCE DE LEON BLVD\n",
      "got 5799 SAN AMARO DR/MATARO AV\n",
      "got 1535 CORNICHE AV\n",
      "got 5200 PONCE DE LEON BLVD\n",
      "got 1200 THEO DICKINSON DR\n",
      "got 1251 MEMORIAL DR\n",
      "got 1300 CAMPO SANO AV\n",
      "got 1320 S DIXIE HWY\n",
      "got 1239 DICKINSON DR\n",
      "got 1552 S DIXIE HWY\n",
      "got 1300 MEMORIAL DRIVE\n",
      "got 1241 DAUER DR\n",
      "got 5699 SAN AMARO DR/ALHAMBRA CIR\n",
      "got 1300 CAMPO SANO DR\n",
      "got 5900 PONCE DE LEON BLVD\n",
      "got 1223 DICKINSON DR\n",
      "got PONCE DE LEON BLVD/SAN AMARO DR\n",
      "got 4100 RED RD\n",
      "got 1206 STANFORD DR\n",
      "got SAN AMARO DR/CORNICHE AV\n",
      "got 5615 PAVIA STREET\n",
      "got 1216 DICKINSON DR\n",
      "got 5500 SAN AMARO\n",
      "got 1500 MILLER DR\n",
      "got 5600 BLK - PONCE DE LEON BLVD\n",
      "got 5201 PONCE DE LEON BLVD\n",
      "got 5831 PONCE DE LEON BLVD\n",
      "got 1500 CORNICHE AV\n",
      "got 5500 SAN AMARO DR\n",
      "got 6201 SAN AMARO DR\n",
      "got 1200 DICKINSON DR/GEORGE E MERRICK ST\n",
      "got 1239 THEO DICKINSON DRIVE\n",
      "got 1320 CAMPO SANO AV\n",
      "got SAN AMARO DR/MILLER DR\n",
      "got THEO DICKINSON DR\n",
      "got 1500 S DIXIE HWY\n",
      "got 5800 SAN AMARO DR/MATARO AV\n",
      "got 1400 URBINO AV\n",
      "got 5600 MERRICK STREET\n",
      "got 1500 MATARO AV/SAN AMARO DR\n",
      "got 5500 BRUNSON DR\n",
      "got 1551 SCODELLA AV\n",
      "got 5030 SAN AMARO DR\n",
      "got 1237 DICKINSON DR\n",
      "got 1305 MEMORIAL DR\n",
      "got 1200 WALSH AV\n",
      "got 1320 SAN AMARO\n",
      "got 6300 SAN AMARO DR\n",
      "got 6248 RED RD/LIGURIA AV\n",
      "got 1599 LEVANTE AV/RED RD\n",
      "got 1529 ALBENGA AV\n",
      "got 1300 MILLER DR\n",
      "got LEVANTE AV/STANFORD DR\n",
      "got 5915 PONCE DE LEON BLV\n",
      "got 1213 THEO DICKINSON DR\n",
      "got 6201 SAN AMARO DRIVE\n",
      "got 1525 ALBENGA AVE\n",
      "got 1200 STANFORD DR\n",
      "got 1290 CAMPO SANO AV\n",
      "got 5299 PISANO AV/CAMPO SANO AV\n",
      "got 1399 MILLER DR\n",
      "got 1315 MILLER DR\n",
      "got PONCE DE LEON BLVD/STANFORD DR\n",
      "got 1300 STANFORD DR\n",
      "got 5099 PISANO AV/UNIVERSITY DR\n",
      "got 6400 RED RD\n",
      "got 5199 CARILLO ST/PISANO AV\n",
      "got 5501 SAN AMARO DR\n",
      "got 5621 SAN AMARO DR\n",
      "got 5835 PONCE DE LEON BLVD\n",
      "got 1239 THEO DICKINSON DR\n",
      "got 1190 S DIXIE HWY\n",
      "got 4500 PONCE DE LEON BLVD\n",
      "got 1500 LIGURIA AV\n",
      "got 1399 MILLER DR/SAN AMARO DR\n",
      "got 5100 UNIVERSITY DR\n",
      "got 5638 GEORGE E MERRICK ST\n",
      "got 1531 LIGURIA AVE\n",
      "got 5665 PONCE DE LEON BLVD\n",
      "got 5807 PONCE DE LEON BLVD\n",
      "got 4900 SAN AMARO\n",
      "got 1500 ZORETA AV\n",
      "got 6102 RED RD/CORNICHE AV\n",
      "got UNIVERSITY DR/PISANO AV\n",
      "got 1215 DICKINSON DR\n",
      "got 5250 BRUNSON DR\n",
      "got 1223 THEO DICKINSON DR\n",
      "got 1215 THEO DICKINSON DR\n",
      "got 1520 ALBENGA AV\n",
      "got S ALHAMBRA CIR/PONCE DE LEON BLVD\n",
      "got 1200 WILLIAM E WALSH AV\n",
      "got 5825 SAN AMARO DR\n",
      "got 1500 ROBBIA AV\n",
      "got 5100 SAN AMARO DR\n",
      "got 1321 NW 21 ST\n",
      "got 1400 MILLER RD\n",
      "got 1541 SCODELLA AV\n",
      "got 1500 SCODELLA AV\n",
      "got 1231 DICKINSON DR\n",
      "got 1500 LEVANTE AV\n",
      "got 1101 STANFORD DR\n",
      "got 5000 UNIVERSITY DR\n",
      "got 5921 SAN AMARO DR\n"
     ]
    }
   ],
   "source": [
    "geolocated = {}\n",
    "failed = []\n",
    "for loc in missing_locations:\n",
    "    res = geolocator.geocode(loc + ' CORAL GABLES FL')\n",
    "    if res is None:\n",
    "        print('failed to geolocate {}'.format(loc))\n",
    "        failed.append(loc)\n",
    "    else:\n",
    "        print('got {}'.format(loc))\n",
    "        geolocated[loc] = res\n",
    "    sleep(1 / 10) # API throttling"
   ]
  },
  {
   "cell_type": "code",
   "execution_count": 150,
   "metadata": {
    "collapsed": false
   },
   "outputs": [
    {
     "data": {
      "text/plain": [
       "0"
      ]
     },
     "execution_count": 150,
     "metadata": {},
     "output_type": "execute_result"
    }
   ],
   "source": [
    "len(failed)"
   ]
  },
  {
   "cell_type": "code",
   "execution_count": 153,
   "metadata": {
    "collapsed": false
   },
   "outputs": [],
   "source": [
    "res = list(geolocated.keys())[0]"
   ]
  },
  {
   "cell_type": "code",
   "execution_count": 157,
   "metadata": {
    "collapsed": false
   },
   "outputs": [
    {
     "data": {
      "text/plain": [
       "['address', 'altitude', 'latitude', 'longitude', 'point', 'raw']"
      ]
     },
     "execution_count": 157,
     "metadata": {},
     "output_type": "execute_result"
    }
   ],
   "source": [
    "[x for x in dir(geolocated[res]) if not x.startswith('_')]"
   ]
  },
  {
   "cell_type": "code",
   "execution_count": 161,
   "metadata": {
    "collapsed": false
   },
   "outputs": [
    {
     "data": {
      "text/plain": [
       "25.7140872"
      ]
     },
     "execution_count": 161,
     "metadata": {},
     "output_type": "execute_result"
    }
   ],
   "source": [
    "geolocated[res].latitude"
   ]
  },
  {
   "cell_type": "code",
   "execution_count": 166,
   "metadata": {
    "collapsed": false
   },
   "outputs": [],
   "source": [
    "with open('./data/cached_geocode_data.csv', 'w') as f:\n",
    "    writer = csv.writer(f)\n",
    "    writer.writerow(['address', 'geolocated_address', 'lat', 'lon', 'altitude'])\n",
    "    for key, value in geolocated.items():\n",
    "        writer.writerow([key, value.address, value.latitude, value.longitude, value.altitude])"
   ]
  }
 ],
 "metadata": {
  "kernelspec": {
   "display_name": "Python 3",
   "language": "python",
   "name": "python3"
  },
  "language_info": {
   "codemirror_mode": {
    "name": "ipython",
    "version": 3
   },
   "file_extension": ".py",
   "mimetype": "text/x-python",
   "name": "python",
   "nbconvert_exporter": "python",
   "pygments_lexer": "ipython3",
   "version": "3.4.3"
  }
 },
 "nbformat": 4,
 "nbformat_minor": 0
}
