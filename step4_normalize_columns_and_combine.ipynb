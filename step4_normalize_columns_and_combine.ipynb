{
 "cells": [
  {
   "cell_type": "code",
   "execution_count": 1,
   "metadata": {
    "collapsed": true
   },
   "outputs": [],
   "source": [
    "from glob import glob\n",
    "import csv"
   ]
  },
  {
   "cell_type": "code",
   "execution_count": 2,
   "metadata": {
    "collapsed": true
   },
   "outputs": [],
   "source": [
    "files = sorted(glob('./data/converted_crime_data/Crime_pass3_*.csv'))"
   ]
  },
  {
   "cell_type": "code",
   "execution_count": 3,
   "metadata": {
    "collapsed": false
   },
   "outputs": [],
   "source": [
    "headers = []\n",
    "for fn in files:\n",
    "    for row in csv.reader(open(fn)):\n",
    "        if len(headers) > 0:\n",
    "            if row != headers[-1]:\n",
    "                headers.append(row)\n",
    "        else:\n",
    "            headers.append(row)\n",
    "        break"
   ]
  },
  {
   "cell_type": "code",
   "execution_count": 4,
   "metadata": {
    "collapsed": false
   },
   "outputs": [
    {
     "data": {
      "text/plain": [
       "[17, 15]"
      ]
     },
     "execution_count": 4,
     "metadata": {},
     "output_type": "execute_result"
    }
   ],
   "source": [
    "[len(x) for x in headers]"
   ]
  },
  {
   "cell_type": "code",
   "execution_count": 5,
   "metadata": {
    "collapsed": false
   },
   "outputs": [
    {
     "data": {
      "text/plain": [
       "[['Address1',\n",
       "  'Apt',\n",
       "  'Case',\n",
       "  'Pri_Offens',\n",
       "  'Off_Code',\n",
       "  'Offense',\n",
       "  'tract',\n",
       "  'DATEofReport',\n",
       "  'date_occ',\n",
       "  'hour_occ',\n",
       "  'date_fnd',\n",
       "  'hour_fnd',\n",
       "  'FID',\n",
       "  'X',\n",
       "  'Y',\n",
       "  'Donxees',\n",
       "  'Donyees'],\n",
       " ['address',\n",
       "  'apt',\n",
       "  'case',\n",
       "  'primary_offense',\n",
       "  'offense_code',\n",
       "  'offense',\n",
       "  'tract',\n",
       "  'date_rept',\n",
       "  'date_occu',\n",
       "  'hour_occu',\n",
       "  'date_fnd',\n",
       "  'hour_fnd',\n",
       "  'fid',\n",
       "  'x',\n",
       "  'y']]"
      ]
     },
     "execution_count": 5,
     "metadata": {},
     "output_type": "execute_result"
    }
   ],
   "source": [
    "headers"
   ]
  },
  {
   "cell_type": "markdown",
   "metadata": {},
   "source": [
    "so the only difference in value or order is Donxees and Donyees...\n",
    "first set x, y to those values if they exist and X, Y do not\n",
    "then slice to replve Don...\n",
    "then use second list as master list\n",
    "drop 2006.csv also"
   ]
  },
  {
   "cell_type": "code",
   "execution_count": 6,
   "metadata": {
    "collapsed": false
   },
   "outputs": [],
   "source": [
    "files = files[1:]"
   ]
  },
  {
   "cell_type": "code",
   "execution_count": 7,
   "metadata": {
    "collapsed": true
   },
   "outputs": [],
   "source": [
    "keep_data = [headers[1]]\n",
    "for fn in files:\n",
    "    with open(fn) as f:\n",
    "        data = [row for row in csv.reader(f)]\n",
    "        for row in data[1:]:\n",
    "            if len(row) == 17:\n",
    "                if row[-1] != '' and row[-2] != '' and row[-3] == '' and row[-4] == '':\n",
    "                    row[-4] = row[-2]\n",
    "                    row[-3] = row[-1]\n",
    "                row = row[:-2]\n",
    "            keep_data.append(row)"
   ]
  },
  {
   "cell_type": "code",
   "execution_count": 8,
   "metadata": {
    "collapsed": false
   },
   "outputs": [
    {
     "data": {
      "text/plain": [
       "8138"
      ]
     },
     "execution_count": 8,
     "metadata": {},
     "output_type": "execute_result"
    }
   ],
   "source": [
    "len(keep_data)"
   ]
  },
  {
   "cell_type": "code",
   "execution_count": 9,
   "metadata": {
    "collapsed": true
   },
   "outputs": [],
   "source": [
    "with open('./data/converted_crime_data/Crime_pass4_sanitized.csv', 'w') as f:\n",
    "    writer = csv.writer(f)\n",
    "    for row in keep_data:\n",
    "        writer.writerow(row)"
   ]
  }
 ],
 "metadata": {
  "kernelspec": {
   "display_name": "Python 3",
   "language": "python",
   "name": "python3"
  },
  "language_info": {
   "codemirror_mode": {
    "name": "ipython",
    "version": 3
   },
   "file_extension": ".py",
   "mimetype": "text/x-python",
   "name": "python",
   "nbconvert_exporter": "python",
   "pygments_lexer": "ipython3",
   "version": "3.4.3"
  }
 },
 "nbformat": 4,
 "nbformat_minor": 0
}
