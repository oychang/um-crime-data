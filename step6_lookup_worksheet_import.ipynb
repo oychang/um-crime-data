{
 "cells": [
  {
   "cell_type": "code",
   "execution_count": 3,
   "metadata": {
    "collapsed": true
   },
   "outputs": [],
   "source": [
    "import csv"
   ]
  },
  {
   "cell_type": "code",
   "execution_count": 4,
   "metadata": {
    "collapsed": true
   },
   "outputs": [],
   "source": [
    "with open('./data/converted_crime_data/Crime_pass5_no_tracts.csv') as f:\n",
    "    data = [r for r in csv.reader(f)]"
   ]
  },
  {
   "cell_type": "code",
   "execution_count": 5,
   "metadata": {
    "collapsed": true
   },
   "outputs": [],
   "source": [
    "with open('./data/converted_crime_data/LookUpRanges.csv') as f:\n",
    "    lookup_data = [r for r in csv.reader(f)]"
   ]
  },
  {
   "cell_type": "markdown",
   "metadata": {},
   "source": [
    "The LookUpRanges worksheet is a combination of four separate metadata tables.\n",
    "\n",
    "* These are in Excel terms, i.e. 1-indexed *\n",
    "\n",
    "1. Rows A-E for rows 4+ are FID, name, X, Y coords\n",
    "2. Rows H-J for rows 4+ are a mapping of Case to FID\n",
    "3. Rows L-M for rows 20-60 are a subset of Offense Codes"
   ]
  },
  {
   "cell_type": "code",
   "execution_count": 11,
   "metadata": {
    "collapsed": false
   },
   "outputs": [
    {
     "data": {
      "text/plain": [
       "[(0, 'Adress'),\n",
       " (1, 'FID'),\n",
       " (2, 'Building Name'),\n",
       " (3, 'X'),\n",
       " (4, 'Y'),\n",
       " (5, ''),\n",
       " (6, ''),\n",
       " (7, 'Case'),\n",
       " (8, 'FID'),\n",
       " (9, 'Signal'),\n",
       " (10, ''),\n",
       " (11, '0.083333'),\n",
       " (12, 'T2'),\n",
       " (13, '2'),\n",
       " (14, 'T2')]"
      ]
     },
     "execution_count": 11,
     "metadata": {},
     "output_type": "execute_result"
    }
   ],
   "source": [
    "list(enumerate(lookup_data[2]))"
   ]
  },
  {
   "cell_type": "code",
   "execution_count": 28,
   "metadata": {
    "collapsed": false
   },
   "outputs": [
    {
     "data": {
      "text/plain": [
       "[['offense_code', 'offense'],\n",
       " ['AGA', 'AGGRAVATED ASSAULT'],\n",
       " ['ALA', 'ALCOHOL JUVENILE VIOLATION'],\n",
       " ['BUA', 'BURGLARY RESIDENTIAL'],\n",
       " ['BUB', 'BURGLARY NON RESIDENTIAL'],\n",
       " ['DCA', 'DISORDERLY CONDUCT FIGHT'],\n",
       " ['DCC', 'DISORDERLY INTOXICATION'],\n",
       " ['DIB', 'DISTURBANCE OTHER'],\n",
       " ['DRA', 'DRUG POSSESSION'],\n",
       " ['DRF', 'DRUG PAREPHERNALIA'],\n",
       " ['FRB', 'FRAUD BY FALSE PRETENSE'],\n",
       " ['FRC', 'FRAUD BY CONFIDENCE GAME'],\n",
       " ['FRD', 'FRAUD BY CREDIT CARD ATM CARD'],\n",
       " ['FRE', 'FRAUD BY IMPERSONATION'],\n",
       " ['FRG', 'FRAUD BY COUNTERFEIT'],\n",
       " ['FRK', 'FRAUD OTHER'],\n",
       " ['PRA', 'PROPERTY FOUND IMPOUNDED'],\n",
       " ['ROA', 'ROBBERY ARMED'],\n",
       " ['ROE', 'ROBBERY SUDDEN SNATCHING'],\n",
       " ['SCA', 'SIMPLE BATTERY'],\n",
       " ['SCB', 'SIMPLE ASSAULT THREATS'],\n",
       " ['SCD', 'SIMPLE STALKING'],\n",
       " ['SXA', 'RAPE'],\n",
       " ['SXE', 'INDECENT EXPOSURE'],\n",
       " ['THA', 'THEFT OF AUTO TAG'],\n",
       " ['THB', 'THEFT OF AUTO PART'],\n",
       " ['THC', 'THEFT FROM MOTOR VEHICLE'],\n",
       " ['THI', 'THEFT BY PICKPOCKETING'],\n",
       " ['THK', 'THEFT OTHER'],\n",
       " ['THL', 'THEFT FROM UNSECURED CONSTRUCTION SITE'],\n",
       " ['TVA', 'THEFT OF AUTO'],\n",
       " ['TVC', 'THEFT OF TRUCK/SUV'],\n",
       " ['TVE', 'THEFT OF BICYCLE'],\n",
       " ['VAA', 'VANDALISM STRUCTURE'],\n",
       " ['VAB', 'VANDALISM VEHICLE'],\n",
       " ['VAC', 'VANDALISM PERSONAL PROPERTY'],\n",
       " ['VEA', 'DUI'],\n",
       " ['VEC', 'TRAFFIC OFFENSE NON DUI'],\n",
       " ['VEG', 'STOLEN VEHICLE RECOVERY'],\n",
       " ['WEA', 'BOMB THREATS'],\n",
       " ['XOT', 'TRESPASSING'],\n",
       " ['ZOA', 'TRESPASS WARNING']]"
      ]
     },
     "execution_count": 28,
     "metadata": {},
     "output_type": "execute_result"
    }
   ],
   "source": [
    "codes = [['offense_code', 'offense']] + [[row[11], row[12].upper()] for row in lookup_data[19:60]]\n",
    "codes"
   ]
  },
  {
   "cell_type": "code",
   "execution_count": 35,
   "metadata": {
    "collapsed": false
   },
   "outputs": [],
   "source": [
    "locations = [['address', 'fid', 'building_name', 'x', 'y']]\n",
    "cases = [['case', 'fid', 'signal']]\n",
    "\n",
    "noneify_if_empty = lambda s: None if s.strip() == '' or s.strip() == '#N/A' else s.strip()\n",
    "\n",
    "for row in lookup_data[3:]:\n",
    "    new_location = [noneify_if_empty(x) for x in row[0:5]]\n",
    "    new_case = [noneify_if_empty(x) for x in row[7:10]]\n",
    "    \n",
    "    if any(v is not None for v in new_location):\n",
    "        locations.append(new_location)\n",
    "    if any(v is not None for v in new_case):\n",
    "        cases.append(new_case)"
   ]
  },
  {
   "cell_type": "code",
   "execution_count": 36,
   "metadata": {
    "collapsed": false
   },
   "outputs": [],
   "source": [
    "with open('./data/converted_crime_data/Crime_pass6_codes.csv', 'w') as f:\n",
    "    writer = csv.writer(f)\n",
    "    for row in codes:\n",
    "        writer.writerow(row)\n",
    "with open('./data/converted_crime_data/Crime_pass6_locations.csv', 'w') as f:\n",
    "    writer = csv.writer(f)\n",
    "    for row in locations:\n",
    "        writer.writerow(row)\n",
    "with open('./data/converted_crime_data/Crime_pass6_cases.csv', 'w') as f:\n",
    "    writer = csv.writer(f)\n",
    "    for row in cases:\n",
    "        writer.writerow(row)"
   ]
  }
 ],
 "metadata": {
  "kernelspec": {
   "display_name": "Python 3",
   "language": "python",
   "name": "python3"
  },
  "language_info": {
   "codemirror_mode": {
    "name": "ipython",
    "version": 3
   },
   "file_extension": ".py",
   "mimetype": "text/x-python",
   "name": "python",
   "nbconvert_exporter": "python",
   "pygments_lexer": "ipython3",
   "version": "3.4.3"
  }
 },
 "nbformat": 4,
 "nbformat_minor": 0
}
